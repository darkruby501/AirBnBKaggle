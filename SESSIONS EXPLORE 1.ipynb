{
 "cells": [
  {
   "cell_type": "code",
   "execution_count": 2,
   "metadata": {
    "collapsed": true
   },
   "outputs": [],
   "source": [
    "# Imports\n",
    "\n",
    "# pandas\n",
    "import pandas as pd\n",
    "from pandas import Series,DataFrame\n",
    "\n",
    "# numpy, matplotlib, seaborn\n",
    "import numpy as np\n",
    "import matplotlib.pyplot as plt\n",
    "import seaborn as sns\n",
    "sns.set_style('whitegrid')\n",
    "%matplotlib inline"
   ]
  },
  {
   "cell_type": "code",
   "execution_count": 76,
   "metadata": {
    "collapsed": false
   },
   "outputs": [
    {
     "name": "stdout",
     "output_type": "stream",
     "text": [
      "<class 'pandas.core.frame.DataFrame'>\n",
      "Int64Index: 213451 entries, 0 to 213450\n",
      "Data columns (total 16 columns):\n",
      "id                         213451 non-null object\n",
      "date_account_created       213451 non-null object\n",
      "timestamp_first_active     213451 non-null int64\n",
      "date_first_booking         88908 non-null object\n",
      "gender                     213451 non-null object\n",
      "age                        125461 non-null float64\n",
      "signup_method              213451 non-null object\n",
      "signup_flow                213451 non-null int64\n",
      "language                   213451 non-null object\n",
      "affiliate_channel          213451 non-null object\n",
      "affiliate_provider         213451 non-null object\n",
      "first_affiliate_tracked    207386 non-null object\n",
      "signup_app                 213451 non-null object\n",
      "first_device_type          213451 non-null object\n",
      "first_browser              213451 non-null object\n",
      "country_destination        213451 non-null object\n",
      "dtypes: float64(1), int64(2), object(13)\n",
      "memory usage: 27.7+ MB\n"
     ]
    }
   ],
   "source": [
    "airbnb_df.info()"
   ]
  },
  {
   "cell_type": "code",
   "execution_count": 77,
   "metadata": {
    "collapsed": false,
    "scrolled": true
   },
   "outputs": [
    {
     "name": "stdout",
     "output_type": "stream",
     "text": [
      "<class 'pandas.core.frame.DataFrame'>\n",
      "Int64Index: 62096 entries, 0 to 62095\n",
      "Data columns (total 15 columns):\n",
      "id                         62096 non-null object\n",
      "date_account_created       62096 non-null object\n",
      "timestamp_first_active     62096 non-null int64\n",
      "date_first_booking         0 non-null float64\n",
      "gender                     62096 non-null object\n",
      "age                        33220 non-null float64\n",
      "signup_method              62096 non-null object\n",
      "signup_flow                62096 non-null int64\n",
      "language                   62096 non-null object\n",
      "affiliate_channel          62096 non-null object\n",
      "affiliate_provider         62096 non-null object\n",
      "first_affiliate_tracked    62076 non-null object\n",
      "signup_app                 62096 non-null object\n",
      "first_device_type          62096 non-null object\n",
      "first_browser              62096 non-null object\n",
      "dtypes: float64(2), int64(2), object(11)\n",
      "memory usage: 7.6+ MB\n"
     ]
    }
   ],
   "source": [
    "test_df.info()"
   ]
  },
  {
   "cell_type": "code",
   "execution_count": 83,
   "metadata": {
    "collapsed": false
   },
   "outputs": [
    {
     "name": "stdout",
     "output_type": "stream",
     "text": [
      "135483\n",
      "73815\n",
      "61668\n",
      "135483\n"
     ]
    }
   ],
   "source": [
    "print(len(session_grouped))\n",
    "print(len(X))\n",
    "print(len(Y))\n",
    "print(len(X)+len(Y))"
   ]
  },
  {
   "cell_type": "code",
   "execution_count": 74,
   "metadata": {
    "collapsed": false
   },
   "outputs": [
    {
     "data": {
      "text/html": [
       "<div>\n",
       "<table border=\"1\" class=\"dataframe\">\n",
       "  <thead>\n",
       "    <tr style=\"text-align: right;\">\n",
       "      <th></th>\n",
       "      <th>id</th>\n",
       "      <th>date_account_created</th>\n",
       "      <th>timestamp_first_active</th>\n",
       "      <th>date_first_booking</th>\n",
       "      <th>gender</th>\n",
       "      <th>age</th>\n",
       "      <th>signup_method</th>\n",
       "      <th>signup_flow</th>\n",
       "      <th>language</th>\n",
       "      <th>affiliate_channel</th>\n",
       "      <th>affiliate_provider</th>\n",
       "      <th>first_affiliate_tracked</th>\n",
       "      <th>signup_app</th>\n",
       "      <th>first_device_type</th>\n",
       "      <th>first_browser</th>\n",
       "      <th>country_destination</th>\n",
       "    </tr>\n",
       "  </thead>\n",
       "  <tbody>\n",
       "    <tr>\n",
       "      <th>0</th>\n",
       "      <td>gxn3p5htnn</td>\n",
       "      <td>2010-06-28</td>\n",
       "      <td>20090319043255</td>\n",
       "      <td>NaN</td>\n",
       "      <td>-unknown-</td>\n",
       "      <td>NaN</td>\n",
       "      <td>facebook</td>\n",
       "      <td>0</td>\n",
       "      <td>en</td>\n",
       "      <td>direct</td>\n",
       "      <td>direct</td>\n",
       "      <td>untracked</td>\n",
       "      <td>Web</td>\n",
       "      <td>Mac Desktop</td>\n",
       "      <td>Chrome</td>\n",
       "      <td>NDF</td>\n",
       "    </tr>\n",
       "    <tr>\n",
       "      <th>1</th>\n",
       "      <td>820tgsjxq7</td>\n",
       "      <td>2011-05-25</td>\n",
       "      <td>20090523174809</td>\n",
       "      <td>NaN</td>\n",
       "      <td>MALE</td>\n",
       "      <td>38</td>\n",
       "      <td>facebook</td>\n",
       "      <td>0</td>\n",
       "      <td>en</td>\n",
       "      <td>seo</td>\n",
       "      <td>google</td>\n",
       "      <td>untracked</td>\n",
       "      <td>Web</td>\n",
       "      <td>Mac Desktop</td>\n",
       "      <td>Chrome</td>\n",
       "      <td>NDF</td>\n",
       "    </tr>\n",
       "    <tr>\n",
       "      <th>2</th>\n",
       "      <td>4ft3gnwmtx</td>\n",
       "      <td>2010-09-28</td>\n",
       "      <td>20090609231247</td>\n",
       "      <td>2010-08-02</td>\n",
       "      <td>FEMALE</td>\n",
       "      <td>56</td>\n",
       "      <td>basic</td>\n",
       "      <td>3</td>\n",
       "      <td>en</td>\n",
       "      <td>direct</td>\n",
       "      <td>direct</td>\n",
       "      <td>untracked</td>\n",
       "      <td>Web</td>\n",
       "      <td>Windows Desktop</td>\n",
       "      <td>IE</td>\n",
       "      <td>US</td>\n",
       "    </tr>\n",
       "    <tr>\n",
       "      <th>3</th>\n",
       "      <td>bjjt8pjhuk</td>\n",
       "      <td>2011-12-05</td>\n",
       "      <td>20091031060129</td>\n",
       "      <td>2012-09-08</td>\n",
       "      <td>FEMALE</td>\n",
       "      <td>42</td>\n",
       "      <td>facebook</td>\n",
       "      <td>0</td>\n",
       "      <td>en</td>\n",
       "      <td>direct</td>\n",
       "      <td>direct</td>\n",
       "      <td>untracked</td>\n",
       "      <td>Web</td>\n",
       "      <td>Mac Desktop</td>\n",
       "      <td>Firefox</td>\n",
       "      <td>other</td>\n",
       "    </tr>\n",
       "    <tr>\n",
       "      <th>4</th>\n",
       "      <td>87mebub9p4</td>\n",
       "      <td>2010-09-14</td>\n",
       "      <td>20091208061105</td>\n",
       "      <td>2010-02-18</td>\n",
       "      <td>-unknown-</td>\n",
       "      <td>41</td>\n",
       "      <td>basic</td>\n",
       "      <td>0</td>\n",
       "      <td>en</td>\n",
       "      <td>direct</td>\n",
       "      <td>direct</td>\n",
       "      <td>untracked</td>\n",
       "      <td>Web</td>\n",
       "      <td>Mac Desktop</td>\n",
       "      <td>Chrome</td>\n",
       "      <td>US</td>\n",
       "    </tr>\n",
       "  </tbody>\n",
       "</table>\n",
       "</div>"
      ],
      "text/plain": [
       "           id date_account_created  timestamp_first_active date_first_booking  \\\n",
       "0  gxn3p5htnn           2010-06-28          20090319043255                NaN   \n",
       "1  820tgsjxq7           2011-05-25          20090523174809                NaN   \n",
       "2  4ft3gnwmtx           2010-09-28          20090609231247         2010-08-02   \n",
       "3  bjjt8pjhuk           2011-12-05          20091031060129         2012-09-08   \n",
       "4  87mebub9p4           2010-09-14          20091208061105         2010-02-18   \n",
       "\n",
       "      gender  age signup_method  signup_flow language affiliate_channel  \\\n",
       "0  -unknown-  NaN      facebook            0       en            direct   \n",
       "1       MALE   38      facebook            0       en               seo   \n",
       "2     FEMALE   56         basic            3       en            direct   \n",
       "3     FEMALE   42      facebook            0       en            direct   \n",
       "4  -unknown-   41         basic            0       en            direct   \n",
       "\n",
       "  affiliate_provider first_affiliate_tracked signup_app first_device_type  \\\n",
       "0             direct               untracked        Web       Mac Desktop   \n",
       "1             google               untracked        Web       Mac Desktop   \n",
       "2             direct               untracked        Web   Windows Desktop   \n",
       "3             direct               untracked        Web       Mac Desktop   \n",
       "4             direct               untracked        Web       Mac Desktop   \n",
       "\n",
       "  first_browser country_destination  \n",
       "0        Chrome                 NDF  \n",
       "1        Chrome                 NDF  \n",
       "2            IE                  US  \n",
       "3       Firefox               other  \n",
       "4        Chrome                  US  "
      ]
     },
     "execution_count": 74,
     "metadata": {},
     "output_type": "execute_result"
    }
   ],
   "source": [
    "# get airbnb & test csv files as a DataFrame\n",
    "airbnb_df  = pd.read_csv('input/train_users_2.csv')\n",
    "session_df = pd.read_csv('input/sessions.csv')\n",
    "test_df    = pd.read_csv('input/test_users.csv')\n",
    "\n",
    "# preview the data\n",
    "airbnb_df.head()"
   ]
  },
  {
   "cell_type": "code",
   "execution_count": 48,
   "metadata": {
    "collapsed": false,
    "scrolled": true
   },
   "outputs": [],
   "source": [
    "session_df['secs_elapsed'].fillna(0,inplace=True)\n"
   ]
  },
  {
   "cell_type": "code",
   "execution_count": 49,
   "metadata": {
    "collapsed": false
   },
   "outputs": [
    {
     "data": {
      "text/html": [
       "<div>\n",
       "<table border=\"1\" class=\"dataframe\">\n",
       "  <thead>\n",
       "    <tr style=\"text-align: right;\">\n",
       "      <th></th>\n",
       "      <th>device_type</th>\n",
       "      <th>secs_elapsed</th>\n",
       "      <th>action</th>\n",
       "    </tr>\n",
       "    <tr>\n",
       "      <th>user_id</th>\n",
       "      <th></th>\n",
       "      <th></th>\n",
       "      <th></th>\n",
       "    </tr>\n",
       "  </thead>\n",
       "  <tbody>\n",
       "    <tr>\n",
       "      <th>00023iyk9l</th>\n",
       "      <td>Mac Desktop</td>\n",
       "      <td>867896</td>\n",
       "      <td>39</td>\n",
       "    </tr>\n",
       "    <tr>\n",
       "      <th>0010k6l0om</th>\n",
       "      <td>Mac Desktop</td>\n",
       "      <td>586543</td>\n",
       "      <td>63</td>\n",
       "    </tr>\n",
       "    <tr>\n",
       "      <th>001wyh0pz8</th>\n",
       "      <td>Android App Unknown Phone/Tablet</td>\n",
       "      <td>282965</td>\n",
       "      <td>90</td>\n",
       "    </tr>\n",
       "    <tr>\n",
       "      <th>0028jgx1x1</th>\n",
       "      <td>-unknown-</td>\n",
       "      <td>297010</td>\n",
       "      <td>31</td>\n",
       "    </tr>\n",
       "    <tr>\n",
       "      <th>002qnbzfs5</th>\n",
       "      <td>iPhone</td>\n",
       "      <td>6487080</td>\n",
       "      <td>782</td>\n",
       "    </tr>\n",
       "  </tbody>\n",
       "</table>\n",
       "</div>"
      ],
      "text/plain": [
       "                                 device_type  secs_elapsed  action\n",
       "user_id                                                           \n",
       "00023iyk9l                       Mac Desktop        867896      39\n",
       "0010k6l0om                       Mac Desktop        586543      63\n",
       "001wyh0pz8  Android App Unknown Phone/Tablet        282965      90\n",
       "0028jgx1x1                         -unknown-        297010      31\n",
       "002qnbzfs5                            iPhone       6487080     782"
      ]
     },
     "execution_count": 49,
     "metadata": {},
     "output_type": "execute_result"
    }
   ],
   "source": [
    "session_grouped = session_df.groupby('user_id').agg({'action': 'count',\n",
    "                                                    'device_type':'first',\n",
    "                                                    'secs_elapsed':sum})\n",
    "\n",
    "session_grouped.head()"
   ]
  },
  {
   "cell_type": "code",
   "execution_count": 50,
   "metadata": {
    "collapsed": false,
    "scrolled": true
   },
   "outputs": [
    {
     "name": "stdout",
     "output_type": "stream",
     "text": [
      "<class 'pandas.core.frame.DataFrame'>\n",
      "Int64Index: 73815 entries, 137021 to 213450\n",
      "Data columns (total 19 columns):\n",
      "id                         73815 non-null object\n",
      "date_account_created       73815 non-null object\n",
      "timestamp_first_active     73815 non-null int64\n",
      "date_first_booking         28774 non-null object\n",
      "gender                     73815 non-null object\n",
      "age                        41567 non-null float64\n",
      "signup_method              73815 non-null object\n",
      "signup_flow                73815 non-null int64\n",
      "language                   73815 non-null object\n",
      "affiliate_channel          73815 non-null object\n",
      "affiliate_provider         73815 non-null object\n",
      "first_affiliate_tracked    73513 non-null object\n",
      "signup_app                 73815 non-null object\n",
      "first_device_type          73815 non-null object\n",
      "first_browser              73815 non-null object\n",
      "country_destination        73815 non-null object\n",
      "device_type                73815 non-null object\n",
      "secs_elapsed               73815 non-null float64\n",
      "action                     73815 non-null int64\n",
      "dtypes: float64(2), int64(3), object(14)\n",
      "memory usage: 11.3+ MB\n"
     ]
    }
   ],
   "source": [
    "X = pd.merge(airbnb_df,session_grouped,left_on='id',right_index=True,how='inner')\n",
    "X.info()"
   ]
  },
  {
   "cell_type": "code",
   "execution_count": 81,
   "metadata": {
    "collapsed": false
   },
   "outputs": [
    {
     "name": "stdout",
     "output_type": "stream",
     "text": [
      "<class 'pandas.core.frame.DataFrame'>\n",
      "Int64Index: 61668 entries, 0 to 62095\n",
      "Data columns (total 18 columns):\n",
      "id                         61668 non-null object\n",
      "date_account_created       61668 non-null object\n",
      "timestamp_first_active     61668 non-null int64\n",
      "date_first_booking         0 non-null float64\n",
      "gender                     61668 non-null object\n",
      "age                        33067 non-null float64\n",
      "signup_method              61668 non-null object\n",
      "signup_flow                61668 non-null int64\n",
      "language                   61668 non-null object\n",
      "affiliate_channel          61668 non-null object\n",
      "affiliate_provider         61668 non-null object\n",
      "first_affiliate_tracked    61662 non-null object\n",
      "signup_app                 61668 non-null object\n",
      "first_device_type          61668 non-null object\n",
      "first_browser              61668 non-null object\n",
      "device_type                61668 non-null object\n",
      "secs_elapsed               61668 non-null float64\n",
      "action                     61668 non-null int64\n",
      "dtypes: float64(3), int64(3), object(12)\n",
      "memory usage: 8.9+ MB\n"
     ]
    }
   ],
   "source": [
    "Y = pd.merge(test_df,session_grouped,left_on='id',right_index=True,how='inner')\n",
    "Y.info()"
   ]
  },
  {
   "cell_type": "code",
   "execution_count": 51,
   "metadata": {
    "collapsed": false,
    "scrolled": true
   },
   "outputs": [
    {
     "data": {
      "text/plain": [
       "193496           0\n",
       "178634           0\n",
       "153537           0\n",
       "161936           0\n",
       "170156           0\n",
       "153536           0\n",
       "178674           0\n",
       "167227           0\n",
       "153515           0\n",
       "161960           0\n",
       "153510           0\n",
       "153491           0\n",
       "178734           0\n",
       "153443           0\n",
       "140044           0\n",
       "157627           0\n",
       "138049           0\n",
       "153410           0\n",
       "141737           0\n",
       "153599           0\n",
       "169103           0\n",
       "210441           0\n",
       "167403           0\n",
       "141679           0\n",
       "157493           0\n",
       "153705           0\n",
       "169096           0\n",
       "157517           0\n",
       "161869           0\n",
       "167344           0\n",
       "            ...   \n",
       "160225    17313962\n",
       "190757    17410776\n",
       "199102    17437843\n",
       "192324    17457689\n",
       "171061    17568042\n",
       "190293    17659943\n",
       "194595    17826996\n",
       "207177    17871468\n",
       "159405    17917697\n",
       "181244    17993298\n",
       "153254    18166881\n",
       "148288    18278880\n",
       "159917    18661486\n",
       "148817    18695780\n",
       "210613    18938536\n",
       "212175    19206674\n",
       "199019    19217362\n",
       "151907    19219513\n",
       "170414    20152270\n",
       "138267    20589720\n",
       "202293    21204044\n",
       "196908    21909851\n",
       "203332    22003139\n",
       "149060    22936008\n",
       "169355    25821427\n",
       "161239    25840100\n",
       "139081    26647578\n",
       "177792    28960128\n",
       "143121    31393292\n",
       "183187    38221363\n",
       "Name: secs_elapsed, dtype: float64"
      ]
     },
     "execution_count": 51,
     "metadata": {},
     "output_type": "execute_result"
    }
   ],
   "source": [
    "X.secs_elapsed.sort_values()"
   ]
  },
  {
   "cell_type": "code",
   "execution_count": 53,
   "metadata": {
    "collapsed": false,
    "scrolled": true
   },
   "outputs": [
    {
     "data": {
      "text/plain": [
       "<matplotlib.collections.PathCollection at 0x2df3e320>"
      ]
     },
     "execution_count": 53,
     "metadata": {},
     "output_type": "execute_result"
    },
    {
     "data": {
      "image/png": "[encoded data removed]",
      "text/plain": [
       "<matplotlib.figure.Figure at 0x1d9de9e8>"
      ]
     },
     "metadata": {},
     "output_type": "display_data"
    }
   ],
   "source": [
    "X['booked'] = X['country_destination']!='NDF'\n",
    "plt.scatter(X['booked'],X['action'],alpha=0.5)\n"
   ]
  },
  {
   "cell_type": "code",
   "execution_count": 54,
   "metadata": {
    "collapsed": false,
    "scrolled": false
   },
   "outputs": [
    {
     "data": {
      "text/plain": [
       "<matplotlib.collections.PathCollection at 0x2df969e8>"
      ]
     },
     "execution_count": 54,
     "metadata": {},
     "output_type": "execute_result"
    },
    {
     "data": {
      "image/png": "[encoded data removed]",
      "text/plain": [
       "<matplotlib.figure.Figure at 0x2d259748>"
      ]
     },
     "metadata": {},
     "output_type": "display_data"
    }
   ],
   "source": [
    "\n",
    "plt.scatter(X['booked'],X['secs_elapsed'],alpha=0.5)\n"
   ]
  },
  {
   "cell_type": "code",
   "execution_count": 86,
   "metadata": {
    "collapsed": false,
    "scrolled": false
   },
   "outputs": [
    {
     "data": {
      "text/plain": [
       "<matplotlib.legend.Legend at 0x41890b70>"
      ]
     },
     "execution_count": 86,
     "metadata": {},
     "output_type": "execute_result"
    },
    {
     "data": {
      "image/png": "[encoded data removed]",
      "text/plain": [
       "<matplotlib.figure.Figure at 0x41890c50>"
      ]
     },
     "metadata": {},
     "output_type": "display_data"
    }
   ],
   "source": [
    "\n",
    "plt.scatter(X['action'],X['secs_elapsed'],c=X['booked'])\n",
    "plt.legend(['No booking','Booked'])"
   ]
  },
  {
   "cell_type": "code",
   "execution_count": 31,
   "metadata": {
    "collapsed": false,
    "scrolled": true
   },
   "outputs": [
    {
     "data": {
      "text/plain": [
       "<matplotlib.axes._subplots.AxesSubplot at 0x2c2e89b0>"
      ]
     },
     "execution_count": 31,
     "metadata": {},
     "output_type": "execute_result"
    },
    {
     "data": {
      "image/png": "[encoded data removed]",
      "text/plain": [
       "<matplotlib.figure.Figure at 0x2c2a65c0>"
      ]
     },
     "metadata": {},
     "output_type": "display_data"
    }
   ],
   "source": [
    "sns.distplot(X['action'],c=)"
   ]
  },
  {
   "cell_type": "code",
   "execution_count": 70,
   "metadata": {
    "collapsed": false
   },
   "outputs": [
    {
     "data": {
      "text/plain": [
       "<matplotlib.axes._subplots.AxesSubplot at 0x2fbdd208>"
      ]
     },
     "execution_count": 70,
     "metadata": {},
     "output_type": "execute_result"
    },
    {
     "data": {
      "image/png": "[encoded data removed]",
      "text/plain": [
       "<matplotlib.figure.Figure at 0x2f8e7128>"
      ]
     },
     "metadata": {},
     "output_type": "display_data"
    }
   ],
   "source": [
    "fig,ax = plt.subplots(figsize=(8,5))\n",
    "sns.distplot(X[X['booked']==True]['secs_elapsed'],hist_kws={\"normed\":1})\n",
    "sns.distplot(X[X['booked']==False]['secs_elapsed'],color='y',hist_kws={\"normed\":1})"
   ]
  },
  {
   "cell_type": "code",
   "execution_count": 73,
   "metadata": {
    "collapsed": false,
    "scrolled": true
   },
   "outputs": [
    {
     "name": "stdout",
     "output_type": "stream",
     "text": [
      "28774\n"
     ]
    },
    {
     "data": {
      "text/plain": [
       "73815"
      ]
     },
     "execution_count": 73,
     "metadata": {},
     "output_type": "execute_result"
    }
   ],
   "source": [
    "print(sum(X['booked']))\n",
    "len(X)"
   ]
  },
  {
   "cell_type": "code",
   "execution_count": 98,
   "metadata": {
    "collapsed": false
   },
   "outputs": [
    {
     "data": {
      "text/plain": [
       "Index(['user_id', 'action', 'action_type', 'action_detail', 'device_type',\n",
       "       'secs_elapsed'],\n",
       "      dtype='object')"
      ]
     },
     "execution_count": 98,
     "metadata": {},
     "output_type": "execute_result"
    }
   ],
   "source": [
    "session_df.columns"
   ]
  },
  {
   "cell_type": "code",
   "execution_count": 99,
   "metadata": {
    "collapsed": false
   },
   "outputs": [
    {
     "data": {
      "text/plain": [
       "action                     action_type \n",
       "show                       view            2081113\n",
       "search_results             click            723124\n",
       "personalize                data             704782\n",
       "index                      view             677575\n",
       "search                     click            529424\n",
       "ajax_refresh_subtotal      click            486414\n",
       "similar_listings           data             363423\n",
       "update                     submit           350086\n",
       "social_connections         data             335577\n",
       "reviews                    data             317415\n",
       "active                     -unknown-        187370\n",
       "dashboard                  view             152515\n",
       "header_userpic             data             141315\n",
       "collections                view             122666\n",
       "index                      -unknown-        111875\n",
       "edit                       view             108531\n",
       "create                     submit           105297\n",
       "show                       -unknown-         97069\n",
       "unavailabilities           data              77475\n",
       "qt2                        view              64585\n",
       "confirm_email              click             58555\n",
       "identity                   -unknown-         53550\n",
       "ajax_check_dates           click             52426\n",
       "show_personalize           data              50353\n",
       "requested                  view              48155\n",
       "create                     -unknown-         46958\n",
       "ask_question               submit            43972\n",
       "calendar_tab_inner2        -unknown-         41947\n",
       "authenticate               submit            38302\n",
       "travel_plans_current       view              38139\n",
       "                                            ...   \n",
       "use_mobile_site            -unknown-             2\n",
       "views_campaign             -unknown-             2\n",
       "views_campaign_rules       -unknown-             2\n",
       "south-america              -unknown-             2\n",
       "preapproval                message_post          2\n",
       "report                     -unknown-             2\n",
       "recommendation_page        -unknown-             2\n",
       "set_default                -unknown-             2\n",
       "sandy                      -unknown-             2\n",
       "rest-of-world              -unknown-             2\n",
       "reset_calendar             -unknown-             2\n",
       "friend_listing             -unknown-             2\n",
       "refund_guest_cancellation  submit                2\n",
       "recommendations            -unknown-             2\n",
       "plaxo_cb                   -unknown-             1\n",
       "deactivate                 -unknown-             1\n",
       "deactivated                view                  1\n",
       "reactivate                 -unknown-             1\n",
       "nyan                       -unknown-             1\n",
       "update_message             -unknown-             1\n",
       "acculynk_bin_check_failed  -unknown-             1\n",
       "events                     -unknown-             1\n",
       "wishlists                  -unknown-             1\n",
       "login                      -unknown-             1\n",
       "deauthorize                -unknown-             1\n",
       "desks                      -unknown-             1\n",
       "revert_to_admin            -unknown-             1\n",
       "host_cancel                -unknown-             1\n",
       "set_minimum_payout_amount  -unknown-             1\n",
       "sldf                       -unknown-             1\n",
       "Name: user_id, dtype: int64"
      ]
     },
     "execution_count": 99,
     "metadata": {},
     "output_type": "execute_result"
    }
   ],
   "source": [
    "A = session_df.groupby(['action','action_type']).count()['user_id'].sort_values(ascending=False)\n",
    "A"
   ]
  },
  {
   "cell_type": "code",
   "execution_count": 109,
   "metadata": {
    "collapsed": false
   },
   "outputs": [
    {
     "name": "stdout",
     "output_type": "stream",
     "text": [
      "248\n",
      "action                                   action_type \n",
      "show                                     view            2081113\n",
      "search_results                           click            723124\n",
      "personalize                              data             704782\n",
      "index                                    view             677575\n",
      "search                                   click            529424\n",
      "ajax_refresh_subtotal                    click            486414\n",
      "similar_listings                         data             363423\n",
      "update                                   submit           350086\n",
      "social_connections                       data             335577\n",
      "reviews                                  data             317415\n",
      "active                                   -unknown-        187370\n",
      "dashboard                                view             152515\n",
      "header_userpic                           data             141315\n",
      "collections                              view             122666\n",
      "index                                    -unknown-        111875\n",
      "edit                                     view             108531\n",
      "create                                   submit           105297\n",
      "show                                     -unknown-         97069\n",
      "unavailabilities                         data              77475\n",
      "qt2                                      view              64585\n",
      "confirm_email                            click             58555\n",
      "identity                                 -unknown-         53550\n",
      "ajax_check_dates                         click             52426\n",
      "show_personalize                         data              50353\n",
      "requested                                view              48155\n",
      "create                                   -unknown-         46958\n",
      "ask_question                             submit            43972\n",
      "calendar_tab_inner2                      -unknown-         41947\n",
      "authenticate                             submit            38302\n",
      "travel_plans_current                     view              38139\n",
      "                                                          ...   \n",
      "show_code                                -unknown-           259\n",
      "departments                              -unknown-           246\n",
      "guarantee                                view                246\n",
      "book                                     view                243\n",
      "submit_contact                           -unknown-           241\n",
      "clickthrough                             -unknown-           238\n",
      "notifications                            -unknown-           234\n",
      "update_hide_from_search_engines          -unknown-           226\n",
      "forgot_password                          submit              224\n",
      "guest_booked_elsewhere                   message_post        221\n",
      "destroy                                  -unknown-           220\n",
      "phone_verification_phone_number_removed  -unknown-           206\n",
      "toggle_starred_thread                    click               206\n",
      "phone_verification_call_taking_too_long  -unknown-           192\n",
      "relationship                             -unknown-           187\n",
      "countries                                -unknown-           182\n",
      "become_user                              -unknown-           180\n",
      "available                                -unknown-           179\n",
      "ajax_price_and_availability              click               175\n",
      "why_host                                 -unknown-           174\n",
      "change_password                          submit              172\n",
      "update_friends_display                   -unknown-           171\n",
      "office_location                          -unknown-           163\n",
      "country_options                          -unknown-           155\n",
      "email_itinerary_colorbox                 -unknown-           140\n",
      "invalid_action                           -unknown-           139\n",
      "home_safety_landing                      -unknown-           134\n",
      "clear_reservation                        -unknown-           119\n",
      "remove_dashboard_alert                   click               114\n",
      "place_worth                              view                106\n",
      "Name: user_id, dtype: int64\n"
     ]
    }
   ],
   "source": [
    "print(len(A[A>100]))\n",
    "print(A[A>100])"
   ]
  }
 ],
 "metadata": {
  "kernelspec": {
   "display_name": "Python 3",
   "language": "python",
   "name": "python3"
  },
  "language_info": {
   "codemirror_mode": {
    "name": "ipython",
    "version": 3
   },
   "file_extension": ".py",
   "mimetype": "text/x-python",
   "name": "python",
   "nbconvert_exporter": "python",
   "pygments_lexer": "ipython3",
   "version": "3.4.3"
  }
 },
 "nbformat": 4,
 "nbformat_minor": 0
}
