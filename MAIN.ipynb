{
 "cells": [
  {
   "cell_type": "markdown",
   "metadata": {},
   "source": [
    "# MAIN\n",
    "This is the master notebook for my AirBnB Recruiting Challenge work. Changes and additions are made by branching and merging.\n",
    "\n",
    "Other possible branches:\n",
    "* Explore\n",
    "* Prepocessing\n",
    "* Features\n",
    "* Models\n",
    "* Multiclass\n",
    "* Imbalance\n",
    "* Validation\n",
    "* Ensembels\n"
   ]
  },
  {
   "cell_type": "markdown",
   "metadata": {},
   "source": [
    "## Imports"
   ]
  },
  {
   "cell_type": "code",
   "execution_count": 2,
   "metadata": {
    "collapsed": false
   },
   "outputs": [
    {
     "name": "stderr",
     "output_type": "stream",
     "text": [
      "c:\\Anaconda3\\lib\\site-packages\\matplotlib\\__init__.py:872: UserWarning: axes.color_cycle is deprecated and replaced with axes.prop_cycle; please use the latter.\n",
      "  warnings.warn(self.msg_depr % (key, alt_key))\n"
     ]
    }
   ],
   "source": [
    "import numpy as np\n",
    "import pandas as pd\n",
    "import matplotlib.pyplot as plt\n",
    "import seaborn as sns\n",
    "\n",
    "# Draw inline\n",
    "%matplotlib inline\n",
    "\n",
    "# Set figure aesthetics\n",
    "sns.set_style(\"whitegrid\") #, {'ytick.major.size': 10.0})\n",
    "#sns.set_context(\"talk\")"
   ]
  },
  {
   "cell_type": "code",
   "execution_count": 3,
   "metadata": {
    "collapsed": false
   },
   "outputs": [],
   "source": [
    "# Load data into DataFrames\n",
    "train_users = pd.read_csv('input/train_users_2.csv')\n",
    "test_users = pd.read_csv('input/test_users.csv')"
   ]
  },
  {
   "cell_type": "code",
   "execution_count": null,
   "metadata": {
    "collapsed": true
   },
   "outputs": [],
   "source": []
  },
  {
   "cell_type": "markdown",
   "metadata": {
    "collapsed": true
   },
   "source": [
    "## Measure: NDCG"
   ]
  },
  {
   "cell_type": "code",
   "execution_count": 7,
   "metadata": {
    "collapsed": false
   },
   "outputs": [],
   "source": [
    "from rank_metrics import ndcg_at_k\n",
    "from sklearn.metrics import make_scorer\n",
    "\n",
    "def ndcg_wrapper(y_true,y_pred_proba):\n",
    "    \n",
    "    Y = np.fliplr(y_pred_proba.argsort())\n",
    "        \n",
    "    R = []\n",
    "    NDCG = []\n",
    "    for i in range(0,y_test.size):\n",
    "        r = (Y[i,:]==y_true[i]).astype(int)\n",
    "        R.append(r)\n",
    "        #ndcg_at_k([0,0,1],5,method=1)\n",
    "        NDCG.append(ndcg_at_k(r,5,method=1))\n",
    "    \n",
    "    #print(NDCG)\n",
    "    #return NDCG,R\n",
    "    return np.mean(NDCG)\n",
    "\n",
    "ndcg_scorer = make_scorer(ndcg_wrapper, greater_is_better=True, needs_proba=True)"
   ]
  },
  {
   "cell_type": "code",
   "execution_count": null,
   "metadata": {
    "collapsed": true
   },
   "outputs": [],
   "source": []
  },
  {
   "cell_type": "code",
   "execution_count": null,
   "metadata": {
    "collapsed": true
   },
   "outputs": [],
   "source": []
  },
  {
   "cell_type": "markdown",
   "metadata": {},
   "source": [
    "## Preprocessing"
   ]
  },
  {
   "cell_type": "code",
   "execution_count": 4,
   "metadata": {
    "collapsed": true
   },
   "outputs": [],
   "source": [
    "def preprocess_missing(df):\n",
    "    ##AGE\n",
    "    #Remove all ages outside of range, set to -1 for separate categorisation //impute for logistic regression\n",
    "    df.loc[df.age > 95, 'age'] = -1\n",
    "    df.loc[df.age < 13, 'age'] = -1\n",
    "    df.fillna(-1,inplace=True)\n",
    "\n",
    "    ## GENDER\n",
    "    # Set missing values to own category\n",
    "    df['gender'].replace('-unknown-',np.nan, inplace=True)\n",
    "    #df['gender'].fillna('MISSING',inplace=True)\n",
    "\n",
    "    ## FIRST AFFILIATE TRACKED\n",
    "    # Set missing to untracked, hopefully the same\n",
    "    df['first_affiliate_tracked'].fillna('untracked',inplace=True)\n",
    "    \n",
    "    ## Get rid of date_first_booking\n",
    "    df.drop(['id','date_first_booking'],axis=1,inplace=True)\n",
    "    \n",
    "    return df\n",
    "\n",
    "def preprocess_features(df):\n",
    "    ## dates\n",
    "    \n",
    "    # date_account_created\n",
    "    dac = np.vstack(df.date_account_created.astype(str).apply(lambda x: list(map(int, x.split('-')))).values)\n",
    "    df['dac_year'] = dac[:,0]\n",
    "    df['dac_month'] = dac[:,1]\n",
    "    df['dac_day'] = dac[:,2]\n",
    "    df.drop(['date_account_created'],axis=1,inplace=True)\n",
    "    \n",
    "    #time first active\n",
    "    tfa = np.vstack(df.timestamp_first_active.astype(str).apply(lambda x: list(map(int, [x[:4],x[4:6],x[6:8],x[8:10],x[10:12],x[12:14]]))).values)\n",
    "    df['tfa_year'] = tfa[:,0]\n",
    "    df['tfa_month'] = tfa[:,1]\n",
    "    df['tfa_day'] = tfa[:,2]\n",
    "    df['tfa_hour'] = tfa[:,3]\n",
    "    df.drop(['timestamp_first_active'],axis=1,inplace=True)\n",
    "    \n",
    "    \n",
    "    ## One-Hot Encoding\n",
    "    categorical_features = ['affiliate_channel','affiliate_provider','first_affiliate_tracked',\n",
    "                            'first_browser','first_device_type','gender','language','signup_app','signup_flow','signup_method'\n",
    "                           ]\n",
    "    \n",
    "    df = pd.get_dummies(df,columns=categorical_features)\n",
    "    \n",
    "    return df\n",
    "\n",
    "def preprocess_all(df):\n",
    "\n",
    "    df_p = preprocess_missing(df)\n",
    "    df_p = preprocess_features(df_p)\n",
    "    \n",
    "    return(df_p)"
   ]
  },
  {
   "cell_type": "code",
   "execution_count": 5,
   "metadata": {
    "collapsed": false,
    "scrolled": true
   },
   "outputs": [],
   "source": [
    "X_master = preprocess_all(train_users.drop(['country_destination'],axis=1))\n",
    "y_master = train_users['country_destination']\n",
    "train_master = pd.concat([X_master,y_master],axis=1)"
   ]
  },
  {
   "cell_type": "code",
   "execution_count": null,
   "metadata": {
    "collapsed": true
   },
   "outputs": [],
   "source": []
  },
  {
   "cell_type": "code",
   "execution_count": null,
   "metadata": {
    "collapsed": true
   },
   "outputs": [],
   "source": []
  },
  {
   "cell_type": "markdown",
   "metadata": {},
   "source": [
    "## Classifiers"
   ]
  },
  {
   "cell_type": "code",
   "execution_count": 12,
   "metadata": {
    "collapsed": true
   },
   "outputs": [],
   "source": [
    "from sklearn import preprocessing\n",
    "from sklearn.cross_validation import cross_val_score\n",
    "from sklearn.grid_search import GridSearchCV\n",
    "from sklearn.cross_validation import train_test_split\n",
    "from sklearn import metrics"
   ]
  },
  {
   "cell_type": "markdown",
   "metadata": {},
   "source": [
    "### Logistic Regression\n",
    "Logistic Regression without Grid Search on gets CrossVal of 0.657, which is a mild improvement over 0.583 for setting all NDF. Balancing classes brings it down negligably to 0.646\n",
    "Grid search doesn't seemed to have helped - 0.658 with C of 11.94\n",
    "After scaling age, this now appears third largest among the coefficients, though seemingly a decrease in accuracy to 0.63\n",
    "\n",
    "Discretizing age has increased the score to 0.667, on 1% up. It's something.But none of the age variables features in important coefficients.\n",
    "Reintoducing age as continuous (with NaNs imputed) together with discrete , brings things now up to 0.675. Huh\n",
    "\n",
    "Interesting. The score on the training data is almost the same. So we might not be overfitting and just have too high bias.\n",
    "\n",
    "And now the age brackets are appearing in the coeffs. How very strange. Seems that having entered your age validly correlates with actually booking. Now gender isn't showing up though. Could there just be the single latent variable of \"filling out the form properly?\"\n",
    "\n",
    "Next run of GridSearch gives ~5 for C, stronger regularisation, and a score of 0.688, which is several points up from when I started.\n",
    "\n",
    "----------------- \n",
    "\n",
    "Changing now to multiclass, helps with developing NDCG.\n"
   ]
  },
  {
   "cell_type": "code",
   "execution_count": 13,
   "metadata": {
    "collapsed": false,
    "scrolled": true
   },
   "outputs": [
    {
     "name": "stderr",
     "output_type": "stream",
     "text": [
      "c:\\Anaconda3\\lib\\site-packages\\sklearn\\preprocessing\\data.py:324: DeprecationWarning: Passing 1d arrays as data is deprecated in 0.17 and will raise ValueError in 0.19. Reshape your data either using X.reshape(-1, 1) if your data has a single feature or X.reshape(1, -1) if it contains a single sample.\n",
      "  warnings.warn(DEPRECATION_MSG_1D, DeprecationWarning)\n",
      "c:\\Anaconda3\\lib\\site-packages\\sklearn\\preprocessing\\data.py:359: DeprecationWarning: Passing 1d arrays as data is deprecated in 0.17 and will raise ValueError in 0.19. Reshape your data either using X.reshape(-1, 1) if your data has a single feature or X.reshape(1, -1) if it contains a single sample.\n",
      "  warnings.warn(DEPRECATION_MSG_1D, DeprecationWarning)\n"
     ]
    }
   ],
   "source": [
    "## Customise Train and Test for Logistic Regression\n",
    "\n",
    "\n",
    "## DISCRETIZE\n",
    "X_log = X_master # Create X just for Logistic Regression\n",
    "A = pd.cut(X_log['age'],list(range(14,100,5)),right=True)\n",
    "A = pd.get_dummies(A)\n",
    "X_log= pd.concat([X_log,A],axis=1)\n",
    "#X_train.drop(['age'],axis=1,inplace=True)\n",
    "\n",
    "\n",
    "## IMPUTE VALUES AND SCALE\n",
    "\n",
    "X_log['age'].replace(-1,np.median(X_log['age']),inplace=True)\n",
    "scaler = preprocessing.MinMaxScaler()\n",
    "X_log['age'] = scaler.fit_transform(X_log['age'])\n"
   ]
  },
  {
   "cell_type": "code",
   "execution_count": 15,
   "metadata": {
    "collapsed": false
   },
   "outputs": [
    {
     "name": "stdout",
     "output_type": "stream",
     "text": [
      "[('AU', 0), ('CA', 1), ('DE', 2), ('ES', 3), ('FR', 4), ('GB', 5), ('IT', 6), ('NDF', 7), ('NL', 8), ('PT', 9), ('US', 10), ('other', 11)]\n"
     ]
    }
   ],
   "source": [
    "# Try Binary Problem First\n",
    "#y_log = y_master !='NDF'\n",
    "\n",
    "\n",
    "from sklearn.preprocessing import LabelEncoder\n",
    "le = LabelEncoder()\n",
    "y_log = le.fit_transform(y_master)\n",
    "print(list(zip(le.classes_,range(0,12))))"
   ]
  },
  {
   "cell_type": "code",
   "execution_count": null,
   "metadata": {
    "collapsed": true
   },
   "outputs": [],
   "source": []
  },
  {
   "cell_type": "code",
   "execution_count": null,
   "metadata": {
    "collapsed": true
   },
   "outputs": [],
   "source": []
  },
  {
   "cell_type": "code",
   "execution_count": 17,
   "metadata": {
    "collapsed": false
   },
   "outputs": [],
   "source": []
  },
  {
   "cell_type": "code",
   "execution_count": 35,
   "metadata": {
    "collapsed": false
   },
   "outputs": [
    {
     "data": {
      "text/plain": [
       "LogisticRegressionCV(Cs=5, class_weight='balanced', cv=None, dual=False,\n",
       "           fit_intercept=True, intercept_scaling=1.0, max_iter=100,\n",
       "           multi_class='ovr', n_jobs=2, penalty='l2', random_state=None,\n",
       "           refit=True, scoring=None, solver='lbfgs', tol=0.0001, verbose=0)"
      ]
     },
     "execution_count": 35,
     "metadata": {},
     "output_type": "execute_result"
    }
   ],
   "source": [
    "from sklearn.linear_model import LogisticRegressionCV\n",
    "clf = LogisticRegressionCV(Cs=5,n_jobs=2,class_weight='balanced')\n",
    "clf.fit(X_log,y_log)\n"
   ]
  },
  {
   "cell_type": "code",
   "execution_count": 41,
   "metadata": {
    "collapsed": false
   },
   "outputs": [
    {
     "data": {
      "text/plain": [
       "{0: array([[ 0.99747028,  0.99747028,  0.99747028,  0.99747028,  0.99747028],\n",
       "        [ 0.99747017,  0.99747017,  0.99747017,  0.99747017,  0.99747017],\n",
       "        [ 0.99748405,  0.99748405,  0.99748405,  0.99748405,  0.99748405]]),\n",
       " 1: array([[ 0.99331028,  0.99331028,  0.99331028,  0.99331028,  0.99331028],\n",
       "        [ 0.99331   ,  0.99331   ,  0.99331   ,  0.99331   ,  0.99331   ],\n",
       "        [ 0.99330953,  0.99330953,  0.99330953,  0.99330953,  0.99330953]]),\n",
       " 2: array([[ 0.99502488,  0.99502488,  0.99502488,  0.99502488,  0.99502488],\n",
       "        [ 0.99502467,  0.99502467,  0.99502467,  0.99502467,  0.99502467],\n",
       "        [ 0.99503837,  0.99503837,  0.99503837,  0.99503837,  0.99503837]]),\n",
       " 3: array([[ 0.98945948,  0.98945948,  0.98945948,  0.98945948,  0.98945948],\n",
       "        [ 0.98945904,  0.98945904,  0.98945904,  0.98945904,  0.98945904],\n",
       "        [ 0.98947235,  0.98947235,  0.98947235,  0.98947235,  0.98947235]]),\n",
       " 4: array([[ 0.97645951,  0.97645951,  0.97645951,  0.97645951,  0.97645951],\n",
       "        [ 0.97647257,  0.97647257,  0.97647257,  0.97647257,  0.97647257],\n",
       "        [ 0.97647092,  0.97647092,  0.97647092,  0.97647092,  0.97647092]]),\n",
       " 5: array([[ 0.98910813,  0.98910813,  0.98910813,  0.98910813,  0.98910813],\n",
       "        [ 0.98910767,  0.98910767,  0.98910767,  0.98910767,  0.98910767],\n",
       "        [ 0.98912096,  0.98912096,  0.98912096,  0.98912096,  0.98912096]]),\n",
       " 6: array([[ 0.98671895,  0.98671895,  0.98671895,  0.98671895,  0.98671895],\n",
       "        [ 0.98671839,  0.98671839,  0.98671839,  0.98671839,  0.98671839],\n",
       "        [ 0.98671745,  0.98671745,  0.98671745,  0.98671745,  0.98671745]]),\n",
       " 7: array([[ 0.41654721,  0.41741856,  0.41789639,  0.41781207,  0.41876774],\n",
       "        [ 0.41653666,  0.41653666,  0.41656477,  0.41656477,  0.41656477],\n",
       "        [ 0.41649566,  0.41652377,  0.41665027,  0.41670649,  0.41670649]]),\n",
       " 8: array([[ 0.99643028,  0.99643028,  0.99643028,  0.99643028,  0.99643028],\n",
       "        [ 0.99643013,  0.99643013,  0.99643013,  0.99643013,  0.99643013],\n",
       "        [ 0.99642988,  0.99642988,  0.99642988,  0.99642988,  0.99642988]]),\n",
       " 9: array([[ 0.99897406,  0.99897406,  0.99897406,  0.99897406,  0.99897406],\n",
       "        [ 0.99898807,  0.99898807,  0.99898807,  0.99898807,  0.99898807],\n",
       "        [ 0.998988  ,  0.998988  ,  0.998988  ,  0.998988  ,  0.998988  ]]),\n",
       " 10: array([[ 0.70778874,  0.70778874,  0.70778874,  0.70778874,  0.70778874],\n",
       "        [ 0.70777642,  0.70777642,  0.70777642,  0.70777642,  0.70777642],\n",
       "        [ 0.70775588,  0.70775588,  0.70775588,  0.70775588,  0.70775588]]),\n",
       " 11: array([[ 0.95270821,  0.95270821,  0.95270821,  0.95270821,  0.95270821],\n",
       "        [ 0.95270622,  0.95270622,  0.95270622,  0.95270622,  0.95270622],\n",
       "        [ 0.95271695,  0.95271695,  0.95271695,  0.95271695,  0.95271695]])}"
      ]
     },
     "execution_count": 41,
     "metadata": {},
     "output_type": "execute_result"
    }
   ],
   "source": [
    "clf.scores_"
   ]
  },
  {
   "cell_type": "code",
   "execution_count": 27,
   "metadata": {
    "collapsed": false
   },
   "outputs": [
    {
     "data": {
      "text/plain": [
       "0.81767350409983153"
      ]
     },
     "execution_count": 27,
     "metadata": {},
     "output_type": "execute_result"
    }
   ],
   "source": [
    "X_train, X_test, y_train, y_test = train_test_split(X_log, y_log, random_state=0)\n",
    "ndcg_scorer(clf,X_test,y_test)\n"
   ]
  },
  {
   "cell_type": "code",
   "execution_count": 33,
   "metadata": {
    "collapsed": false,
    "scrolled": false
   },
   "outputs": [
    {
     "name": "stdout",
     "output_type": "stream",
     "text": [
      "NDCG =  0.785500539158\n",
      "Accuracy =  0.586380076083\n",
      "Recall =  0.586380076083\n",
      "Precision =  0.343841593627\n"
     ]
    },
    {
     "name": "stderr",
     "output_type": "stream",
     "text": [
      "c:\\Anaconda3\\lib\\site-packages\\sklearn\\metrics\\classification.py:1304: DeprecationWarning: The default `weighted` averaging is deprecated, and from version 0.18, use of precision, recall or F-score with multiclass or multilabel data or pos_label=None will result in an exception. Please set an explicit value for `average`, one of (None, 'micro', 'macro', 'weighted', 'samples'). In cross validation use, for instance, scoring=\"f1_weighted\" instead of scoring=\"f1\".\n",
      "  sample_weight=sample_weight)\n",
      "c:\\Anaconda3\\lib\\site-packages\\sklearn\\metrics\\classification.py:1203: DeprecationWarning: The default `weighted` averaging is deprecated, and from version 0.18, use of precision, recall or F-score with multiclass or multilabel data or pos_label=None will result in an exception. Please set an explicit value for `average`, one of (None, 'micro', 'macro', 'weighted', 'samples'). In cross validation use, for instance, scoring=\"f1_weighted\" instead of scoring=\"f1\".\n",
      "  sample_weight=sample_weight)\n",
      "c:\\Anaconda3\\lib\\site-packages\\sklearn\\metrics\\classification.py:1074: UndefinedMetricWarning: Precision is ill-defined and being set to 0.0 in labels with no predicted samples.\n",
      "  'precision', 'predicted', average, warn_for)\n"
     ]
    }
   ],
   "source": [
    "from sklearn.linear_model import LogisticRegression\n",
    "\n",
    "clf = LogisticRegression(C = 0.0001,n_jobs=2)\n",
    "\n",
    "X_train, X_test, y_train, y_test = train_test_split(X_log, y_log, random_state=0)\n",
    "clf.fit(X_train,y_train)\n",
    "y_pred = clf.predict(X_test)\n",
    "\n",
    "print('NDCG = ',ndcg_scorer(clf,X_test,y_test))\n",
    "print('Accuracy = ',metrics.accuracy_score(y_test,y_pred))\n",
    "print('Recall = ',metrics.recall_score(y_test,y_pred))\n",
    "print('Precision = ',metrics.precision_score(y_test,y_pred))"
   ]
  },
  {
   "cell_type": "code",
   "execution_count": 274,
   "metadata": {
    "collapsed": false,
    "scrolled": false
   },
   "outputs": [
    {
     "name": "stdout",
     "output_type": "stream",
     "text": [
      "Accuracy =  0.689564489531\n",
      "Recall =  0.524687294273\n",
      "Precision =  0.661697831953\n"
     ]
    }
   ],
   "source": [
    "## Test for overfitting:\n",
    "y_pred = clf.predict(X_train)\n",
    "print('Accuracy = ',metrics.accuracy_score(y_train,y_pred))\n",
    "print('Recall = ',metrics.recall_score(y_train,y_pred))\n",
    "print('Precision = ',metrics.precision_score(y_train,y_pred))"
   ]
  },
  {
   "cell_type": "code",
   "execution_count": 22,
   "metadata": {
    "collapsed": false
   },
   "outputs": [
    {
     "data": {
      "text/plain": [
       "array([ 0.04641589])"
      ]
     },
     "execution_count": 22,
     "metadata": {},
     "output_type": "execute_result"
    }
   ],
   "source": [
    "clf.C_"
   ]
  },
  {
   "cell_type": "markdown",
   "metadata": {},
   "source": [
    "### Cross Validate"
   ]
  },
  {
   "cell_type": "code",
   "execution_count": 276,
   "metadata": {
    "collapsed": false
   },
   "outputs": [
    {
     "ename": "SyntaxError",
     "evalue": "invalid or missing encoding declaration for 'c:\\\\Anaconda3\\\\lib\\\\site-packages\\\\pandas\\\\lib.cp35-win_amd64.pyd' (<string>)",
     "output_type": "error",
     "traceback": [
      "\u001b[1;36m  File \u001b[1;32m\"<string>\"\u001b[1;36m, line \u001b[1;32munknown\u001b[0m\n\u001b[1;31mSyntaxError\u001b[0m\u001b[1;31m:\u001b[0m invalid or missing encoding declaration for 'c:\\\\Anaconda3\\\\lib\\\\site-packages\\\\pandas\\\\lib.cp35-win_amd64.pyd'\n"
     ]
    }
   ],
   "source": [
    "print(np.mean(cross_val_score(clf,X_log,y_log,cv=10,scoring='accuracy',n_jobs=3)))"
   ]
  },
  {
   "cell_type": "code",
   "execution_count": 140,
   "metadata": {
    "collapsed": false
   },
   "outputs": [
    {
     "data": {
      "text/plain": [
       "0.80833794008665161"
      ]
     },
     "execution_count": 140,
     "metadata": {},
     "output_type": "execute_result"
    }
   ],
   "source": [
    "## Compare with basic.\n",
    "\n",
    "from sklearn.dummy import DummyClassifier\n",
    "Dummy = DummyClassifier(strategy='prior').fit(X_train,y_train)\n",
    "ndcg_scorer(Dummy,X_test,y_test)"
   ]
  },
  {
   "cell_type": "markdown",
   "metadata": {},
   "source": [
    "### Feature Importances"
   ]
  },
  {
   "cell_type": "code",
   "execution_count": 42,
   "metadata": {
    "collapsed": false
   },
   "outputs": [
    {
     "ename": "Exception",
     "evalue": "Data must be 1-dimensional",
     "output_type": "error",
     "traceback": [
      "\u001b[1;31m---------------------------------------------------------------------------\u001b[0m",
      "\u001b[1;31mException\u001b[0m                                 Traceback (most recent call last)",
      "\u001b[1;32m<ipython-input-42-b463b24b233e>\u001b[0m in \u001b[0;36m<module>\u001b[1;34m()\u001b[0m\n\u001b[1;32m----> 1\u001b[1;33m \u001b[0mFeatureImportances\u001b[0m \u001b[1;33m=\u001b[0m \u001b[0mpd\u001b[0m\u001b[1;33m.\u001b[0m\u001b[0mDataFrame\u001b[0m\u001b[1;33m(\u001b[0m\u001b[0mdata\u001b[0m \u001b[1;33m=\u001b[0m \u001b[1;33m{\u001b[0m \u001b[1;34m'coefs'\u001b[0m\u001b[1;33m:\u001b[0m \u001b[0mclf\u001b[0m\u001b[1;33m.\u001b[0m\u001b[0mcoef_\u001b[0m\u001b[1;33m.\u001b[0m\u001b[0msqueeze\u001b[0m\u001b[1;33m(\u001b[0m\u001b[1;33m)\u001b[0m\u001b[1;33m,\u001b[0m \u001b[1;34m'abs coefs'\u001b[0m \u001b[1;33m:\u001b[0m \u001b[0mnp\u001b[0m\u001b[1;33m.\u001b[0m\u001b[0mabs\u001b[0m\u001b[1;33m(\u001b[0m\u001b[0mclf\u001b[0m\u001b[1;33m.\u001b[0m\u001b[0mcoef_\u001b[0m\u001b[1;33m.\u001b[0m\u001b[0msqueeze\u001b[0m\u001b[1;33m(\u001b[0m\u001b[1;33m)\u001b[0m\u001b[1;33m)\u001b[0m\u001b[1;33m}\u001b[0m\u001b[1;33m,\u001b[0m\u001b[0mindex\u001b[0m\u001b[1;33m=\u001b[0m\u001b[0mX_log\u001b[0m\u001b[1;33m.\u001b[0m\u001b[0mcolumns\u001b[0m\u001b[1;33m)\u001b[0m\u001b[1;33m\u001b[0m\u001b[0m\n\u001b[0m\u001b[0;32m      2\u001b[0m \u001b[0mFeatureImportances\u001b[0m\u001b[1;33m.\u001b[0m\u001b[0msort_values\u001b[0m\u001b[1;33m(\u001b[0m\u001b[0mby\u001b[0m\u001b[1;33m=\u001b[0m\u001b[1;34m'abs coefs'\u001b[0m\u001b[1;33m,\u001b[0m\u001b[0mascending\u001b[0m\u001b[1;33m=\u001b[0m\u001b[1;32mFalse\u001b[0m\u001b[1;33m,\u001b[0m\u001b[0minplace\u001b[0m\u001b[1;33m=\u001b[0m\u001b[1;32mTrue\u001b[0m\u001b[1;33m)\u001b[0m\u001b[1;33m\u001b[0m\u001b[0m\n\u001b[0;32m      3\u001b[0m \u001b[1;33m\u001b[0m\u001b[0m\n\u001b[0;32m      4\u001b[0m \u001b[0mk\u001b[0m \u001b[1;33m=\u001b[0m \u001b[1;36m50\u001b[0m\u001b[1;33m\u001b[0m\u001b[0m\n\u001b[0;32m      5\u001b[0m \u001b[0mplt\u001b[0m\u001b[1;33m.\u001b[0m\u001b[0mfigure\u001b[0m\u001b[1;33m(\u001b[0m\u001b[0mfigsize\u001b[0m\u001b[1;33m=\u001b[0m\u001b[1;33m(\u001b[0m\u001b[1;36m10\u001b[0m\u001b[1;33m,\u001b[0m\u001b[1;36m10\u001b[0m\u001b[1;33m)\u001b[0m\u001b[1;33m)\u001b[0m\u001b[1;33m\u001b[0m\u001b[0m\n",
      "\u001b[1;32mc:\\Anaconda3\\lib\\site-packages\\pandas\\core\\frame.py\u001b[0m in \u001b[0;36m__init__\u001b[1;34m(self, data, index, columns, dtype, copy)\u001b[0m\n\u001b[0;32m    224\u001b[0m                                  dtype=dtype, copy=copy)\n\u001b[0;32m    225\u001b[0m         \u001b[1;32melif\u001b[0m \u001b[0misinstance\u001b[0m\u001b[1;33m(\u001b[0m\u001b[0mdata\u001b[0m\u001b[1;33m,\u001b[0m \u001b[0mdict\u001b[0m\u001b[1;33m)\u001b[0m\u001b[1;33m:\u001b[0m\u001b[1;33m\u001b[0m\u001b[0m\n\u001b[1;32m--> 226\u001b[1;33m             \u001b[0mmgr\u001b[0m \u001b[1;33m=\u001b[0m \u001b[0mself\u001b[0m\u001b[1;33m.\u001b[0m\u001b[0m_init_dict\u001b[0m\u001b[1;33m(\u001b[0m\u001b[0mdata\u001b[0m\u001b[1;33m,\u001b[0m \u001b[0mindex\u001b[0m\u001b[1;33m,\u001b[0m \u001b[0mcolumns\u001b[0m\u001b[1;33m,\u001b[0m \u001b[0mdtype\u001b[0m\u001b[1;33m=\u001b[0m\u001b[0mdtype\u001b[0m\u001b[1;33m)\u001b[0m\u001b[1;33m\u001b[0m\u001b[0m\n\u001b[0m\u001b[0;32m    227\u001b[0m         \u001b[1;32melif\u001b[0m \u001b[0misinstance\u001b[0m\u001b[1;33m(\u001b[0m\u001b[0mdata\u001b[0m\u001b[1;33m,\u001b[0m \u001b[0mma\u001b[0m\u001b[1;33m.\u001b[0m\u001b[0mMaskedArray\u001b[0m\u001b[1;33m)\u001b[0m\u001b[1;33m:\u001b[0m\u001b[1;33m\u001b[0m\u001b[0m\n\u001b[0;32m    228\u001b[0m             \u001b[1;32mimport\u001b[0m \u001b[0mnumpy\u001b[0m\u001b[1;33m.\u001b[0m\u001b[0mma\u001b[0m\u001b[1;33m.\u001b[0m\u001b[0mmrecords\u001b[0m \u001b[1;32mas\u001b[0m \u001b[0mmrecords\u001b[0m\u001b[1;33m\u001b[0m\u001b[0m\n",
      "\u001b[1;32mc:\\Anaconda3\\lib\\site-packages\\pandas\\core\\frame.py\u001b[0m in \u001b[0;36m_init_dict\u001b[1;34m(self, data, index, columns, dtype)\u001b[0m\n\u001b[0;32m    361\u001b[0m \u001b[1;33m\u001b[0m\u001b[0m\n\u001b[0;32m    362\u001b[0m         return _arrays_to_mgr(arrays, data_names, index, columns,\n\u001b[1;32m--> 363\u001b[1;33m                               dtype=dtype)\n\u001b[0m\u001b[0;32m    364\u001b[0m \u001b[1;33m\u001b[0m\u001b[0m\n\u001b[0;32m    365\u001b[0m     def _init_ndarray(self, values, index, columns, dtype=None,\n",
      "\u001b[1;32mc:\\Anaconda3\\lib\\site-packages\\pandas\\core\\frame.py\u001b[0m in \u001b[0;36m_arrays_to_mgr\u001b[1;34m(arrays, arr_names, index, columns, dtype)\u001b[0m\n\u001b[0;32m   5161\u001b[0m \u001b[1;33m\u001b[0m\u001b[0m\n\u001b[0;32m   5162\u001b[0m     \u001b[1;31m# don't force copy because getting jammed in an ndarray anyway\u001b[0m\u001b[1;33m\u001b[0m\u001b[1;33m\u001b[0m\u001b[0m\n\u001b[1;32m-> 5163\u001b[1;33m     \u001b[0marrays\u001b[0m \u001b[1;33m=\u001b[0m \u001b[0m_homogenize\u001b[0m\u001b[1;33m(\u001b[0m\u001b[0marrays\u001b[0m\u001b[1;33m,\u001b[0m \u001b[0mindex\u001b[0m\u001b[1;33m,\u001b[0m \u001b[0mdtype\u001b[0m\u001b[1;33m)\u001b[0m\u001b[1;33m\u001b[0m\u001b[0m\n\u001b[0m\u001b[0;32m   5164\u001b[0m \u001b[1;33m\u001b[0m\u001b[0m\n\u001b[0;32m   5165\u001b[0m     \u001b[1;31m# from BlockManager perspective\u001b[0m\u001b[1;33m\u001b[0m\u001b[1;33m\u001b[0m\u001b[0m\n",
      "\u001b[1;32mc:\\Anaconda3\\lib\\site-packages\\pandas\\core\\frame.py\u001b[0m in \u001b[0;36m_homogenize\u001b[1;34m(data, index, dtype)\u001b[0m\n\u001b[0;32m   5475\u001b[0m                 \u001b[0mv\u001b[0m \u001b[1;33m=\u001b[0m \u001b[0mlib\u001b[0m\u001b[1;33m.\u001b[0m\u001b[0mfast_multiget\u001b[0m\u001b[1;33m(\u001b[0m\u001b[0mv\u001b[0m\u001b[1;33m,\u001b[0m \u001b[0moindex\u001b[0m\u001b[1;33m.\u001b[0m\u001b[0mvalues\u001b[0m\u001b[1;33m,\u001b[0m \u001b[0mdefault\u001b[0m\u001b[1;33m=\u001b[0m\u001b[0mNA\u001b[0m\u001b[1;33m)\u001b[0m\u001b[1;33m\u001b[0m\u001b[0m\n\u001b[0;32m   5476\u001b[0m             v = _sanitize_array(v, index, dtype=dtype, copy=False,\n\u001b[1;32m-> 5477\u001b[1;33m                                 raise_cast_failure=False)\n\u001b[0m\u001b[0;32m   5478\u001b[0m \u001b[1;33m\u001b[0m\u001b[0m\n\u001b[0;32m   5479\u001b[0m         \u001b[0mhomogenized\u001b[0m\u001b[1;33m.\u001b[0m\u001b[0mappend\u001b[0m\u001b[1;33m(\u001b[0m\u001b[0mv\u001b[0m\u001b[1;33m)\u001b[0m\u001b[1;33m\u001b[0m\u001b[0m\n",
      "\u001b[1;32mc:\\Anaconda3\\lib\\site-packages\\pandas\\core\\series.py\u001b[0m in \u001b[0;36m_sanitize_array\u001b[1;34m(data, index, dtype, copy, raise_cast_failure)\u001b[0m\n\u001b[0;32m   2883\u001b[0m     \u001b[1;32melif\u001b[0m \u001b[0msubarr\u001b[0m\u001b[1;33m.\u001b[0m\u001b[0mndim\u001b[0m \u001b[1;33m>\u001b[0m \u001b[1;36m1\u001b[0m\u001b[1;33m:\u001b[0m\u001b[1;33m\u001b[0m\u001b[0m\n\u001b[0;32m   2884\u001b[0m         \u001b[1;32mif\u001b[0m \u001b[0misinstance\u001b[0m\u001b[1;33m(\u001b[0m\u001b[0mdata\u001b[0m\u001b[1;33m,\u001b[0m \u001b[0mnp\u001b[0m\u001b[1;33m.\u001b[0m\u001b[0mndarray\u001b[0m\u001b[1;33m)\u001b[0m\u001b[1;33m:\u001b[0m\u001b[1;33m\u001b[0m\u001b[0m\n\u001b[1;32m-> 2885\u001b[1;33m             \u001b[1;32mraise\u001b[0m \u001b[0mException\u001b[0m\u001b[1;33m(\u001b[0m\u001b[1;34m'Data must be 1-dimensional'\u001b[0m\u001b[1;33m)\u001b[0m\u001b[1;33m\u001b[0m\u001b[0m\n\u001b[0m\u001b[0;32m   2886\u001b[0m         \u001b[1;32melse\u001b[0m\u001b[1;33m:\u001b[0m\u001b[1;33m\u001b[0m\u001b[0m\n\u001b[0;32m   2887\u001b[0m             \u001b[0msubarr\u001b[0m \u001b[1;33m=\u001b[0m \u001b[0m_asarray_tuplesafe\u001b[0m\u001b[1;33m(\u001b[0m\u001b[0mdata\u001b[0m\u001b[1;33m,\u001b[0m \u001b[0mdtype\u001b[0m\u001b[1;33m=\u001b[0m\u001b[0mdtype\u001b[0m\u001b[1;33m)\u001b[0m\u001b[1;33m\u001b[0m\u001b[0m\n",
      "\u001b[1;31mException\u001b[0m: Data must be 1-dimensional"
     ]
    }
   ],
   "source": [
    "FeatureImportances = pd.DataFrame(data = { 'coefs': clf.coef_.squeeze(), 'abs coefs' : np.abs(clf.coef_.squeeze())},index=X_log.columns)\n",
    "FeatureImportances.sort_values(by='abs coefs',ascending=False,inplace=True)\n",
    "\n",
    "k = 50\n",
    "plt.figure(figsize=(10,10))\n",
    "sns.barplot(y=FeatureImportances.index[0:k],x=FeatureImportances['coefs'].head(k))\n",
    "#plt.xticks(rotation = 90)"
   ]
  },
  {
   "cell_type": "markdown",
   "metadata": {},
   "source": [
    "The picture I get from this that people are less likely to book from mobile devices. And more likely to book if they correctly filled out their from. I doubt logicst regression has handled the age feature well. Hence why discretizing might be a good idea."
   ]
  },
  {
   "cell_type": "markdown",
   "metadata": {},
   "source": [
    "### Grid Search"
   ]
  },
  {
   "cell_type": "code",
   "execution_count": 164,
   "metadata": {
    "collapsed": false
   },
   "outputs": [
    {
     "name": "stdout",
     "output_type": "stream",
     "text": [
      "best parameter choice: {'C': 4.5203536563602427}\n",
      "best score: 0.688527559842\n"
     ]
    }
   ],
   "source": [
    "Crange = np.logspace(-1,2,30)\n",
    "\n",
    "grid = GridSearchCV(LogisticRegression(), param_grid={'C': Crange},scoring='accuracy',cv=3,n_jobs=4)\n",
    "grid.fit(X_train,y_train)\n",
    "print (\"best parameter choice:\", grid.best_params_)\n",
    "print (\"best score:\", grid.best_score_)\n"
   ]
  },
  {
   "cell_type": "code",
   "execution_count": null,
   "metadata": {
    "collapsed": true
   },
   "outputs": [],
   "source": []
  },
  {
   "cell_type": "code",
   "execution_count": null,
   "metadata": {
    "collapsed": true
   },
   "outputs": [],
   "source": []
  },
  {
   "cell_type": "code",
   "execution_count": null,
   "metadata": {
    "collapsed": true
   },
   "outputs": [],
   "source": []
  },
  {
   "cell_type": "code",
   "execution_count": null,
   "metadata": {
    "collapsed": true
   },
   "outputs": [],
   "source": []
  },
  {
   "cell_type": "code",
   "execution_count": 28,
   "metadata": {
    "collapsed": false,
    "scrolled": true
   },
   "outputs": [
    {
     "data": {
      "text/plain": [
       "{'C': 11.937766417144358}"
      ]
     },
     "execution_count": 28,
     "metadata": {},
     "output_type": "execute_result"
    }
   ],
   "source": []
  },
  {
   "cell_type": "code",
   "execution_count": 29,
   "metadata": {
    "collapsed": false
   },
   "outputs": [
    {
     "data": {
      "text/plain": [
       "0.65801518849759433"
      ]
     },
     "execution_count": 29,
     "metadata": {},
     "output_type": "execute_result"
    }
   ],
   "source": [
    "grid.best_score_"
   ]
  },
  {
   "cell_type": "code",
   "execution_count": null,
   "metadata": {
    "collapsed": true
   },
   "outputs": [],
   "source": []
  },
  {
   "cell_type": "code",
   "execution_count": null,
   "metadata": {
    "collapsed": true
   },
   "outputs": [],
   "source": []
  },
  {
   "cell_type": "markdown",
   "metadata": {
    "collapsed": true
   },
   "source": [
    "# BELOW HERE IS MESSY - OLD CODE"
   ]
  },
  {
   "cell_type": "code",
   "execution_count": null,
   "metadata": {
    "collapsed": true
   },
   "outputs": [],
   "source": []
  },
  {
   "cell_type": "code",
   "execution_count": 171,
   "metadata": {
    "collapsed": false
   },
   "outputs": [
    {
     "data": {
      "text/plain": [
       "array([ 7,  7, 10, ...,  7,  7,  7], dtype=int64)"
      ]
     },
     "execution_count": 171,
     "metadata": {},
     "output_type": "execute_result"
    }
   ],
   "source": [
    "from sklearn.preprocessing import LabelEncoder\n",
    "le = LabelEncoder()\n",
    "y_int = le.fit_transform(y)\n",
    "y_int"
   ]
  },
  {
   "cell_type": "code",
   "execution_count": null,
   "metadata": {
    "collapsed": true
   },
   "outputs": [],
   "source": []
  },
  {
   "cell_type": "code",
   "execution_count": 174,
   "metadata": {
    "collapsed": false,
    "scrolled": true
   },
   "outputs": [
    {
     "name": "stdout",
     "output_type": "stream",
     "text": [
      "Feature ranking:\n",
      "1. feature 7 (0.169181)\n",
      "2. feature 6 (0.126675)\n",
      "3. feature 3 (0.126461)\n",
      "4. feature 0 (0.079587)\n",
      "5. feature 5 (0.077573)\n",
      "6. feature 2 (0.077413)\n",
      "7. feature 1 (0.023134)\n",
      "8. feature 4 (0.023095)\n",
      "9. feature 158 (0.017394)\n",
      "10. feature 103 (0.016936)\n",
      "11. feature 104 (0.016154)\n",
      "12. feature 157 (0.015355)\n",
      "13. feature 152 (0.012130)\n",
      "14. feature 153 (0.010904)\n",
      "15. feature 159 (0.010050)\n",
      "16. feature 41 (0.009514)\n",
      "17. feature 35 (0.009106)\n",
      "18. feature 50 (0.008587)\n",
      "19. feature 59 (0.008130)\n",
      "20. feature 160 (0.006609)\n",
      "21. feature 97 (0.006535)\n",
      "22. feature 100 (0.006261)\n",
      "23. feature 38 (0.005960)\n",
      "24. feature 83 (0.005943)\n",
      "25. feature 161 (0.005407)\n",
      "26. feature 156 (0.005146)\n",
      "27. feature 138 (0.004599)\n",
      "28. feature 13 (0.004376)\n",
      "29. feature 24 (0.004372)\n",
      "30. feature 135 (0.004321)\n",
      "31. feature 162 (0.004196)\n",
      "32. feature 63 (0.004164)\n",
      "33. feature 111 (0.004075)\n",
      "34. feature 14 (0.003888)\n",
      "35. feature 42 (0.003530)\n",
      "36. feature 163 (0.003471)\n",
      "37. feature 40 (0.003186)\n",
      "38. feature 10 (0.003131)\n",
      "39. feature 20 (0.003103)\n",
      "40. feature 9 (0.003081)\n",
      "41. feature 15 (0.003002)\n",
      "42. feature 133 (0.002963)\n",
      "43. feature 164 (0.002821)\n",
      "44. feature 102 (0.002744)\n",
      "45. feature 71 (0.002716)\n",
      "46. feature 101 (0.002708)\n",
      "47. feature 137 (0.002466)\n",
      "48. feature 28 (0.002209)\n",
      "49. feature 165 (0.002149)\n",
      "50. feature 155 (0.002138)\n",
      "51. feature 11 (0.001960)\n",
      "52. feature 17 (0.001590)\n",
      "53. feature 134 (0.001520)\n",
      "54. feature 98 (0.001497)\n",
      "55. feature 136 (0.001463)\n",
      "56. feature 39 (0.001441)\n",
      "57. feature 130 (0.001383)\n",
      "58. feature 18 (0.001314)\n",
      "59. feature 114 (0.001284)\n",
      "60. feature 34 (0.001262)\n",
      "61. feature 22 (0.001257)\n",
      "62. feature 96 (0.001243)\n",
      "63. feature 166 (0.001192)\n",
      "64. feature 151 (0.001155)\n",
      "65. feature 132 (0.001130)\n",
      "66. feature 12 (0.001053)\n",
      "67. feature 112 (0.001037)\n",
      "68. feature 95 (0.000927)\n",
      "69. feature 94 (0.000900)\n",
      "70. feature 109 (0.000891)\n",
      "71. feature 121 (0.000853)\n",
      "72. feature 150 (0.000809)\n",
      "73. feature 51 (0.000778)\n",
      "74. feature 131 (0.000750)\n",
      "75. feature 144 (0.000747)\n",
      "76. feature 105 (0.000720)\n",
      "77. feature 30 (0.000703)\n",
      "78. feature 119 (0.000594)\n",
      "79. feature 167 (0.000579)\n",
      "80. feature 8 (0.000541)\n",
      "81. feature 44 (0.000491)\n",
      "82. feature 126 (0.000489)\n",
      "83. feature 29 (0.000468)\n",
      "84. feature 23 (0.000453)\n",
      "85. feature 32 (0.000445)\n",
      "86. feature 142 (0.000383)\n",
      "87. feature 120 (0.000345)\n",
      "88. feature 149 (0.000344)\n",
      "89. feature 125 (0.000327)\n",
      "90. feature 43 (0.000317)\n",
      "91. feature 75 (0.000312)\n",
      "92. feature 148 (0.000281)\n",
      "93. feature 168 (0.000252)\n",
      "94. feature 26 (0.000248)\n",
      "95. feature 127 (0.000220)\n",
      "96. feature 169 (0.000207)\n",
      "97. feature 141 (0.000189)\n",
      "98. feature 122 (0.000188)\n",
      "99. feature 37 (0.000181)\n",
      "100. feature 25 (0.000170)\n",
      "101. feature 85 (0.000169)\n",
      "102. feature 21 (0.000165)\n",
      "103. feature 170 (0.000127)\n",
      "104. feature 52 (0.000125)\n",
      "105. feature 108 (0.000110)\n",
      "106. feature 129 (0.000100)\n",
      "107. feature 69 (0.000099)\n",
      "108. feature 154 (0.000094)\n",
      "109. feature 48 (0.000094)\n",
      "110. feature 99 (0.000092)\n",
      "111. feature 124 (0.000088)\n",
      "112. feature 171 (0.000079)\n",
      "113. feature 27 (0.000075)\n",
      "114. feature 45 (0.000064)\n",
      "115. feature 82 (0.000063)\n",
      "116. feature 123 (0.000058)\n",
      "117. feature 107 (0.000053)\n",
      "118. feature 70 (0.000049)\n",
      "119. feature 110 (0.000046)\n",
      "120. feature 67 (0.000045)\n",
      "121. feature 86 (0.000045)\n",
      "122. feature 36 (0.000044)\n",
      "123. feature 88 (0.000044)\n",
      "124. feature 16 (0.000037)\n",
      "125. feature 113 (0.000037)\n",
      "126. feature 128 (0.000036)\n",
      "127. feature 140 (0.000032)\n",
      "128. feature 66 (0.000031)\n",
      "129. feature 84 (0.000029)\n",
      "130. feature 116 (0.000028)\n",
      "131. feature 64 (0.000028)\n",
      "132. feature 49 (0.000025)\n",
      "133. feature 93 (0.000023)\n",
      "134. feature 80 (0.000018)\n",
      "135. feature 56 (0.000017)\n",
      "136. feature 90 (0.000016)\n",
      "137. feature 146 (0.000015)\n",
      "138. feature 147 (0.000014)\n",
      "139. feature 47 (0.000013)\n",
      "140. feature 33 (0.000011)\n",
      "141. feature 118 (0.000010)\n",
      "142. feature 145 (0.000009)\n",
      "143. feature 92 (0.000009)\n",
      "144. feature 19 (0.000009)\n",
      "145. feature 53 (0.000009)\n",
      "146. feature 62 (0.000008)\n",
      "147. feature 106 (0.000007)\n",
      "148. feature 117 (0.000007)\n",
      "149. feature 81 (0.000006)\n",
      "150. feature 91 (0.000006)\n",
      "151. feature 72 (0.000006)\n",
      "152. feature 87 (0.000005)\n",
      "153. feature 68 (0.000005)\n",
      "154. feature 76 (0.000005)\n",
      "155. feature 89 (0.000005)\n"
     ]
    },
    {
     "ename": "ValueError",
     "evalue": "incompatible sizes: argument 'height' must be length 155 or scalar",
     "output_type": "error",
     "traceback": [
      "\u001b[1;31m---------------------------------------------------------------------------\u001b[0m",
      "\u001b[1;31mValueError\u001b[0m                                Traceback (most recent call last)",
      "\u001b[1;32m<ipython-input-174-1b27e21bfa2d>\u001b[0m in \u001b[0;36m<module>\u001b[1;34m()\u001b[0m\n\u001b[0;32m     22\u001b[0m \u001b[0mplt\u001b[0m\u001b[1;33m.\u001b[0m\u001b[0mtitle\u001b[0m\u001b[1;33m(\u001b[0m\u001b[1;34m\"Feature importances\"\u001b[0m\u001b[1;33m)\u001b[0m\u001b[1;33m\u001b[0m\u001b[0m\n\u001b[0;32m     23\u001b[0m plt.bar(range(X.shape[1]), importances[indices],\n\u001b[1;32m---> 24\u001b[1;33m        color=\"r\", yerr=std[indices], align=\"center\")\n\u001b[0m\u001b[0;32m     25\u001b[0m \u001b[0mplt\u001b[0m\u001b[1;33m.\u001b[0m\u001b[0mxticks\u001b[0m\u001b[1;33m(\u001b[0m\u001b[0mrange\u001b[0m\u001b[1;33m(\u001b[0m\u001b[0mX\u001b[0m\u001b[1;33m.\u001b[0m\u001b[0mshape\u001b[0m\u001b[1;33m[\u001b[0m\u001b[1;36m1\u001b[0m\u001b[1;33m]\u001b[0m\u001b[1;33m)\u001b[0m\u001b[1;33m,\u001b[0m \u001b[0mindices\u001b[0m\u001b[1;33m)\u001b[0m\u001b[1;33m\u001b[0m\u001b[0m\n\u001b[0;32m     26\u001b[0m \u001b[0mplt\u001b[0m\u001b[1;33m.\u001b[0m\u001b[0mxlim\u001b[0m\u001b[1;33m(\u001b[0m\u001b[1;33m[\u001b[0m\u001b[1;33m-\u001b[0m\u001b[1;36m1\u001b[0m\u001b[1;33m,\u001b[0m \u001b[0mX\u001b[0m\u001b[1;33m.\u001b[0m\u001b[0mshape\u001b[0m\u001b[1;33m[\u001b[0m\u001b[1;36m1\u001b[0m\u001b[1;33m]\u001b[0m\u001b[1;33m]\u001b[0m\u001b[1;33m)\u001b[0m\u001b[1;33m\u001b[0m\u001b[0m\n",
      "\u001b[1;32mc:\\Anaconda3\\lib\\site-packages\\matplotlib\\pyplot.py\u001b[0m in \u001b[0;36mbar\u001b[1;34m(left, height, width, bottom, hold, data, **kwargs)\u001b[0m\n\u001b[0;32m   2641\u001b[0m     \u001b[1;32mtry\u001b[0m\u001b[1;33m:\u001b[0m\u001b[1;33m\u001b[0m\u001b[0m\n\u001b[0;32m   2642\u001b[0m         ret = ax.bar(left, height, width=width, bottom=bottom, data=data,\n\u001b[1;32m-> 2643\u001b[1;33m                      **kwargs)\n\u001b[0m\u001b[0;32m   2644\u001b[0m     \u001b[1;32mfinally\u001b[0m\u001b[1;33m:\u001b[0m\u001b[1;33m\u001b[0m\u001b[0m\n\u001b[0;32m   2645\u001b[0m         \u001b[0max\u001b[0m\u001b[1;33m.\u001b[0m\u001b[0mhold\u001b[0m\u001b[1;33m(\u001b[0m\u001b[0mwashold\u001b[0m\u001b[1;33m)\u001b[0m\u001b[1;33m\u001b[0m\u001b[0m\n",
      "\u001b[1;32mc:\\Anaconda3\\lib\\site-packages\\matplotlib\\__init__.py\u001b[0m in \u001b[0;36minner\u001b[1;34m(ax, *args, **kwargs)\u001b[0m\n\u001b[0;32m   1808\u001b[0m                     warnings.warn(msg % (label_namer, func.__name__),\n\u001b[0;32m   1809\u001b[0m                                   RuntimeWarning, stacklevel=2)\n\u001b[1;32m-> 1810\u001b[1;33m             \u001b[1;32mreturn\u001b[0m \u001b[0mfunc\u001b[0m\u001b[1;33m(\u001b[0m\u001b[0max\u001b[0m\u001b[1;33m,\u001b[0m \u001b[1;33m*\u001b[0m\u001b[0margs\u001b[0m\u001b[1;33m,\u001b[0m \u001b[1;33m**\u001b[0m\u001b[0mkwargs\u001b[0m\u001b[1;33m)\u001b[0m\u001b[1;33m\u001b[0m\u001b[0m\n\u001b[0m\u001b[0;32m   1811\u001b[0m         \u001b[0mpre_doc\u001b[0m \u001b[1;33m=\u001b[0m \u001b[0minner\u001b[0m\u001b[1;33m.\u001b[0m\u001b[0m__doc__\u001b[0m\u001b[1;33m\u001b[0m\u001b[0m\n\u001b[0;32m   1812\u001b[0m         \u001b[1;32mif\u001b[0m \u001b[0mpre_doc\u001b[0m \u001b[1;32mis\u001b[0m \u001b[1;32mNone\u001b[0m\u001b[1;33m:\u001b[0m\u001b[1;33m\u001b[0m\u001b[0m\n",
      "\u001b[1;32mc:\\Anaconda3\\lib\\site-packages\\matplotlib\\axes\\_axes.py\u001b[0m in \u001b[0;36mbar\u001b[1;34m(self, left, height, width, bottom, **kwargs)\u001b[0m\n\u001b[0;32m   2081\u001b[0m         \u001b[1;32mif\u001b[0m \u001b[0mlen\u001b[0m\u001b[1;33m(\u001b[0m\u001b[0mheight\u001b[0m\u001b[1;33m)\u001b[0m \u001b[1;33m!=\u001b[0m \u001b[0mnbars\u001b[0m\u001b[1;33m:\u001b[0m\u001b[1;33m\u001b[0m\u001b[0m\n\u001b[0;32m   2082\u001b[0m             raise ValueError(\"incompatible sizes: argument 'height' \"\n\u001b[1;32m-> 2083\u001b[1;33m                               \"must be length %d or scalar\" % nbars)\n\u001b[0m\u001b[0;32m   2084\u001b[0m         \u001b[1;32mif\u001b[0m \u001b[0mlen\u001b[0m\u001b[1;33m(\u001b[0m\u001b[0mwidth\u001b[0m\u001b[1;33m)\u001b[0m \u001b[1;33m!=\u001b[0m \u001b[0mnbars\u001b[0m\u001b[1;33m:\u001b[0m\u001b[1;33m\u001b[0m\u001b[0m\n\u001b[0;32m   2085\u001b[0m             raise ValueError(\"incompatible sizes: argument 'width' \"\n",
      "\u001b[1;31mValueError\u001b[0m: incompatible sizes: argument 'height' must be length 155 or scalar"
     ]
    },
    {
     "data": {
      "image/png": "[encoded data removed]",
      "text/plain": [
       "<matplotlib.figure.Figure at 0x2a92fa20>"
      ]
     },
     "metadata": {},
     "output_type": "display_data"
    }
   ],
   "source": [
    "from sklearn.ensemble import ExtraTreesClassifier\n",
    "\n",
    "forest = ExtraTreesClassifier(n_estimators=50,\n",
    "                              random_state=0)\n",
    "\n",
    "\n",
    "\n",
    "forest.fit(X_log, y_int)\n",
    "importances = forest.feature_importances_\n",
    "std = np.std([tree.feature_importances_ for tree in forest.estimators_],\n",
    "             axis=0)\n",
    "indices = np.argsort(importances)[::-1]\n",
    "\n",
    "# Print the feature ranking\n",
    "print(\"Feature ranking:\")\n",
    "\n",
    "for f in range(X.shape[1]):\n",
    "    print(\"%d. feature %d (%f)\" % (f + 1, indices[f], importances[indices[f]]))\n",
    "\n",
    "# Plot the feature importances of the forest\n",
    "plt.figure()\n",
    "plt.title(\"Feature importances\")\n",
    "plt.bar(range(X_log.shape[1]), importances[indices],\n",
    "       color=\"r\", yerr=std[indices], align=\"center\")\n",
    "plt.xticks(range(X_log.shape[1]), indices)\n",
    "plt.xlim([-1, X_log.shape[1]])\n",
    "plt.show()"
   ]
  },
  {
   "cell_type": "code",
   "execution_count": 175,
   "metadata": {
    "collapsed": false,
    "scrolled": true
   },
   "outputs": [
    {
     "name": "stdout",
     "output_type": "stream",
     "text": [
      "Feature ranking:\n",
      "1. feature 7 (0.169181)\n",
      "2. feature 6 (0.126675)\n",
      "3. feature 3 (0.126461)\n",
      "4. feature 0 (0.079587)\n",
      "5. feature 5 (0.077573)\n",
      "6. feature 2 (0.077413)\n",
      "7. feature 1 (0.023134)\n",
      "8. feature 4 (0.023095)\n",
      "9. feature 158 (0.017394)\n",
      "10. feature 103 (0.016936)\n",
      "11. feature 104 (0.016154)\n",
      "12. feature 157 (0.015355)\n",
      "13. feature 152 (0.012130)\n",
      "14. feature 153 (0.010904)\n",
      "15. feature 159 (0.010050)\n",
      "16. feature 41 (0.009514)\n",
      "17. feature 35 (0.009106)\n",
      "18. feature 50 (0.008587)\n",
      "19. feature 59 (0.008130)\n",
      "20. feature 160 (0.006609)\n",
      "21. feature 97 (0.006535)\n",
      "22. feature 100 (0.006261)\n",
      "23. feature 38 (0.005960)\n",
      "24. feature 83 (0.005943)\n",
      "25. feature 161 (0.005407)\n",
      "26. feature 156 (0.005146)\n",
      "27. feature 138 (0.004599)\n",
      "28. feature 13 (0.004376)\n",
      "29. feature 24 (0.004372)\n",
      "30. feature 135 (0.004321)\n",
      "31. feature 162 (0.004196)\n",
      "32. feature 63 (0.004164)\n",
      "33. feature 111 (0.004075)\n",
      "34. feature 14 (0.003888)\n",
      "35. feature 42 (0.003530)\n",
      "36. feature 163 (0.003471)\n",
      "37. feature 40 (0.003186)\n",
      "38. feature 10 (0.003131)\n",
      "39. feature 20 (0.003103)\n",
      "40. feature 9 (0.003081)\n",
      "41. feature 15 (0.003002)\n",
      "42. feature 133 (0.002963)\n",
      "43. feature 164 (0.002821)\n",
      "44. feature 102 (0.002744)\n",
      "45. feature 71 (0.002716)\n",
      "46. feature 101 (0.002708)\n",
      "47. feature 137 (0.002466)\n",
      "48. feature 28 (0.002209)\n",
      "49. feature 165 (0.002149)\n",
      "50. feature 155 (0.002138)\n",
      "51. feature 11 (0.001960)\n",
      "52. feature 17 (0.001590)\n",
      "53. feature 134 (0.001520)\n",
      "54. feature 98 (0.001497)\n",
      "55. feature 136 (0.001463)\n",
      "56. feature 39 (0.001441)\n",
      "57. feature 130 (0.001383)\n",
      "58. feature 18 (0.001314)\n",
      "59. feature 114 (0.001284)\n",
      "60. feature 34 (0.001262)\n",
      "61. feature 22 (0.001257)\n",
      "62. feature 96 (0.001243)\n",
      "63. feature 166 (0.001192)\n",
      "64. feature 151 (0.001155)\n",
      "65. feature 132 (0.001130)\n",
      "66. feature 12 (0.001053)\n",
      "67. feature 112 (0.001037)\n",
      "68. feature 95 (0.000927)\n",
      "69. feature 94 (0.000900)\n",
      "70. feature 109 (0.000891)\n",
      "71. feature 121 (0.000853)\n",
      "72. feature 150 (0.000809)\n",
      "73. feature 51 (0.000778)\n",
      "74. feature 131 (0.000750)\n",
      "75. feature 144 (0.000747)\n",
      "76. feature 105 (0.000720)\n",
      "77. feature 30 (0.000703)\n",
      "78. feature 119 (0.000594)\n",
      "79. feature 167 (0.000579)\n",
      "80. feature 8 (0.000541)\n",
      "81. feature 44 (0.000491)\n",
      "82. feature 126 (0.000489)\n",
      "83. feature 29 (0.000468)\n",
      "84. feature 23 (0.000453)\n",
      "85. feature 32 (0.000445)\n",
      "86. feature 142 (0.000383)\n",
      "87. feature 120 (0.000345)\n",
      "88. feature 149 (0.000344)\n",
      "89. feature 125 (0.000327)\n",
      "90. feature 43 (0.000317)\n",
      "91. feature 75 (0.000312)\n",
      "92. feature 148 (0.000281)\n",
      "93. feature 168 (0.000252)\n",
      "94. feature 26 (0.000248)\n",
      "95. feature 127 (0.000220)\n",
      "96. feature 169 (0.000207)\n",
      "97. feature 141 (0.000189)\n",
      "98. feature 122 (0.000188)\n",
      "99. feature 37 (0.000181)\n",
      "100. feature 25 (0.000170)\n",
      "101. feature 85 (0.000169)\n",
      "102. feature 21 (0.000165)\n",
      "103. feature 170 (0.000127)\n",
      "104. feature 52 (0.000125)\n",
      "105. feature 108 (0.000110)\n",
      "106. feature 129 (0.000100)\n",
      "107. feature 69 (0.000099)\n",
      "108. feature 154 (0.000094)\n",
      "109. feature 48 (0.000094)\n",
      "110. feature 99 (0.000092)\n",
      "111. feature 124 (0.000088)\n",
      "112. feature 171 (0.000079)\n",
      "113. feature 27 (0.000075)\n",
      "114. feature 45 (0.000064)\n",
      "115. feature 82 (0.000063)\n",
      "116. feature 123 (0.000058)\n",
      "117. feature 107 (0.000053)\n",
      "118. feature 70 (0.000049)\n",
      "119. feature 110 (0.000046)\n",
      "120. feature 67 (0.000045)\n",
      "121. feature 86 (0.000045)\n",
      "122. feature 36 (0.000044)\n",
      "123. feature 88 (0.000044)\n",
      "124. feature 16 (0.000037)\n",
      "125. feature 113 (0.000037)\n",
      "126. feature 128 (0.000036)\n",
      "127. feature 140 (0.000032)\n",
      "128. feature 66 (0.000031)\n",
      "129. feature 84 (0.000029)\n",
      "130. feature 116 (0.000028)\n",
      "131. feature 64 (0.000028)\n",
      "132. feature 49 (0.000025)\n",
      "133. feature 93 (0.000023)\n",
      "134. feature 80 (0.000018)\n",
      "135. feature 56 (0.000017)\n",
      "136. feature 90 (0.000016)\n",
      "137. feature 146 (0.000015)\n",
      "138. feature 147 (0.000014)\n",
      "139. feature 47 (0.000013)\n",
      "140. feature 33 (0.000011)\n",
      "141. feature 118 (0.000010)\n",
      "142. feature 145 (0.000009)\n",
      "143. feature 92 (0.000009)\n",
      "144. feature 19 (0.000009)\n",
      "145. feature 53 (0.000009)\n",
      "146. feature 62 (0.000008)\n",
      "147. feature 106 (0.000007)\n",
      "148. feature 117 (0.000007)\n",
      "149. feature 81 (0.000006)\n",
      "150. feature 91 (0.000006)\n",
      "151. feature 72 (0.000006)\n",
      "152. feature 87 (0.000005)\n",
      "153. feature 68 (0.000005)\n",
      "154. feature 76 (0.000005)\n",
      "155. feature 89 (0.000005)\n"
     ]
    },
    {
     "data": {
      "image/png": "[encoded data removed]",
      "text/plain": [
       "<matplotlib.figure.Figure at 0x286c75f8>"
      ]
     },
     "metadata": {},
     "output_type": "display_data"
    }
   ],
   "source": [
    "importances = forest.feature_importances_\n",
    "std = np.std([tree.feature_importances_ for tree in forest.estimators_],\n",
    "             axis=0)\n",
    "indices = np.argsort(importances)[::-1]\n",
    "\n",
    "# Print the feature ranking\n",
    "print(\"Feature ranking:\")\n",
    "\n",
    "for f in range(X.shape[1]):\n",
    "    print(\"%d. feature %d (%f)\" % (f + 1, indices[f], importances[indices[f]]))\n",
    "\n",
    "# Plot the feature importances of the forest\n",
    "plt.figure()\n",
    "plt.title(\"Feature importances\")\n",
    "plt.bar(range(X_log.shape[1]), importances[indices],\n",
    "       color=\"r\", yerr=std[indices], align=\"center\")\n",
    "plt.xticks(range(X_log.shape[1]), indices)\n",
    "plt.xlim([-1, X_log.shape[1]])\n",
    "plt.show()"
   ]
  },
  {
   "cell_type": "code",
   "execution_count": 176,
   "metadata": {
    "collapsed": false,
    "scrolled": true
   },
   "outputs": [
    {
     "data": {
      "text/plain": [
       "Index(['tfa_hour', 'tfa_day', 'dac_day', 'age', 'tfa_month'], dtype='object')"
      ]
     },
     "execution_count": 176,
     "metadata": {},
     "output_type": "execute_result"
    }
   ],
   "source": [
    "X.columns[[7,6,3,0,5]]"
   ]
  },
  {
   "cell_type": "code",
   "execution_count": null,
   "metadata": {
    "collapsed": true
   },
   "outputs": [],
   "source": []
  },
  {
   "cell_type": "code",
   "execution_count": null,
   "metadata": {
    "collapsed": true
   },
   "outputs": [],
   "source": [
    "from sklearn.preprocessing import LabelEncoder\n",
    "le = LabelEncoder()\n",
    "y_int = le.fit_transform()\n",
    "y_int"
   ]
  },
  {
   "cell_type": "code",
   "execution_count": 85,
   "metadata": {
    "collapsed": true
   },
   "outputs": [],
   "source": [
    "##Let's make this binary classification.\n",
    "booked = y!='NDF'"
   ]
  },
  {
   "cell_type": "code",
   "execution_count": 87,
   "metadata": {
    "collapsed": false,
    "scrolled": true
   },
   "outputs": [
    {
     "data": {
      "text/plain": [
       "88908"
      ]
     },
     "execution_count": 87,
     "metadata": {},
     "output_type": "execute_result"
    }
   ],
   "source": [
    "#train_users = train_users[pd.to_datetime(train_users)]\n",
    "X = preprocess_all(train_users.drop(['country_destination'],axis=1))\n",
    "y = train_users['country_destination']"
   ]
  },
  {
   "cell_type": "code",
   "execution_count": 168,
   "metadata": {
    "collapsed": false
   },
   "outputs": [],
   "source": [
    "## Let's get a classifier going\n",
    "from sklearn.ensemble import RandomForestClassifier\n",
    "from sklearn.linear_model import LogisticRegression\n",
    "from sklearn.cross_validation import train_test_split\n",
    "from sklearn import metrics\n",
    "\n",
    "Xtrain, Xtest, ytrain, ytest = train_test_split(X_log, y_log, random_state=0)\n",
    "\n",
    "clf = RandomForestClassifier(n_estimators=25)\n",
    "clf.fit(Xtrain,ytrain)\n",
    "ypred = clf.predict(Xtest)\n"
   ]
  },
  {
   "cell_type": "code",
   "execution_count": 169,
   "metadata": {
    "collapsed": false,
    "scrolled": true
   },
   "outputs": [
    {
     "name": "stdout",
     "output_type": "stream",
     "text": [
      "Accuracy =  0.661731911624\n",
      "Recall =  0.578968829286\n",
      "Precision =  0.593350977388\n"
     ]
    }
   ],
   "source": [
    "print('Accuracy = ',metrics.accuracy_score(ytest,ypred))\n",
    "print('Recall = ',metrics.recall_score(ytest,ypred))\n",
    "print('Precision = ',metrics.precision_score(ytest,ypred))"
   ]
  },
  {
   "cell_type": "code",
   "execution_count": 178,
   "metadata": {
    "collapsed": false
   },
   "outputs": [],
   "source": [
    "FeatureImportances = pd.Series(index=X_log.columns,data=clf.feature_importances_).sort_values(ascending=False)"
   ]
  },
  {
   "cell_type": "code",
   "execution_count": 179,
   "metadata": {
    "collapsed": false
   },
   "outputs": [
    {
     "name": "stderr",
     "output_type": "stream",
     "text": [
      "c:\\Anaconda3\\lib\\site-packages\\matplotlib\\__init__.py:892: UserWarning: axes.color_cycle is deprecated and replaced with axes.prop_cycle; please use the latter.\n",
      "  warnings.warn(self.msg_depr % (key, alt_key))\n"
     ]
    },
    {
     "data": {
      "text/plain": [
       "<matplotlib.axes._subplots.AxesSubplot at 0x2ad11748>"
      ]
     },
     "execution_count": 179,
     "metadata": {},
     "output_type": "execute_result"
    },
    {
     "data": {
      "image/png": "[encoded data removed]",
      "text/plain": [
       "<matplotlib.figure.Figure at 0x28b5d518>"
      ]
     },
     "metadata": {},
     "output_type": "display_data"
    }
   ],
   "source": [
    "k = 50\n",
    "plt.figure(figsize=(10,15))\n",
    "sns.barplot(y=FeatureImportances.index[0:k],x=FeatureImportances.head(k))\n",
    "#plt.xticks(rotation = 90)"
   ]
  },
  {
   "cell_type": "code",
   "execution_count": 206,
   "metadata": {
    "collapsed": false,
    "scrolled": true
   },
   "outputs": [
    {
     "data": {
      "text/html": [
       "<div>\n",
       "<table border=\"1\" class=\"dataframe\">\n",
       "  <thead>\n",
       "    <tr style=\"text-align: right;\">\n",
       "      <th></th>\n",
       "      <th>Booked</th>\n",
       "      <th>tfa_hour</th>\n",
       "      <th>country_destination</th>\n",
       "      <th>A</th>\n",
       "    </tr>\n",
       "  </thead>\n",
       "  <tbody>\n",
       "    <tr>\n",
       "      <th>0</th>\n",
       "      <td>False</td>\n",
       "      <td>0</td>\n",
       "      <td>7294</td>\n",
       "      <td>7294</td>\n",
       "    </tr>\n",
       "    <tr>\n",
       "      <th>1</th>\n",
       "      <td>False</td>\n",
       "      <td>1</td>\n",
       "      <td>6718</td>\n",
       "      <td>6718</td>\n",
       "    </tr>\n",
       "    <tr>\n",
       "      <th>2</th>\n",
       "      <td>False</td>\n",
       "      <td>2</td>\n",
       "      <td>6371</td>\n",
       "      <td>6371</td>\n",
       "    </tr>\n",
       "    <tr>\n",
       "      <th>3</th>\n",
       "      <td>False</td>\n",
       "      <td>3</td>\n",
       "      <td>6585</td>\n",
       "      <td>6585</td>\n",
       "    </tr>\n",
       "    <tr>\n",
       "      <th>4</th>\n",
       "      <td>False</td>\n",
       "      <td>4</td>\n",
       "      <td>6988</td>\n",
       "      <td>6988</td>\n",
       "    </tr>\n",
       "    <tr>\n",
       "      <th>5</th>\n",
       "      <td>False</td>\n",
       "      <td>5</td>\n",
       "      <td>6661</td>\n",
       "      <td>6661</td>\n",
       "    </tr>\n",
       "    <tr>\n",
       "      <th>6</th>\n",
       "      <td>False</td>\n",
       "      <td>6</td>\n",
       "      <td>5613</td>\n",
       "      <td>5613</td>\n",
       "    </tr>\n",
       "    <tr>\n",
       "      <th>7</th>\n",
       "      <td>False</td>\n",
       "      <td>7</td>\n",
       "      <td>3912</td>\n",
       "      <td>3912</td>\n",
       "    </tr>\n",
       "    <tr>\n",
       "      <th>8</th>\n",
       "      <td>False</td>\n",
       "      <td>8</td>\n",
       "      <td>2361</td>\n",
       "      <td>2361</td>\n",
       "    </tr>\n",
       "    <tr>\n",
       "      <th>9</th>\n",
       "      <td>False</td>\n",
       "      <td>9</td>\n",
       "      <td>1504</td>\n",
       "      <td>1504</td>\n",
       "    </tr>\n",
       "    <tr>\n",
       "      <th>10</th>\n",
       "      <td>False</td>\n",
       "      <td>10</td>\n",
       "      <td>1036</td>\n",
       "      <td>1036</td>\n",
       "    </tr>\n",
       "    <tr>\n",
       "      <th>11</th>\n",
       "      <td>False</td>\n",
       "      <td>11</td>\n",
       "      <td>866</td>\n",
       "      <td>866</td>\n",
       "    </tr>\n",
       "    <tr>\n",
       "      <th>12</th>\n",
       "      <td>False</td>\n",
       "      <td>12</td>\n",
       "      <td>808</td>\n",
       "      <td>808</td>\n",
       "    </tr>\n",
       "    <tr>\n",
       "      <th>13</th>\n",
       "      <td>False</td>\n",
       "      <td>13</td>\n",
       "      <td>1216</td>\n",
       "      <td>1216</td>\n",
       "    </tr>\n",
       "    <tr>\n",
       "      <th>14</th>\n",
       "      <td>False</td>\n",
       "      <td>14</td>\n",
       "      <td>2057</td>\n",
       "      <td>2057</td>\n",
       "    </tr>\n",
       "    <tr>\n",
       "      <th>15</th>\n",
       "      <td>False</td>\n",
       "      <td>15</td>\n",
       "      <td>3538</td>\n",
       "      <td>3538</td>\n",
       "    </tr>\n",
       "    <tr>\n",
       "      <th>16</th>\n",
       "      <td>False</td>\n",
       "      <td>16</td>\n",
       "      <td>5187</td>\n",
       "      <td>5187</td>\n",
       "    </tr>\n",
       "    <tr>\n",
       "      <th>17</th>\n",
       "      <td>False</td>\n",
       "      <td>17</td>\n",
       "      <td>6996</td>\n",
       "      <td>6996</td>\n",
       "    </tr>\n",
       "    <tr>\n",
       "      <th>18</th>\n",
       "      <td>False</td>\n",
       "      <td>18</td>\n",
       "      <td>8054</td>\n",
       "      <td>8054</td>\n",
       "    </tr>\n",
       "    <tr>\n",
       "      <th>19</th>\n",
       "      <td>False</td>\n",
       "      <td>19</td>\n",
       "      <td>8168</td>\n",
       "      <td>8168</td>\n",
       "    </tr>\n",
       "    <tr>\n",
       "      <th>20</th>\n",
       "      <td>False</td>\n",
       "      <td>20</td>\n",
       "      <td>8068</td>\n",
       "      <td>8068</td>\n",
       "    </tr>\n",
       "    <tr>\n",
       "      <th>21</th>\n",
       "      <td>False</td>\n",
       "      <td>21</td>\n",
       "      <td>8362</td>\n",
       "      <td>8362</td>\n",
       "    </tr>\n",
       "    <tr>\n",
       "      <th>22</th>\n",
       "      <td>False</td>\n",
       "      <td>22</td>\n",
       "      <td>8204</td>\n",
       "      <td>8204</td>\n",
       "    </tr>\n",
       "    <tr>\n",
       "      <th>23</th>\n",
       "      <td>False</td>\n",
       "      <td>23</td>\n",
       "      <td>7976</td>\n",
       "      <td>7976</td>\n",
       "    </tr>\n",
       "    <tr>\n",
       "      <th>24</th>\n",
       "      <td>True</td>\n",
       "      <td>0</td>\n",
       "      <td>4974</td>\n",
       "      <td>4974</td>\n",
       "    </tr>\n",
       "    <tr>\n",
       "      <th>25</th>\n",
       "      <td>True</td>\n",
       "      <td>1</td>\n",
       "      <td>4564</td>\n",
       "      <td>4564</td>\n",
       "    </tr>\n",
       "    <tr>\n",
       "      <th>26</th>\n",
       "      <td>True</td>\n",
       "      <td>2</td>\n",
       "      <td>4337</td>\n",
       "      <td>4337</td>\n",
       "    </tr>\n",
       "    <tr>\n",
       "      <th>27</th>\n",
       "      <td>True</td>\n",
       "      <td>3</td>\n",
       "      <td>4651</td>\n",
       "      <td>4651</td>\n",
       "    </tr>\n",
       "    <tr>\n",
       "      <th>28</th>\n",
       "      <td>True</td>\n",
       "      <td>4</td>\n",
       "      <td>5303</td>\n",
       "      <td>5303</td>\n",
       "    </tr>\n",
       "    <tr>\n",
       "      <th>29</th>\n",
       "      <td>True</td>\n",
       "      <td>5</td>\n",
       "      <td>5122</td>\n",
       "      <td>5122</td>\n",
       "    </tr>\n",
       "    <tr>\n",
       "      <th>30</th>\n",
       "      <td>True</td>\n",
       "      <td>6</td>\n",
       "      <td>4137</td>\n",
       "      <td>4137</td>\n",
       "    </tr>\n",
       "    <tr>\n",
       "      <th>31</th>\n",
       "      <td>True</td>\n",
       "      <td>7</td>\n",
       "      <td>2809</td>\n",
       "      <td>2809</td>\n",
       "    </tr>\n",
       "    <tr>\n",
       "      <th>32</th>\n",
       "      <td>True</td>\n",
       "      <td>8</td>\n",
       "      <td>1695</td>\n",
       "      <td>1695</td>\n",
       "    </tr>\n",
       "    <tr>\n",
       "      <th>33</th>\n",
       "      <td>True</td>\n",
       "      <td>9</td>\n",
       "      <td>1035</td>\n",
       "      <td>1035</td>\n",
       "    </tr>\n",
       "    <tr>\n",
       "      <th>34</th>\n",
       "      <td>True</td>\n",
       "      <td>10</td>\n",
       "      <td>664</td>\n",
       "      <td>664</td>\n",
       "    </tr>\n",
       "    <tr>\n",
       "      <th>35</th>\n",
       "      <td>True</td>\n",
       "      <td>11</td>\n",
       "      <td>586</td>\n",
       "      <td>586</td>\n",
       "    </tr>\n",
       "    <tr>\n",
       "      <th>36</th>\n",
       "      <td>True</td>\n",
       "      <td>12</td>\n",
       "      <td>584</td>\n",
       "      <td>584</td>\n",
       "    </tr>\n",
       "    <tr>\n",
       "      <th>37</th>\n",
       "      <td>True</td>\n",
       "      <td>13</td>\n",
       "      <td>848</td>\n",
       "      <td>848</td>\n",
       "    </tr>\n",
       "    <tr>\n",
       "      <th>38</th>\n",
       "      <td>True</td>\n",
       "      <td>14</td>\n",
       "      <td>1384</td>\n",
       "      <td>1384</td>\n",
       "    </tr>\n",
       "    <tr>\n",
       "      <th>39</th>\n",
       "      <td>True</td>\n",
       "      <td>15</td>\n",
       "      <td>2456</td>\n",
       "      <td>2456</td>\n",
       "    </tr>\n",
       "    <tr>\n",
       "      <th>40</th>\n",
       "      <td>True</td>\n",
       "      <td>16</td>\n",
       "      <td>3910</td>\n",
       "      <td>3910</td>\n",
       "    </tr>\n",
       "    <tr>\n",
       "      <th>41</th>\n",
       "      <td>True</td>\n",
       "      <td>17</td>\n",
       "      <td>5212</td>\n",
       "      <td>5212</td>\n",
       "    </tr>\n",
       "    <tr>\n",
       "      <th>42</th>\n",
       "      <td>True</td>\n",
       "      <td>18</td>\n",
       "      <td>5789</td>\n",
       "      <td>5789</td>\n",
       "    </tr>\n",
       "    <tr>\n",
       "      <th>43</th>\n",
       "      <td>True</td>\n",
       "      <td>19</td>\n",
       "      <td>6010</td>\n",
       "      <td>6010</td>\n",
       "    </tr>\n",
       "    <tr>\n",
       "      <th>44</th>\n",
       "      <td>True</td>\n",
       "      <td>20</td>\n",
       "      <td>5788</td>\n",
       "      <td>5788</td>\n",
       "    </tr>\n",
       "    <tr>\n",
       "      <th>45</th>\n",
       "      <td>True</td>\n",
       "      <td>21</td>\n",
       "      <td>5830</td>\n",
       "      <td>5830</td>\n",
       "    </tr>\n",
       "    <tr>\n",
       "      <th>46</th>\n",
       "      <td>True</td>\n",
       "      <td>22</td>\n",
       "      <td>5624</td>\n",
       "      <td>5624</td>\n",
       "    </tr>\n",
       "    <tr>\n",
       "      <th>47</th>\n",
       "      <td>True</td>\n",
       "      <td>23</td>\n",
       "      <td>5596</td>\n",
       "      <td>5596</td>\n",
       "    </tr>\n",
       "  </tbody>\n",
       "</table>\n",
       "</div>"
      ],
      "text/plain": [
       "   Booked  tfa_hour  country_destination     A\n",
       "0   False         0                 7294  7294\n",
       "1   False         1                 6718  6718\n",
       "2   False         2                 6371  6371\n",
       "3   False         3                 6585  6585\n",
       "4   False         4                 6988  6988\n",
       "5   False         5                 6661  6661\n",
       "6   False         6                 5613  5613\n",
       "7   False         7                 3912  3912\n",
       "8   False         8                 2361  2361\n",
       "9   False         9                 1504  1504\n",
       "10  False        10                 1036  1036\n",
       "11  False        11                  866   866\n",
       "12  False        12                  808   808\n",
       "13  False        13                 1216  1216\n",
       "14  False        14                 2057  2057\n",
       "15  False        15                 3538  3538\n",
       "16  False        16                 5187  5187\n",
       "17  False        17                 6996  6996\n",
       "18  False        18                 8054  8054\n",
       "19  False        19                 8168  8168\n",
       "20  False        20                 8068  8068\n",
       "21  False        21                 8362  8362\n",
       "22  False        22                 8204  8204\n",
       "23  False        23                 7976  7976\n",
       "24   True         0                 4974  4974\n",
       "25   True         1                 4564  4564\n",
       "26   True         2                 4337  4337\n",
       "27   True         3                 4651  4651\n",
       "28   True         4                 5303  5303\n",
       "29   True         5                 5122  5122\n",
       "30   True         6                 4137  4137\n",
       "31   True         7                 2809  2809\n",
       "32   True         8                 1695  1695\n",
       "33   True         9                 1035  1035\n",
       "34   True        10                  664   664\n",
       "35   True        11                  586   586\n",
       "36   True        12                  584   584\n",
       "37   True        13                  848   848\n",
       "38   True        14                 1384  1384\n",
       "39   True        15                 2456  2456\n",
       "40   True        16                 3910  3910\n",
       "41   True        17                 5212  5212\n",
       "42   True        18                 5789  5789\n",
       "43   True        19                 6010  6010\n",
       "44   True        20                 5788  5788\n",
       "45   True        21                 5830  5830\n",
       "46   True        22                 5624  5624\n",
       "47   True        23                 5596  5596"
      ]
     },
     "execution_count": 206,
     "metadata": {},
     "output_type": "execute_result"
    }
   ],
   "source": [
    "XX.reset_index()"
   ]
  },
  {
   "cell_type": "code",
   "execution_count": 236,
   "metadata": {
    "collapsed": false,
    "scrolled": true
   },
   "outputs": [
    {
     "name": "stderr",
     "output_type": "stream",
     "text": [
      "c:\\Anaconda3\\lib\\site-packages\\matplotlib\\__init__.py:892: UserWarning: axes.color_cycle is deprecated and replaced with axes.prop_cycle; please use the latter.\n",
      "  warnings.warn(self.msg_depr % (key, alt_key))\n"
     ]
    },
    {
     "data": {
      "text/plain": [
       "<matplotlib.axes._subplots.AxesSubplot at 0x568c5240>"
      ]
     },
     "execution_count": 236,
     "metadata": {},
     "output_type": "execute_result"
    },
    {
     "data": {
      "image/png": "[encoded data removed]",
      "text/plain": [
       "<matplotlib.figure.Figure at 0x5744c978>"
      ]
     },
     "metadata": {},
     "output_type": "display_data"
    }
   ],
   "source": [
    "XX = pd.concat([X_log['tfa_hour'],y],axis=1)\n",
    "XX['A'] = 1\n",
    "XX['Booked'] = XX['country_destination']!='NDF'\n",
    "XX = XX.groupby(['Booked','tfa_hour']).count()\n",
    "\n",
    "sns.barplot(data=XX.reset_index(),x ='tfa_hour',y='A',hue='Booked', order = range(1,25))\n",
    "\n"
   ]
  },
  {
   "cell_type": "code",
   "execution_count": 254,
   "metadata": {
    "collapsed": false,
    "scrolled": true
   },
   "outputs": [
    {
     "data": {
      "text/html": [
       "<div>\n",
       "<table border=\"1\" class=\"dataframe\">\n",
       "  <thead>\n",
       "    <tr style=\"text-align: right;\">\n",
       "      <th>Booked</th>\n",
       "      <th>False</th>\n",
       "      <th>True</th>\n",
       "      <th>P</th>\n",
       "    </tr>\n",
       "    <tr>\n",
       "      <th>tfa_hour</th>\n",
       "      <th></th>\n",
       "      <th></th>\n",
       "      <th></th>\n",
       "    </tr>\n",
       "  </thead>\n",
       "  <tbody>\n",
       "    <tr>\n",
       "      <th>0</th>\n",
       "      <td>7294</td>\n",
       "      <td>4974</td>\n",
       "      <td>0.405445</td>\n",
       "    </tr>\n",
       "    <tr>\n",
       "      <th>1</th>\n",
       "      <td>6718</td>\n",
       "      <td>4564</td>\n",
       "      <td>0.404538</td>\n",
       "    </tr>\n",
       "    <tr>\n",
       "      <th>2</th>\n",
       "      <td>6371</td>\n",
       "      <td>4337</td>\n",
       "      <td>0.405024</td>\n",
       "    </tr>\n",
       "    <tr>\n",
       "      <th>3</th>\n",
       "      <td>6585</td>\n",
       "      <td>4651</td>\n",
       "      <td>0.413937</td>\n",
       "    </tr>\n",
       "    <tr>\n",
       "      <th>4</th>\n",
       "      <td>6988</td>\n",
       "      <td>5303</td>\n",
       "      <td>0.431454</td>\n",
       "    </tr>\n",
       "    <tr>\n",
       "      <th>5</th>\n",
       "      <td>6661</td>\n",
       "      <td>5122</td>\n",
       "      <td>0.434694</td>\n",
       "    </tr>\n",
       "    <tr>\n",
       "      <th>6</th>\n",
       "      <td>5613</td>\n",
       "      <td>4137</td>\n",
       "      <td>0.424308</td>\n",
       "    </tr>\n",
       "    <tr>\n",
       "      <th>7</th>\n",
       "      <td>3912</td>\n",
       "      <td>2809</td>\n",
       "      <td>0.417944</td>\n",
       "    </tr>\n",
       "    <tr>\n",
       "      <th>8</th>\n",
       "      <td>2361</td>\n",
       "      <td>1695</td>\n",
       "      <td>0.417899</td>\n",
       "    </tr>\n",
       "    <tr>\n",
       "      <th>9</th>\n",
       "      <td>1504</td>\n",
       "      <td>1035</td>\n",
       "      <td>0.407641</td>\n",
       "    </tr>\n",
       "    <tr>\n",
       "      <th>10</th>\n",
       "      <td>1036</td>\n",
       "      <td>664</td>\n",
       "      <td>0.390588</td>\n",
       "    </tr>\n",
       "    <tr>\n",
       "      <th>11</th>\n",
       "      <td>866</td>\n",
       "      <td>586</td>\n",
       "      <td>0.403581</td>\n",
       "    </tr>\n",
       "    <tr>\n",
       "      <th>12</th>\n",
       "      <td>808</td>\n",
       "      <td>584</td>\n",
       "      <td>0.419540</td>\n",
       "    </tr>\n",
       "    <tr>\n",
       "      <th>13</th>\n",
       "      <td>1216</td>\n",
       "      <td>848</td>\n",
       "      <td>0.410853</td>\n",
       "    </tr>\n",
       "    <tr>\n",
       "      <th>14</th>\n",
       "      <td>2057</td>\n",
       "      <td>1384</td>\n",
       "      <td>0.402209</td>\n",
       "    </tr>\n",
       "    <tr>\n",
       "      <th>15</th>\n",
       "      <td>3538</td>\n",
       "      <td>2456</td>\n",
       "      <td>0.409743</td>\n",
       "    </tr>\n",
       "    <tr>\n",
       "      <th>16</th>\n",
       "      <td>5187</td>\n",
       "      <td>3910</td>\n",
       "      <td>0.429812</td>\n",
       "    </tr>\n",
       "    <tr>\n",
       "      <th>17</th>\n",
       "      <td>6996</td>\n",
       "      <td>5212</td>\n",
       "      <td>0.426933</td>\n",
       "    </tr>\n",
       "    <tr>\n",
       "      <th>18</th>\n",
       "      <td>8054</td>\n",
       "      <td>5789</td>\n",
       "      <td>0.418190</td>\n",
       "    </tr>\n",
       "    <tr>\n",
       "      <th>19</th>\n",
       "      <td>8168</td>\n",
       "      <td>6010</td>\n",
       "      <td>0.423896</td>\n",
       "    </tr>\n",
       "    <tr>\n",
       "      <th>20</th>\n",
       "      <td>8068</td>\n",
       "      <td>5788</td>\n",
       "      <td>0.417725</td>\n",
       "    </tr>\n",
       "    <tr>\n",
       "      <th>21</th>\n",
       "      <td>8362</td>\n",
       "      <td>5830</td>\n",
       "      <td>0.410795</td>\n",
       "    </tr>\n",
       "    <tr>\n",
       "      <th>22</th>\n",
       "      <td>8204</td>\n",
       "      <td>5624</td>\n",
       "      <td>0.406711</td>\n",
       "    </tr>\n",
       "    <tr>\n",
       "      <th>23</th>\n",
       "      <td>7976</td>\n",
       "      <td>5596</td>\n",
       "      <td>0.412319</td>\n",
       "    </tr>\n",
       "  </tbody>\n",
       "</table>\n",
       "</div>"
      ],
      "text/plain": [
       "Booked    False  True         P\n",
       "tfa_hour                       \n",
       "0          7294  4974  0.405445\n",
       "1          6718  4564  0.404538\n",
       "2          6371  4337  0.405024\n",
       "3          6585  4651  0.413937\n",
       "4          6988  5303  0.431454\n",
       "5          6661  5122  0.434694\n",
       "6          5613  4137  0.424308\n",
       "7          3912  2809  0.417944\n",
       "8          2361  1695  0.417899\n",
       "9          1504  1035  0.407641\n",
       "10         1036   664  0.390588\n",
       "11          866   586  0.403581\n",
       "12          808   584  0.419540\n",
       "13         1216   848  0.410853\n",
       "14         2057  1384  0.402209\n",
       "15         3538  2456  0.409743\n",
       "16         5187  3910  0.429812\n",
       "17         6996  5212  0.426933\n",
       "18         8054  5789  0.418190\n",
       "19         8168  6010  0.423896\n",
       "20         8068  5788  0.417725\n",
       "21         8362  5830  0.410795\n",
       "22         8204  5624  0.406711\n",
       "23         7976  5596  0.412319"
      ]
     },
     "execution_count": 254,
     "metadata": {},
     "output_type": "execute_result"
    }
   ],
   "source": [
    "YY"
   ]
  },
  {
   "cell_type": "code",
   "execution_count": 255,
   "metadata": {
    "collapsed": false,
    "scrolled": false
   },
   "outputs": [
    {
     "name": "stderr",
     "output_type": "stream",
     "text": [
      "c:\\Anaconda3\\lib\\site-packages\\matplotlib\\__init__.py:892: UserWarning: axes.color_cycle is deprecated and replaced with axes.prop_cycle; please use the latter.\n",
      "  warnings.warn(self.msg_depr % (key, alt_key))\n"
     ]
    },
    {
     "data": {
      "text/plain": [
       "<matplotlib.axes._subplots.AxesSubplot at 0x56cceac8>"
      ]
     },
     "execution_count": 255,
     "metadata": {},
     "output_type": "execute_result"
    },
    {
     "data": {
      "image/png": "[encoded data removed]",
      "text/plain": [
       "<matplotlib.figure.Figure at 0x56cdab70>"
      ]
     },
     "metadata": {},
     "output_type": "display_data"
    }
   ],
   "source": [
    "YY = XX['A'].unstack().T\n",
    "YY.columns[1]\n",
    "YY['P'] = YY[YY.columns[1]]/YY.sum(axis=1)\n",
    "YY\n",
    "sns.barplot(data=YY.reset_index(),x='tfa_hour',y='P')"
   ]
  },
  {
   "cell_type": "code",
   "execution_count": 225,
   "metadata": {
    "collapsed": false
   },
   "outputs": [
    {
     "data": {
      "text/plain": [
       "MultiIndex(levels=[['country_destination', 'A'], [False, True]],\n",
       "           labels=[[1, 1], [0, 1]],\n",
       "           names=[None, 'Booked'])"
      ]
     },
     "execution_count": 225,
     "metadata": {},
     "output_type": "execute_result"
    }
   ],
   "source": [
    "YY = XX.unstack(level=0).drop('country_destination',axis=1)\n",
    "YY.columns\n",
    "#YY['proportion'] = YY[A,'True']/(YY[A,'True']+YY[A,'False'])"
   ]
  }
 ],
 "metadata": {
  "kernelspec": {
   "display_name": "Python 3",
   "language": "python",
   "name": "python3"
  },
  "language_info": {
   "codemirror_mode": {
    "name": "ipython",
    "version": 3
   },
   "file_extension": ".py",
   "mimetype": "text/x-python",
   "name": "python",
   "nbconvert_exporter": "python",
   "pygments_lexer": "ipython3",
   "version": "3.5.1"
  }
 },
 "nbformat": 4,
 "nbformat_minor": 0
}
