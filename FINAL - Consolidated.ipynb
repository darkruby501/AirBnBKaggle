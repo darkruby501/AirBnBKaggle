{
 "cells": [
  {
   "cell_type": "markdown",
   "metadata": {},
   "source": [
    "# AirBnB Recruiting Challenge (Kaggle)\n",
    "\n",
    "**Ruben Bloom**\n",
    "\n",
    "- email: <rmb042@gmail.com>\n",
    "- github: [darkruby501](https://github.com/darkruby501)\n",
    "\n",
    "**Can we predict where a new AirBnB user will make their first booking?**\n",
    "\n",
    "> New users on Airbnb can book a place to stay in 34,000+ cities across 190+ countries. By accurately predicting where a new user will book their first travel experience, Airbnb can share more personalized content with their community, decrease the average time to first booking, and better forecast demand.\n",
    "In this recruiting competition, Airbnb challenges you to predict in which country a new user will make his or her first booking. - [AirBnB Recruiting New User Bookings Challenge on Kaggle](https://www.kaggle.com/c/airbnb-recruiting-new-user-bookings)\n",
    "\n",
    "\n",
    "Skewed Multiclass challenge."
   ]
  },
  {
   "cell_type": "markdown",
   "metadata": {},
   "source": [
    "## Summary\n",
    "\n",
    "**Contents**\n",
    "\n",
    "1. Problem Definition and the Data (Introduction)\n",
    "    * Problem Definition\n",
    "    * Files\n",
    "    * The Measure - NDCG\n",
    "    * A Note About Data Quality\n",
    "3. Data Preparation: Wrangling, Cleaning, and Feature Extraction\n",
    "4. Machine Learning Models\n",
    "    1. Logistic Regression\n",
    "        * Parameter Optimisation\n",
    "    2. Random Forest\n",
    "        * Confusion Matrices\n",
    "        * Classification Report\n",
    "        * Feature Importances\n",
    "        * Validation Curve\n",
    "        * Learning Curve\n",
    "    3. Further Attempts\n",
    "        * Imbalance / Sampling Techniques\n",
    "        * One-vs-One\n",
    "        * \"Staged Classifiers\"\n",
    "5. Results and Findings\n",
    "    * Untried Ideas\n",
    "6. Technical Conclusion\n",
    "7. Practical Recommendations\n",
    "    * Evaluating recommendations"
   ]
  },
  {
   "cell_type": "code",
   "execution_count": 2,
   "metadata": {
    "collapsed": false,
    "scrolled": false
   },
   "outputs": [
    {
     "ename": "FileNotFoundError",
     "evalue": "[Errno 2] No such file or directory: 'airbnb_homepage_suggestions.png'",
     "output_type": "error",
     "traceback": [
      "\u001b[1;31m---------------------------------------------------------------------------\u001b[0m",
      "\u001b[1;31mFileNotFoundError\u001b[0m                         Traceback (most recent call last)",
      "\u001b[1;32m<ipython-input-2-d98c9134f5f2>\u001b[0m in \u001b[0;36m<module>\u001b[1;34m()\u001b[0m\n\u001b[0;32m      1\u001b[0m \u001b[1;32mfrom\u001b[0m \u001b[0mIPython\u001b[0m\u001b[1;33m.\u001b[0m\u001b[0mcore\u001b[0m\u001b[1;33m.\u001b[0m\u001b[0mdisplay\u001b[0m \u001b[1;32mimport\u001b[0m \u001b[0mImage\u001b[0m\u001b[1;33m\u001b[0m\u001b[0m\n\u001b[1;32m----> 2\u001b[1;33m \u001b[0mImage\u001b[0m\u001b[1;33m(\u001b[0m\u001b[0mfilename\u001b[0m\u001b[1;33m=\u001b[0m\u001b[1;34m'airbnb_homepage_suggestions.png'\u001b[0m\u001b[1;33m,\u001b[0m\u001b[0mwidth\u001b[0m\u001b[1;33m=\u001b[0m\u001b[1;36m600\u001b[0m\u001b[1;33m)\u001b[0m\u001b[1;33m\u001b[0m\u001b[0m\n\u001b[0m",
      "\u001b[1;32mc:\\Anaconda3\\lib\\site-packages\\IPython\\core\\display.py\u001b[0m in \u001b[0;36m__init__\u001b[1;34m(self, data, url, filename, format, embed, width, height, retina, unconfined, metadata)\u001b[0m\n\u001b[0;32m    737\u001b[0m         \u001b[0mself\u001b[0m\u001b[1;33m.\u001b[0m\u001b[0munconfined\u001b[0m \u001b[1;33m=\u001b[0m \u001b[0munconfined\u001b[0m\u001b[1;33m\u001b[0m\u001b[0m\n\u001b[0;32m    738\u001b[0m         \u001b[0mself\u001b[0m\u001b[1;33m.\u001b[0m\u001b[0mmetadata\u001b[0m \u001b[1;33m=\u001b[0m \u001b[0mmetadata\u001b[0m\u001b[1;33m\u001b[0m\u001b[0m\n\u001b[1;32m--> 739\u001b[1;33m         \u001b[0msuper\u001b[0m\u001b[1;33m(\u001b[0m\u001b[0mImage\u001b[0m\u001b[1;33m,\u001b[0m \u001b[0mself\u001b[0m\u001b[1;33m)\u001b[0m\u001b[1;33m.\u001b[0m\u001b[0m__init__\u001b[0m\u001b[1;33m(\u001b[0m\u001b[0mdata\u001b[0m\u001b[1;33m=\u001b[0m\u001b[0mdata\u001b[0m\u001b[1;33m,\u001b[0m \u001b[0murl\u001b[0m\u001b[1;33m=\u001b[0m\u001b[0murl\u001b[0m\u001b[1;33m,\u001b[0m \u001b[0mfilename\u001b[0m\u001b[1;33m=\u001b[0m\u001b[0mfilename\u001b[0m\u001b[1;33m)\u001b[0m\u001b[1;33m\u001b[0m\u001b[0m\n\u001b[0m\u001b[0;32m    740\u001b[0m \u001b[1;33m\u001b[0m\u001b[0m\n\u001b[0;32m    741\u001b[0m         \u001b[1;32mif\u001b[0m \u001b[0mretina\u001b[0m\u001b[1;33m:\u001b[0m\u001b[1;33m\u001b[0m\u001b[0m\n",
      "\u001b[1;32mc:\\Anaconda3\\lib\\site-packages\\IPython\\core\\display.py\u001b[0m in \u001b[0;36m__init__\u001b[1;34m(self, data, url, filename)\u001b[0m\n\u001b[0;32m    384\u001b[0m         \u001b[0mself\u001b[0m\u001b[1;33m.\u001b[0m\u001b[0mfilename\u001b[0m \u001b[1;33m=\u001b[0m \u001b[1;32mNone\u001b[0m \u001b[1;32mif\u001b[0m \u001b[0mfilename\u001b[0m \u001b[1;32mis\u001b[0m \u001b[1;32mNone\u001b[0m \u001b[1;32melse\u001b[0m \u001b[0municode_type\u001b[0m\u001b[1;33m(\u001b[0m\u001b[0mfilename\u001b[0m\u001b[1;33m)\u001b[0m\u001b[1;33m\u001b[0m\u001b[0m\n\u001b[0;32m    385\u001b[0m \u001b[1;33m\u001b[0m\u001b[0m\n\u001b[1;32m--> 386\u001b[1;33m         \u001b[0mself\u001b[0m\u001b[1;33m.\u001b[0m\u001b[0mreload\u001b[0m\u001b[1;33m(\u001b[0m\u001b[1;33m)\u001b[0m\u001b[1;33m\u001b[0m\u001b[0m\n\u001b[0m\u001b[0;32m    387\u001b[0m         \u001b[0mself\u001b[0m\u001b[1;33m.\u001b[0m\u001b[0m_check_data\u001b[0m\u001b[1;33m(\u001b[0m\u001b[1;33m)\u001b[0m\u001b[1;33m\u001b[0m\u001b[0m\n\u001b[0;32m    388\u001b[0m \u001b[1;33m\u001b[0m\u001b[0m\n",
      "\u001b[1;32mc:\\Anaconda3\\lib\\site-packages\\IPython\\core\\display.py\u001b[0m in \u001b[0;36mreload\u001b[1;34m(self)\u001b[0m\n\u001b[0;32m    759\u001b[0m         \u001b[1;34m\"\"\"Reload the raw data from file or URL.\"\"\"\u001b[0m\u001b[1;33m\u001b[0m\u001b[0m\n\u001b[0;32m    760\u001b[0m         \u001b[1;32mif\u001b[0m \u001b[0mself\u001b[0m\u001b[1;33m.\u001b[0m\u001b[0membed\u001b[0m\u001b[1;33m:\u001b[0m\u001b[1;33m\u001b[0m\u001b[0m\n\u001b[1;32m--> 761\u001b[1;33m             \u001b[0msuper\u001b[0m\u001b[1;33m(\u001b[0m\u001b[0mImage\u001b[0m\u001b[1;33m,\u001b[0m\u001b[0mself\u001b[0m\u001b[1;33m)\u001b[0m\u001b[1;33m.\u001b[0m\u001b[0mreload\u001b[0m\u001b[1;33m(\u001b[0m\u001b[1;33m)\u001b[0m\u001b[1;33m\u001b[0m\u001b[0m\n\u001b[0m\u001b[0;32m    762\u001b[0m             \u001b[1;32mif\u001b[0m \u001b[0mself\u001b[0m\u001b[1;33m.\u001b[0m\u001b[0mretina\u001b[0m\u001b[1;33m:\u001b[0m\u001b[1;33m\u001b[0m\u001b[0m\n\u001b[0;32m    763\u001b[0m                 \u001b[0mself\u001b[0m\u001b[1;33m.\u001b[0m\u001b[0m_retina_shape\u001b[0m\u001b[1;33m(\u001b[0m\u001b[1;33m)\u001b[0m\u001b[1;33m\u001b[0m\u001b[0m\n",
      "\u001b[1;32mc:\\Anaconda3\\lib\\site-packages\\IPython\\core\\display.py\u001b[0m in \u001b[0;36mreload\u001b[1;34m(self)\u001b[0m\n\u001b[0;32m    402\u001b[0m         \u001b[1;34m\"\"\"Reload the raw data from file or URL.\"\"\"\u001b[0m\u001b[1;33m\u001b[0m\u001b[0m\n\u001b[0;32m    403\u001b[0m         \u001b[1;32mif\u001b[0m \u001b[0mself\u001b[0m\u001b[1;33m.\u001b[0m\u001b[0mfilename\u001b[0m \u001b[1;32mis\u001b[0m \u001b[1;32mnot\u001b[0m \u001b[1;32mNone\u001b[0m\u001b[1;33m:\u001b[0m\u001b[1;33m\u001b[0m\u001b[0m\n\u001b[1;32m--> 404\u001b[1;33m             \u001b[1;32mwith\u001b[0m \u001b[0mopen\u001b[0m\u001b[1;33m(\u001b[0m\u001b[0mself\u001b[0m\u001b[1;33m.\u001b[0m\u001b[0mfilename\u001b[0m\u001b[1;33m,\u001b[0m \u001b[0mself\u001b[0m\u001b[1;33m.\u001b[0m\u001b[0m_read_flags\u001b[0m\u001b[1;33m)\u001b[0m \u001b[1;32mas\u001b[0m \u001b[0mf\u001b[0m\u001b[1;33m:\u001b[0m\u001b[1;33m\u001b[0m\u001b[0m\n\u001b[0m\u001b[0;32m    405\u001b[0m                 \u001b[0mself\u001b[0m\u001b[1;33m.\u001b[0m\u001b[0mdata\u001b[0m \u001b[1;33m=\u001b[0m \u001b[0mf\u001b[0m\u001b[1;33m.\u001b[0m\u001b[0mread\u001b[0m\u001b[1;33m(\u001b[0m\u001b[1;33m)\u001b[0m\u001b[1;33m\u001b[0m\u001b[0m\n\u001b[0;32m    406\u001b[0m         \u001b[1;32melif\u001b[0m \u001b[0mself\u001b[0m\u001b[1;33m.\u001b[0m\u001b[0murl\u001b[0m \u001b[1;32mis\u001b[0m \u001b[1;32mnot\u001b[0m \u001b[1;32mNone\u001b[0m\u001b[1;33m:\u001b[0m\u001b[1;33m\u001b[0m\u001b[0m\n",
      "\u001b[1;31mFileNotFoundError\u001b[0m: [Errno 2] No such file or directory: 'airbnb_homepage_suggestions.png'"
     ]
    }
   ],
   "source": [
    "from IPython.core.display import Image\n",
    "Image(filename='airbnb_homepage_suggestions.png',width=600)"
   ]
  },
  {
   "cell_type": "markdown",
   "metadata": {},
   "source": [
    "# Acknowledgements\n",
    "\n",
    "I give thanks and credit to my Springboard mentor, Karthik Ramasay, who advised me throughout this project. And to the Kaggle community whose forum provided much useful advice, especically David Gasquez whose initial Data Exploration was especially helpful. While the project as a whole is mine, various pieces were learnt from the examples of others."
   ]
  },
  {
   "cell_type": "markdown",
   "metadata": {},
   "source": [
    "# Start your kernels!"
   ]
  },
  {
   "cell_type": "code",
   "execution_count": 3,
   "metadata": {
    "collapsed": false
   },
   "outputs": [
    {
     "name": "stderr",
     "output_type": "stream",
     "text": [
      "c:\\Anaconda3\\lib\\site-packages\\matplotlib\\__init__.py:872: UserWarning: axes.color_cycle is deprecated and replaced with axes.prop_cycle; please use the latter.\n",
      "  warnings.warn(self.msg_depr % (key, alt_key))\n"
     ]
    }
   ],
   "source": [
    "from IPython.core.display import Image\n",
    "import numpy as np\n",
    "import pandas as pd\n",
    "import matplotlib.pyplot as plt\n",
    "import seaborn as sns\n",
    "\n",
    "# Draw inline\n",
    "%matplotlib inline\n",
    "\n",
    "# Set figure aesthetics\n",
    "sns.set_style(\"white\", {'ytick.major.size': 10.0})\n",
    "sns.set_context(\"talk\", font_scale=1.1)"
   ]
  },
  {
   "cell_type": "code",
   "execution_count": null,
   "metadata": {
    "collapsed": true
   },
   "outputs": [],
   "source": []
  },
  {
   "cell_type": "markdown",
   "metadata": {},
   "source": [
    "# 1. Introduction"
   ]
  },
  {
   "cell_type": "markdown",
   "metadata": {},
   "source": [
    "## Problem Definition\n",
    "All users are from the US\n",
    "\n",
    "\n",
    "**Skewed Multiclass Classificaiton Problem:**\n",
    "\n",
    "12 classes. Below show that there is signficant skews"
   ]
  },
  {
   "cell_type": "markdown",
   "metadata": {},
   "source": [
    "### Measure: Normalised Cumulative Discounted Gain\n",
    "\n",
    "$$DCG_k=\\sum_{i=1}^k\\frac{2^{rel_i}-1}{\\log_2{\\left(i+1\\right)}}$$\n",
    "\n",
    "Normalised DCG is calculated by dividing the actual DCG by the maximum possible (ideal) DCG. In our case where relevance is binrary and only one result is \"relevant\", the maximum possible DCG is one, and so the NDCG reduces to DCG formula.\n",
    "\n",
    "\n",
    "- https://www.kaggle.com/wiki/NormalizedDiscountedCumulativeGain\n",
    "- https://www.kaggle.com/wendykan/airbnb-recruiting-new-user-bookings/ndcg-example\n",
    "- https://gist.github.com/bwhite/3726239"
   ]
  },
  {
   "cell_type": "code",
   "execution_count": 4,
   "metadata": {
    "collapsed": false
   },
   "outputs": [
    {
     "name": "stdout",
     "output_type": "stream",
     "text": [
      "Correct Destination in Position 0: NDGG = 1.000\n",
      "Correct Destination in Position 1: NDGG = 0.631\n",
      "Correct Destination in Position 2: NDGG = 0.500\n",
      "Correct Destination in Position 3: NDGG = 0.431\n",
      "Correct Destination in Position 4: NDGG = 0.387\n"
     ]
    }
   ],
   "source": [
    "# Create a NDCG scorer function for use with Scikit-Learn.\n",
    "from rank_metrics import ndcg_at_k\n",
    "from sklearn.metrics import make_scorer\n",
    "\n",
    "def ndcg_wrapper(y_true,y_pred_proba):\n",
    "    Y = np.fliplr(y_pred_proba.argsort())\n",
    "      \n",
    "    R = []\n",
    "    NDCG = []\n",
    "    for i in range(0,y_true.size):\n",
    "        r = (Y[i,:]==y_true[i]).astype(int)\n",
    "        R.append(r)\n",
    "        NDCG.append(ndcg_at_k(r,5,method=1))\n",
    "    return np.mean(NDCG)\n",
    "\n",
    "ndcg_scorer = make_scorer(ndcg_wrapper, greater_is_better=True, needs_proba=True)\n",
    "\n",
    "for i in range(0,5):\n",
    "    print(\"Correct Destination in Position %d: NDGG = %.3f\" % (i,ndcg_at_k([0]*i+[1],5,1)))"
   ]
  },
  {
   "cell_type": "markdown",
   "metadata": {},
   "source": [
    "## Files Provided \n",
    "**train_users_2.csv, test_users.csv**\n",
    "\n",
    "This is the primary database and includes user age, gender, language, time first active, date account created, sign up method, sign up flow, affiliate information, first device, first browser, and ultimate country destination of first booking.\n",
    "\n",
    "**sessions.csv**\n",
    "\n",
    "The sessions file contains browsing information for users at the level of individual actions. Action, action type, action detail, device type (e.g. Windows/Mac/Android/Mobile) and seconds elapsed since previous action are included. Examples rows in Table 1.\n",
    "\n",
    "**age_gender_bkt.csv**\n",
    "\n",
    "This file contains the number of users in each age and gender bracket, e.g. (Female, 24-29), travelling to each destination in 2015.\n",
    "\n",
    "**countries.csv**\n",
    "\n",
    "This file contains information on each country destination, including latitude and longitude of the country, distance from the US, size of the country, language in the country, and the Levenshtein distance  from English to the country’s language.\n",
    "\n",
    "I did not make use of this file. Prior results that it unlikely to improve results."
   ]
  },
  {
   "cell_type": "markdown",
   "metadata": {},
   "source": [
    "## A Note About Data Quality\n",
    "It should be noted that the quality of the data is unlikely to perfect. As with most user data collected online, the recording is imperfect. \n",
    "\n",
    "Consider that AirBnB attempts to log when a user was first active, as well as track their sessions. This is difficult because of the Many Screens Problem . A user may have been browsing extensively on one computer, perhaps at work, and then make the actual booking at home. It will appear that the user booked spontaneously without browsing. Similarly, many people browse on mobile but book at full computer. Until a user has created an account and is signed in, this is difficult to track.\n",
    "\n",
    "Ultimately, we cannot be sure that any recorded data about a user is the complete picture of their behavioural pattern. We should expect that the data is noisy.\n",
    "\n",
    "\n",
    "http://www.kaushik.net/avinash/multi-channel-attribution-definitions-models/\n"
   ]
  },
  {
   "cell_type": "markdown",
   "metadata": {},
   "source": [
    "# 2. Data Preparation: Wrangling, Cleaning, and Feature Extraction"
   ]
  },
  {
   "cell_type": "markdown",
   "metadata": {},
   "source": [
    "### Main Files: train_users.csv, test_users.csv\n",
    "These are the main files for the competition and include basic information about users, including the label of which country they booked in. First let's take a little look."
   ]
  },
  {
   "cell_type": "code",
   "execution_count": 5,
   "metadata": {
    "collapsed": false
   },
   "outputs": [],
   "source": [
    "train_users = pd.read_csv('input/train_users_2.csv')\n",
    "test_users = pd.read_csv('input/test_users.csv')\n",
    "piv_train = train_users.shape[0] # Store length of train_users file\n",
    "labels = train_users['country_destination'].values\n",
    "\n",
    "all_users = pd.concat([train_users,test_users],axis=0,ignore_index=True) #Combine train and test for joint processing.\n",
    "all_users_preserved = all_users"
   ]
  },
  {
   "cell_type": "code",
   "execution_count": 6,
   "metadata": {
    "collapsed": false,
    "scrolled": false
   },
   "outputs": [
    {
     "data": {
      "text/html": [
       "<div>\n",
       "<table border=\"1\" class=\"dataframe\">\n",
       "  <thead>\n",
       "    <tr style=\"text-align: right;\">\n",
       "      <th></th>\n",
       "      <th>affiliate_channel</th>\n",
       "      <th>affiliate_provider</th>\n",
       "      <th>age</th>\n",
       "      <th>country_destination</th>\n",
       "      <th>date_account_created</th>\n",
       "      <th>date_first_booking</th>\n",
       "      <th>first_affiliate_tracked</th>\n",
       "      <th>first_browser</th>\n",
       "      <th>first_device_type</th>\n",
       "      <th>gender</th>\n",
       "      <th>id</th>\n",
       "      <th>language</th>\n",
       "      <th>signup_app</th>\n",
       "      <th>signup_flow</th>\n",
       "      <th>signup_method</th>\n",
       "      <th>timestamp_first_active</th>\n",
       "    </tr>\n",
       "  </thead>\n",
       "  <tbody>\n",
       "    <tr>\n",
       "      <th>0</th>\n",
       "      <td>direct</td>\n",
       "      <td>direct</td>\n",
       "      <td>NaN</td>\n",
       "      <td>NDF</td>\n",
       "      <td>2010-06-28</td>\n",
       "      <td>NaN</td>\n",
       "      <td>untracked</td>\n",
       "      <td>Chrome</td>\n",
       "      <td>Mac Desktop</td>\n",
       "      <td>-unknown-</td>\n",
       "      <td>gxn3p5htnn</td>\n",
       "      <td>en</td>\n",
       "      <td>Web</td>\n",
       "      <td>0</td>\n",
       "      <td>facebook</td>\n",
       "      <td>20090319043255</td>\n",
       "    </tr>\n",
       "    <tr>\n",
       "      <th>1</th>\n",
       "      <td>seo</td>\n",
       "      <td>google</td>\n",
       "      <td>38</td>\n",
       "      <td>NDF</td>\n",
       "      <td>2011-05-25</td>\n",
       "      <td>NaN</td>\n",
       "      <td>untracked</td>\n",
       "      <td>Chrome</td>\n",
       "      <td>Mac Desktop</td>\n",
       "      <td>MALE</td>\n",
       "      <td>820tgsjxq7</td>\n",
       "      <td>en</td>\n",
       "      <td>Web</td>\n",
       "      <td>0</td>\n",
       "      <td>facebook</td>\n",
       "      <td>20090523174809</td>\n",
       "    </tr>\n",
       "    <tr>\n",
       "      <th>2</th>\n",
       "      <td>direct</td>\n",
       "      <td>direct</td>\n",
       "      <td>56</td>\n",
       "      <td>US</td>\n",
       "      <td>2010-09-28</td>\n",
       "      <td>2010-08-02</td>\n",
       "      <td>untracked</td>\n",
       "      <td>IE</td>\n",
       "      <td>Windows Desktop</td>\n",
       "      <td>FEMALE</td>\n",
       "      <td>4ft3gnwmtx</td>\n",
       "      <td>en</td>\n",
       "      <td>Web</td>\n",
       "      <td>3</td>\n",
       "      <td>basic</td>\n",
       "      <td>20090609231247</td>\n",
       "    </tr>\n",
       "    <tr>\n",
       "      <th>3</th>\n",
       "      <td>direct</td>\n",
       "      <td>direct</td>\n",
       "      <td>42</td>\n",
       "      <td>other</td>\n",
       "      <td>2011-12-05</td>\n",
       "      <td>2012-09-08</td>\n",
       "      <td>untracked</td>\n",
       "      <td>Firefox</td>\n",
       "      <td>Mac Desktop</td>\n",
       "      <td>FEMALE</td>\n",
       "      <td>bjjt8pjhuk</td>\n",
       "      <td>en</td>\n",
       "      <td>Web</td>\n",
       "      <td>0</td>\n",
       "      <td>facebook</td>\n",
       "      <td>20091031060129</td>\n",
       "    </tr>\n",
       "    <tr>\n",
       "      <th>4</th>\n",
       "      <td>direct</td>\n",
       "      <td>direct</td>\n",
       "      <td>41</td>\n",
       "      <td>US</td>\n",
       "      <td>2010-09-14</td>\n",
       "      <td>2010-02-18</td>\n",
       "      <td>untracked</td>\n",
       "      <td>Chrome</td>\n",
       "      <td>Mac Desktop</td>\n",
       "      <td>-unknown-</td>\n",
       "      <td>87mebub9p4</td>\n",
       "      <td>en</td>\n",
       "      <td>Web</td>\n",
       "      <td>0</td>\n",
       "      <td>basic</td>\n",
       "      <td>20091208061105</td>\n",
       "    </tr>\n",
       "  </tbody>\n",
       "</table>\n",
       "</div>"
      ],
      "text/plain": [
       "  affiliate_channel affiliate_provider  age country_destination  \\\n",
       "0            direct             direct  NaN                 NDF   \n",
       "1               seo             google   38                 NDF   \n",
       "2            direct             direct   56                  US   \n",
       "3            direct             direct   42               other   \n",
       "4            direct             direct   41                  US   \n",
       "\n",
       "  date_account_created date_first_booking first_affiliate_tracked  \\\n",
       "0           2010-06-28                NaN               untracked   \n",
       "1           2011-05-25                NaN               untracked   \n",
       "2           2010-09-28         2010-08-02               untracked   \n",
       "3           2011-12-05         2012-09-08               untracked   \n",
       "4           2010-09-14         2010-02-18               untracked   \n",
       "\n",
       "  first_browser first_device_type     gender          id language signup_app  \\\n",
       "0        Chrome       Mac Desktop  -unknown-  gxn3p5htnn       en        Web   \n",
       "1        Chrome       Mac Desktop       MALE  820tgsjxq7       en        Web   \n",
       "2            IE   Windows Desktop     FEMALE  4ft3gnwmtx       en        Web   \n",
       "3       Firefox       Mac Desktop     FEMALE  bjjt8pjhuk       en        Web   \n",
       "4        Chrome       Mac Desktop  -unknown-  87mebub9p4       en        Web   \n",
       "\n",
       "   signup_flow signup_method  timestamp_first_active  \n",
       "0            0      facebook          20090319043255  \n",
       "1            0      facebook          20090523174809  \n",
       "2            3         basic          20090609231247  \n",
       "3            0      facebook          20091031060129  \n",
       "4            0         basic          20091208061105  "
      ]
     },
     "execution_count": 6,
     "metadata": {},
     "output_type": "execute_result"
    }
   ],
   "source": [
    "all_users.head()"
   ]
  },
  {
   "cell_type": "markdown",
   "metadata": {},
   "source": [
    "Note how date_first_booking has a few NaN values, that's because people who didn't book don't have first booking dates! We will discard this column, but initially this data leak caused the restart of the AirBnB competition."
   ]
  },
  {
   "cell_type": "code",
   "execution_count": 7,
   "metadata": {
    "collapsed": true
   },
   "outputs": [],
   "source": [
    "# Get rid of date_first_booking - not useful! \n",
    "if 'date_first_booking' in all_users.columns:\n",
    "    all_users.drop(['date_first_booking'],axis=1,inplace=True)"
   ]
  },
  {
   "cell_type": "code",
   "execution_count": 8,
   "metadata": {
    "collapsed": false
   },
   "outputs": [
    {
     "name": "stdout",
     "output_type": "stream",
     "text": [
      "Features in User files:\n",
      " ['affiliate_channel', 'affiliate_provider', 'age', 'country_destination', 'date_account_created', 'first_affiliate_tracked', 'first_browser', 'first_device_type', 'gender', 'id', 'language', 'signup_app', 'signup_flow', 'signup_method', 'timestamp_first_active']\n",
      "\n",
      "\n",
      "Number of Users in the Training Set =  213451\n",
      "Number of Users in the Test Set =  62096\n",
      "\n",
      "\n",
      "Earliest \"Date Account Created\" in Training Set: 2010-01-01 00:00:00\n",
      "Latest \"Date Account Created\" in Training Set: 2014-06-30 00:00:00\n",
      "Earliest \"Date Account Created\" in Test Set: 2014-07-01 00:00:00\n",
      "Latest \"Date Account Created\" in Training Set: 2014-09-30 00:00:00\n",
      "\n",
      "\n",
      "Destination countries:  ['AU' 'CA' 'DE' 'ES' 'FR' 'GB' 'IT' 'NDF' 'NL' 'PT' 'US' 'other']\n"
     ]
    }
   ],
   "source": [
    "print('Features in User files:\\n', list(all_users.columns))\n",
    "print('\\n')\n",
    "print(\"Number of Users in the Training Set = \",train_users.shape[0])\n",
    "print(\"Number of Users in the Test Set = \",test_users.shape[0])\n",
    "print('\\n')\n",
    "print('Earliest \"Date Account Created\" in Training Set:',pd.to_datetime(train_users['date_account_created']).min())\n",
    "print('Latest \"Date Account Created\" in Training Set:',pd.to_datetime(train_users['date_account_created']).max())\n",
    "print('Earliest \"Date Account Created\" in Test Set:',pd.to_datetime(test_users['date_account_created']).min())\n",
    "print('Latest \"Date Account Created\" in Training Set:',pd.to_datetime(test_users['date_account_created']).max())\n",
    "print('\\n')\n",
    "print('Destination countries: ', np.unique(train_users['country_destination']))"
   ]
  },
  {
   "cell_type": "markdown",
   "metadata": {},
   "source": [
    "Training Set contains users from the period January 2010 - June 2014. Test Set contains users from July - September 2014."
   ]
  },
  {
   "cell_type": "markdown",
   "metadata": {},
   "source": [
    "#### Comments\n",
    "Destination Countries: Australia, Canada, Germany, Spain, France, Great Britain, Italy, \"No Destination Found\", Netherlands, Portugal, USA, \"other\".\n",
    "\n",
    "No Destination Found means no booking was made for that user within the measured period. \"Other\" means a booking was made to a country not already listed."
   ]
  },
  {
   "cell_type": "markdown",
   "metadata": {},
   "source": [
    "### Imbalanced Classes - Number of Bookings in Each Country\n",
    "Very imbalanced. The bulk do not book."
   ]
  },
  {
   "cell_type": "code",
   "execution_count": 9,
   "metadata": {
    "collapsed": false,
    "scrolled": false
   },
   "outputs": [
    {
     "name": "stderr",
     "output_type": "stream",
     "text": [
      "c:\\Anaconda3\\lib\\site-packages\\matplotlib\\__init__.py:892: UserWarning: axes.color_cycle is deprecated and replaced with axes.prop_cycle; please use the latter.\n",
      "  warnings.warn(self.msg_depr % (key, alt_key))\n"
     ]
    },
    {
     "data": {
      "image/png": "[encoded data removed]",
      "text/plain": [
       "<matplotlib.figure.Figure at 0x48be278>"
      ]
     },
     "metadata": {},
     "output_type": "display_data"
    }
   ],
   "source": [
    "sns.countplot(x=\"country_destination\",data=train_users)\n",
    "plt.xlabel('Destination Country')\n",
    "plt.ylabel('Number of Bookings')\n",
    "plt.title('Count of Bookings for each Destination')\n",
    "sns.despine()"
   ]
  },
  {
   "cell_type": "markdown",
   "metadata": {},
   "source": [
    "### Missing Values"
   ]
  },
  {
   "cell_type": "code",
   "execution_count": 10,
   "metadata": {
    "collapsed": false,
    "scrolled": true
   },
   "outputs": [
    {
     "name": "stdout",
     "output_type": "stream",
     "text": [
      "Missing Data Percentages for Each Feature:\n",
      "age                        42.412365\n",
      "country_destination        22.535538\n",
      "first_affiliate_tracked     2.208335\n",
      "gender                     46.990169\n",
      "dtype: float64\n",
      "\n",
      "\n",
      "% of \"first_affiliates\" with value \"untracked\"): 0.519624601248\n"
     ]
    }
   ],
   "source": [
    "# Replace \"-unknown-\" gender values with NaN\n",
    "all_users['gender'].replace('-unknown-',np.nan, inplace=True)\n",
    "\n",
    "# How many values are missing?\n",
    "all_nan = (all_users.isnull().sum() / all_users.shape[0]) * 100\n",
    "print('Missing Data Percentages for Each Feature:\\n', all_nan[all_nan > 0],sep='')\n",
    "print('\\n')\n",
    "\n",
    "# How many first_affiliate_tracked values are \"untracked\"?\n",
    "print('% of \"first_affiliates\" with value \"untracked\"):',sum(all_users['first_affiliate_tracked']=='untracked')/len(all_users))\n",
    "# Set missing values to 'untracked'\n",
    "all_users['first_affiliate_tracked'].fillna('untracked',inplace=True)\n"
   ]
  },
  {
   "cell_type": "markdown",
   "metadata": {},
   "source": [
    "42% of ages values and 47% of gender values are missing and must be dealt with. \n",
    "\n",
    "*first_affiliate_tracked* is missing only a few percent of valeus, but inspection shows that in fact 50% of the first_affiliate_tracked values are \"untracked\". We might as well fill the NaNs with \"untracked\" as well."
   ]
  },
  {
   "cell_type": "markdown",
   "metadata": {},
   "source": [
    "#### Missing and Invalid Age Values"
   ]
  },
  {
   "cell_type": "code",
   "execution_count": 11,
   "metadata": {
    "collapsed": false,
    "scrolled": true
   },
   "outputs": [
    {
     "name": "stdout",
     "output_type": "stream",
     "text": [
      "User Age Summary Stats:\n",
      "count    158681.000000\n",
      "mean         47.145310\n",
      "std         142.629468\n",
      "min           1.000000\n",
      "25%          28.000000\n",
      "50%          33.000000\n",
      "75%          42.000000\n",
      "max        2014.000000\n",
      "Name: age, dtype: float64\n",
      "\n",
      "\n",
      "Number of user age values > 100: 2690\n",
      "Number of user age values < 15: 59\n"
     ]
    }
   ],
   "source": [
    "print('User Age Summary Stats:\\n',all_users['age'].describe(),sep='')\n",
    "print('\\n')\n",
    "print('Number of user age values > 100:', sum(all_users.age > 100))\n",
    "print('Number of user age values < 15:', sum(all_users.age < 15))\n",
    "\n",
    "#Consider ages outside of range [15,100) as invalid and set to missing.\n",
    "all_users.loc[all_users['age'] > 100, 'age'] = np.nan\n",
    "all_users.loc[all_users['age'] < 15, 'age'] = np.nan\n",
    "\n",
    "#Replace missing age values with -1 to create distinct cluster.\n",
    "all_users['age'].fillna(-111,inplace=True) #replace missing values with out of range value.\n"
   ]
  },
  {
   "cell_type": "markdown",
   "metadata": {},
   "source": [
    "Age is missing a lot of values, so it needs a closer look. Examination shows that the minimum age is 1 (much too young!) and the oldest age is 2014 (quite a record!). There are 2749 invalid entries which I will lump together with the missing values by setting them to NaN.\n",
    "\n",
    "#### Imputation: Missing at random? Or not?\n",
    "Although it is common to blithely replace missing values with mean, median or randomly, we cannot do so before asking about the nature of the missing values. How did they come to be missing?\n",
    "\n",
    "In our case, age and gender values are missing because users didn't fill them in or didn't fill them in correctly\\*. As we might expect users with more serious intentions to fill out forms correctly, it is important information to know whether a user did or did not. Crucially there may be difference in behaviour between the cluster of female 20-24 year olds who did fill out the forms and those who didn't. We don't want to prematurely collapse that distinction. \n",
    "\n",
    "For this reason, I chose to set missing ages to -1 so that the trained classifier might treat them as their own category. As a Logistic Regression classifier cannot handle non-linear features in this manner, I later impute the median before training it.\n",
    "\n",
    "See *Data Analysis Using Regression and Multilevel/Heirarchical Models, [Ch. 25](http://www.stat.columbia.edu/~gelman/arm/missing.pdf)*, by Gelman and Hill for a great intro to handling missing values.\n",
    "\n",
    "\\* All users created accounts, so it's not just a matter of people never creating an accounts. Although it now seems you can't sign up to AirBnB with providing age. You can join using your Facebook or Gmail accounts, possibly without providing age."
   ]
  },
  {
   "cell_type": "markdown",
   "metadata": {
    "collapsed": true
   },
   "source": [
    "### More Processing \n",
    "#### One-Encoding, Discretisation, Segmenting Date Values"
   ]
  },
  {
   "cell_type": "code",
   "execution_count": 12,
   "metadata": {
    "collapsed": true
   },
   "outputs": [],
   "source": [
    "## One-Hot Encoding\n",
    "categorical_features = ['affiliate_channel','affiliate_provider','first_affiliate_tracked',\n",
    "                      'first_browser','first_device_type','gender','language','signup_app','signup_flow','signup_method']\n",
    "all_users = pd.get_dummies(all_users,columns=categorical_features)\n",
    "\n",
    "# Discretise Age\n",
    "A = pd.cut(all_users['age'],list(range(14,100,5)),right=True)\n",
    "A = pd.get_dummies(A)\n",
    "all_users = pd.concat([all_users,A],axis=1)\n",
    "\n",
    "# Segment date components\n",
    "# date_account_created\n",
    "dac = np.vstack(all_users.date_account_created.astype(str).apply(lambda x: list(map(int, x.split('-')))).values)\n",
    "all_users['dac_year'] = dac[:,0]\n",
    "all_users['dac_month'] = dac[:,1]\n",
    "all_users['dac_day'] = dac[:,2]\n",
    "all_users.drop(['date_account_created'],axis=1,inplace=True)\n",
    "\n",
    "#time first active\n",
    "tfa = np.vstack(all_users.timestamp_first_active.astype(str).apply(lambda x: list(map(int, [x[:4],x[4:6],x[6:8],x[8:10],x[10:12],x[12:14]]))).values)\n",
    "all_users['tfa_year'] = tfa[:,0]\n",
    "all_users['tfa_month'] = tfa[:,1]\n",
    "all_users['tfa_day'] = tfa[:,2]\n",
    "all_users['tfa_hour'] = tfa[:,3]\n",
    "all_users.drop(['timestamp_first_active'],axis=1,inplace=True)"
   ]
  },
  {
   "cell_type": "markdown",
   "metadata": {},
   "source": [
    "#### One-Hot Encoding of Categorical Features\n",
    "To the make data suitable for a classifier, categorical variables (including gender) were converted to one-hot encoding. E.g. the gender feature become three mutually exclusive, binary features: gender_FEMALE, gender_MALE, and gender_OTHER. If a user entered 'female', gender_FEMALE will correspondingly be high.\n",
    "\n",
    "*The creation of dummy values provides a solution to the missing gender values.* Instead of needing to impute missing values, after one-hot encoding, users with no gender entered will have 0 in all gender features. It was also possible to create a gender_NaN column, althouh I have not tested if this improves accuracy. \n",
    "\n",
    "#### Discretisation of Age\n",
    "To further aid the machine learning models with non-linear data, the age feature was also transformed into discrete age brackets, e.g [20-24], similar to the one-hot encoding. The original numerical age feature was retained.\n",
    "\n",
    "#### Segmentation of Dates\n",
    "To allow the classifiers to more easily pick up patterns in the data at different time scales, date and time values were split into YEAR/MONTH/DAY/HOUR rather than a single numerical value. "
   ]
  },
  {
   "cell_type": "markdown",
   "metadata": {},
   "source": []
  },
  {
   "cell_type": "code",
   "execution_count": null,
   "metadata": {
    "collapsed": false
   },
   "outputs": [],
   "source": []
  },
  {
   "cell_type": "markdown",
   "metadata": {},
   "source": [
    "### Session Files: sessions.csv\n",
    "\n",
    "List of actions for each user.\n",
    "\n",
    "Users only for 2014 onwards. All test users. \n"
   ]
  },
  {
   "cell_type": "code",
   "execution_count": 13,
   "metadata": {
    "collapsed": false,
    "scrolled": true
   },
   "outputs": [
    {
     "data": {
      "text/html": [
       "<div>\n",
       "<table border=\"1\" class=\"dataframe\">\n",
       "  <thead>\n",
       "    <tr style=\"text-align: right;\">\n",
       "      <th></th>\n",
       "      <th>user_id</th>\n",
       "      <th>action</th>\n",
       "      <th>action_type</th>\n",
       "      <th>action_detail</th>\n",
       "      <th>device_type</th>\n",
       "      <th>secs_elapsed</th>\n",
       "    </tr>\n",
       "  </thead>\n",
       "  <tbody>\n",
       "    <tr>\n",
       "      <th>0</th>\n",
       "      <td>d1mm9tcy42</td>\n",
       "      <td>lookup</td>\n",
       "      <td></td>\n",
       "      <td>NaN</td>\n",
       "      <td>Windows Desktop</td>\n",
       "      <td>319</td>\n",
       "    </tr>\n",
       "    <tr>\n",
       "      <th>1</th>\n",
       "      <td>d1mm9tcy42</td>\n",
       "      <td>search_results</td>\n",
       "      <td>click</td>\n",
       "      <td>view_search_results</td>\n",
       "      <td>Windows Desktop</td>\n",
       "      <td>67753</td>\n",
       "    </tr>\n",
       "    <tr>\n",
       "      <th>2</th>\n",
       "      <td>d1mm9tcy42</td>\n",
       "      <td>lookup</td>\n",
       "      <td></td>\n",
       "      <td>NaN</td>\n",
       "      <td>Windows Desktop</td>\n",
       "      <td>301</td>\n",
       "    </tr>\n",
       "    <tr>\n",
       "      <th>3</th>\n",
       "      <td>d1mm9tcy42</td>\n",
       "      <td>search_results</td>\n",
       "      <td>click</td>\n",
       "      <td>view_search_results</td>\n",
       "      <td>Windows Desktop</td>\n",
       "      <td>22141</td>\n",
       "    </tr>\n",
       "    <tr>\n",
       "      <th>4</th>\n",
       "      <td>d1mm9tcy42</td>\n",
       "      <td>lookup</td>\n",
       "      <td></td>\n",
       "      <td>NaN</td>\n",
       "      <td>Windows Desktop</td>\n",
       "      <td>435</td>\n",
       "    </tr>\n",
       "    <tr>\n",
       "      <th>5</th>\n",
       "      <td>d1mm9tcy42</td>\n",
       "      <td>search_results</td>\n",
       "      <td>click</td>\n",
       "      <td>view_search_results</td>\n",
       "      <td>Windows Desktop</td>\n",
       "      <td>7703</td>\n",
       "    </tr>\n",
       "    <tr>\n",
       "      <th>6</th>\n",
       "      <td>d1mm9tcy42</td>\n",
       "      <td>lookup</td>\n",
       "      <td></td>\n",
       "      <td>NaN</td>\n",
       "      <td>Windows Desktop</td>\n",
       "      <td>115</td>\n",
       "    </tr>\n",
       "    <tr>\n",
       "      <th>7</th>\n",
       "      <td>d1mm9tcy42</td>\n",
       "      <td>personalize</td>\n",
       "      <td>data</td>\n",
       "      <td>wishlist_content_update</td>\n",
       "      <td>Windows Desktop</td>\n",
       "      <td>831</td>\n",
       "    </tr>\n",
       "    <tr>\n",
       "      <th>8</th>\n",
       "      <td>d1mm9tcy42</td>\n",
       "      <td>index</td>\n",
       "      <td>view</td>\n",
       "      <td>view_search_results</td>\n",
       "      <td>Windows Desktop</td>\n",
       "      <td>20842</td>\n",
       "    </tr>\n",
       "    <tr>\n",
       "      <th>9</th>\n",
       "      <td>d1mm9tcy42</td>\n",
       "      <td>lookup</td>\n",
       "      <td></td>\n",
       "      <td>NaN</td>\n",
       "      <td>Windows Desktop</td>\n",
       "      <td>683</td>\n",
       "    </tr>\n",
       "    <tr>\n",
       "      <th>10</th>\n",
       "      <td>d1mm9tcy42</td>\n",
       "      <td>search_results</td>\n",
       "      <td>click</td>\n",
       "      <td>view_search_results</td>\n",
       "      <td>Windows Desktop</td>\n",
       "      <td>59274</td>\n",
       "    </tr>\n",
       "    <tr>\n",
       "      <th>11</th>\n",
       "      <td>d1mm9tcy42</td>\n",
       "      <td>lookup</td>\n",
       "      <td></td>\n",
       "      <td>NaN</td>\n",
       "      <td>Windows Desktop</td>\n",
       "      <td>95</td>\n",
       "    </tr>\n",
       "    <tr>\n",
       "      <th>12</th>\n",
       "      <td>d1mm9tcy42</td>\n",
       "      <td>personalize</td>\n",
       "      <td>data</td>\n",
       "      <td>wishlist_content_update</td>\n",
       "      <td>Windows Desktop</td>\n",
       "      <td>1399</td>\n",
       "    </tr>\n",
       "    <tr>\n",
       "      <th>13</th>\n",
       "      <td>d1mm9tcy42</td>\n",
       "      <td>index</td>\n",
       "      <td>view</td>\n",
       "      <td>view_search_results</td>\n",
       "      <td>Windows Desktop</td>\n",
       "      <td>74886</td>\n",
       "    </tr>\n",
       "    <tr>\n",
       "      <th>14</th>\n",
       "      <td>d1mm9tcy42</td>\n",
       "      <td>similar_listings</td>\n",
       "      <td>data</td>\n",
       "      <td>similar_listings</td>\n",
       "      <td>Windows Desktop</td>\n",
       "      <td>255</td>\n",
       "    </tr>\n",
       "    <tr>\n",
       "      <th>15</th>\n",
       "      <td>d1mm9tcy42</td>\n",
       "      <td>ajax_refresh_subtotal</td>\n",
       "      <td>click</td>\n",
       "      <td>change_trip_characteristics</td>\n",
       "      <td>Windows Desktop</td>\n",
       "      <td>8134</td>\n",
       "    </tr>\n",
       "    <tr>\n",
       "      <th>16</th>\n",
       "      <td>d1mm9tcy42</td>\n",
       "      <td>similar_listings</td>\n",
       "      <td>data</td>\n",
       "      <td>similar_listings</td>\n",
       "      <td>Windows Desktop</td>\n",
       "      <td>183</td>\n",
       "    </tr>\n",
       "    <tr>\n",
       "      <th>17</th>\n",
       "      <td>d1mm9tcy42</td>\n",
       "      <td>ajax_refresh_subtotal</td>\n",
       "      <td>click</td>\n",
       "      <td>change_trip_characteristics</td>\n",
       "      <td>Windows Desktop</td>\n",
       "      <td>175570</td>\n",
       "    </tr>\n",
       "    <tr>\n",
       "      <th>18</th>\n",
       "      <td>d1mm9tcy42</td>\n",
       "      <td>show</td>\n",
       "      <td></td>\n",
       "      <td>NaN</td>\n",
       "      <td>Windows Desktop</td>\n",
       "      <td>86</td>\n",
       "    </tr>\n",
       "    <tr>\n",
       "      <th>19</th>\n",
       "      <td>d1mm9tcy42</td>\n",
       "      <td>personalize</td>\n",
       "      <td>data</td>\n",
       "      <td>wishlist_content_update</td>\n",
       "      <td>Windows Desktop</td>\n",
       "      <td>1535</td>\n",
       "    </tr>\n",
       "  </tbody>\n",
       "</table>\n",
       "</div>"
      ],
      "text/plain": [
       "       user_id                 action action_type  \\\n",
       "0   d1mm9tcy42                 lookup               \n",
       "1   d1mm9tcy42         search_results       click   \n",
       "2   d1mm9tcy42                 lookup               \n",
       "3   d1mm9tcy42         search_results       click   \n",
       "4   d1mm9tcy42                 lookup               \n",
       "5   d1mm9tcy42         search_results       click   \n",
       "6   d1mm9tcy42                 lookup               \n",
       "7   d1mm9tcy42            personalize        data   \n",
       "8   d1mm9tcy42                  index        view   \n",
       "9   d1mm9tcy42                 lookup               \n",
       "10  d1mm9tcy42         search_results       click   \n",
       "11  d1mm9tcy42                 lookup               \n",
       "12  d1mm9tcy42            personalize        data   \n",
       "13  d1mm9tcy42                  index        view   \n",
       "14  d1mm9tcy42       similar_listings        data   \n",
       "15  d1mm9tcy42  ajax_refresh_subtotal       click   \n",
       "16  d1mm9tcy42       similar_listings        data   \n",
       "17  d1mm9tcy42  ajax_refresh_subtotal       click   \n",
       "18  d1mm9tcy42                   show               \n",
       "19  d1mm9tcy42            personalize        data   \n",
       "\n",
       "                  action_detail      device_type  secs_elapsed  \n",
       "0                           NaN  Windows Desktop           319  \n",
       "1           view_search_results  Windows Desktop         67753  \n",
       "2                           NaN  Windows Desktop           301  \n",
       "3           view_search_results  Windows Desktop         22141  \n",
       "4                           NaN  Windows Desktop           435  \n",
       "5           view_search_results  Windows Desktop          7703  \n",
       "6                           NaN  Windows Desktop           115  \n",
       "7       wishlist_content_update  Windows Desktop           831  \n",
       "8           view_search_results  Windows Desktop         20842  \n",
       "9                           NaN  Windows Desktop           683  \n",
       "10          view_search_results  Windows Desktop         59274  \n",
       "11                          NaN  Windows Desktop            95  \n",
       "12      wishlist_content_update  Windows Desktop          1399  \n",
       "13          view_search_results  Windows Desktop         74886  \n",
       "14             similar_listings  Windows Desktop           255  \n",
       "15  change_trip_characteristics  Windows Desktop          8134  \n",
       "16             similar_listings  Windows Desktop           183  \n",
       "17  change_trip_characteristics  Windows Desktop        175570  \n",
       "18                          NaN  Windows Desktop            86  \n",
       "19      wishlist_content_update  Windows Desktop          1535  "
      ]
     },
     "execution_count": 13,
     "metadata": {},
     "output_type": "execute_result"
    }
   ],
   "source": [
    "session_df = pd.read_csv('input/sessions.csv')\n",
    "session_users = session_df\n",
    "\n",
    "# Clean missing values\n",
    "session_users['secs_elapsed'].fillna(0,inplace=True)\n",
    "session_users['action_type'].fillna('',inplace=True)\n",
    "\n",
    "session_df.head(20)"
   ]
  },
  {
   "cell_type": "markdown",
   "metadata": {},
   "source": [
    "Need process this into features! Count up different actions types for each user (Combining Action-Action Detail since action_type seems relatively boring.\n",
    "\n",
    "#### Missing Values in Session Features\n",
    "There are some missing values, but these are not a problem. Some website actions just don't take any time, so we can set them as zero. Some actions don't have a \"type\"."
   ]
  },
  {
   "cell_type": "markdown",
   "metadata": {},
   "source": [
    "### Creating Session Features\n",
    "#### Action counts, Total time spent on each device type, Number of devices types used"
   ]
  },
  {
   "cell_type": "code",
   "execution_count": 14,
   "metadata": {
    "collapsed": false,
    "scrolled": true
   },
   "outputs": [],
   "source": [
    "## Okay let's try adding all the groupings separately.\n",
    "session_action = session_users.groupby(['user_id','action']).count()['secs_elapsed'].unstack().fillna(0)\n",
    "session_action_type = session_users.groupby(['user_id','action_type']).count()['secs_elapsed'].unstack().fillna(0)\n",
    "session_action_detail = session_actions = session_users.groupby(['user_id','action_detail']).count()['secs_elapsed'].unstack().fillna(0)\n",
    "\n",
    "sessions_pure = pd.merge(session_action,session_action_type,left_index=True,right_index=True,how='inner')\n",
    "sessions_pure = sessions_pure.merge(session_action_detail,left_index=True,right_index=True,how='inner')"
   ]
  },
  {
   "cell_type": "code",
   "execution_count": 15,
   "metadata": {
    "collapsed": false
   },
   "outputs": [],
   "source": [
    "## WHAT HAPPENS IF WE NORMALISE THESE?\n",
    "from sklearn import preprocessing\n",
    "scaler = preprocessing.RobustScaler()\n",
    "\n",
    "sp_cols = sessions_pure.columns\n",
    "sp_index = sessions_pure.index\n",
    "sessions_pure = scaler.fit_transform(sessions_pure)\n",
    "sessions_pure = pd.DataFrame(sessions_pure,columns=sp_cols,index=sp_index)"
   ]
  },
  {
   "cell_type": "code",
   "execution_count": null,
   "metadata": {
    "collapsed": true
   },
   "outputs": [],
   "source": []
  },
  {
   "cell_type": "code",
   "execution_count": 16,
   "metadata": {
    "collapsed": false,
    "scrolled": true
   },
   "outputs": [],
   "source": [
    "# Create New Combined Feature for Grouping\n",
    "#session_users['action_action_detail'] = session_users['action']+'__'+session_users['action_detail']\n",
    "#session_users2 = session_users.groupby(['user_id','action_action_detail']).count()['secs_elapsed'].unstack().fillna(0)\n",
    "#print('Number of Action Count Features created:', session_users2.shape[1])\n",
    "#print('\\n')"
   ]
  },
  {
   "cell_type": "markdown",
   "metadata": {},
   "source": [
    "#### Action Counts \n",
    "How many times a user performed a certain action. Action Type was boring. Just combined action,action_detail for grouping.\n",
    "\n",
    "#### Time Spent on Each Device, Number of Device Types Used\n",
    "\n",
    "Separately, we can extract the number of different device types usesd by a user to access AirBnB."
   ]
  },
  {
   "cell_type": "code",
   "execution_count": 17,
   "metadata": {
    "collapsed": false
   },
   "outputs": [
    {
     "data": {
      "text/html": [
       "<div>\n",
       "<table border=\"1\" class=\"dataframe\">\n",
       "  <thead>\n",
       "    <tr style=\"text-align: right;\">\n",
       "      <th>device_type</th>\n",
       "      <th>-unknown-</th>\n",
       "      <th>Android App Unknown Phone/Tablet</th>\n",
       "      <th>Android Phone</th>\n",
       "      <th>Blackberry</th>\n",
       "      <th>Chromebook</th>\n",
       "      <th>Linux Desktop</th>\n",
       "      <th>Mac Desktop</th>\n",
       "      <th>Opera Phone</th>\n",
       "      <th>Tablet</th>\n",
       "      <th>Windows Desktop</th>\n",
       "      <th>Windows Phone</th>\n",
       "      <th>iPad Tablet</th>\n",
       "      <th>iPhone</th>\n",
       "      <th>iPodtouch</th>\n",
       "      <th>num_devices</th>\n",
       "    </tr>\n",
       "    <tr>\n",
       "      <th>user_id</th>\n",
       "      <th></th>\n",
       "      <th></th>\n",
       "      <th></th>\n",
       "      <th></th>\n",
       "      <th></th>\n",
       "      <th></th>\n",
       "      <th></th>\n",
       "      <th></th>\n",
       "      <th></th>\n",
       "      <th></th>\n",
       "      <th></th>\n",
       "      <th></th>\n",
       "      <th></th>\n",
       "      <th></th>\n",
       "      <th></th>\n",
       "    </tr>\n",
       "  </thead>\n",
       "  <tbody>\n",
       "    <tr>\n",
       "      <th>00023iyk9l</th>\n",
       "      <td>0</td>\n",
       "      <td>0</td>\n",
       "      <td>0</td>\n",
       "      <td>0</td>\n",
       "      <td>0</td>\n",
       "      <td>0</td>\n",
       "      <td>25452</td>\n",
       "      <td>0</td>\n",
       "      <td>0</td>\n",
       "      <td>0</td>\n",
       "      <td>0</td>\n",
       "      <td>0</td>\n",
       "      <td>5089</td>\n",
       "      <td>0</td>\n",
       "      <td>2</td>\n",
       "    </tr>\n",
       "    <tr>\n",
       "      <th>0010k6l0om</th>\n",
       "      <td>0</td>\n",
       "      <td>0</td>\n",
       "      <td>0</td>\n",
       "      <td>0</td>\n",
       "      <td>0</td>\n",
       "      <td>0</td>\n",
       "      <td>36884</td>\n",
       "      <td>0</td>\n",
       "      <td>0</td>\n",
       "      <td>0</td>\n",
       "      <td>0</td>\n",
       "      <td>0</td>\n",
       "      <td>0</td>\n",
       "      <td>0</td>\n",
       "      <td>1</td>\n",
       "    </tr>\n",
       "  </tbody>\n",
       "</table>\n",
       "</div>"
      ],
      "text/plain": [
       "device_type  -unknown-  Android App Unknown Phone/Tablet  Android Phone  \\\n",
       "user_id                                                                   \n",
       "00023iyk9l           0                                 0              0   \n",
       "0010k6l0om           0                                 0              0   \n",
       "\n",
       "device_type  Blackberry  Chromebook  Linux Desktop  Mac Desktop  Opera Phone  \\\n",
       "user_id                                                                        \n",
       "00023iyk9l            0           0              0        25452            0   \n",
       "0010k6l0om            0           0              0        36884            0   \n",
       "\n",
       "device_type  Tablet  Windows Desktop  Windows Phone  iPad Tablet  iPhone  \\\n",
       "user_id                                                                    \n",
       "00023iyk9l        0                0              0            0    5089   \n",
       "0010k6l0om        0                0              0            0       0   \n",
       "\n",
       "device_type  iPodtouch  num_devices  \n",
       "user_id                              \n",
       "00023iyk9l           0            2  \n",
       "0010k6l0om           0            1  "
      ]
     },
     "execution_count": 17,
     "metadata": {},
     "output_type": "execute_result"
    }
   ],
   "source": [
    "# Time spent on each Device\n",
    "deviceusage_df = session_df[session_df['secs_elapsed']<60*100][['user_id','device_type','secs_elapsed']].groupby(['user_id','device_type']).sum().unstack()['secs_elapsed']\n",
    "# Number of device types used\n",
    "deviceusage_df['num_devices'] = session_df.groupby('user_id')['device_type'].agg(lambda x: len(np.unique(x.values)))\n",
    "deviceusage_df.fillna(0,inplace=True)\n",
    "deviceusage_df.head(2)"
   ]
  },
  {
   "cell_type": "markdown",
   "metadata": {},
   "source": [
    "#### Features Related to Session Length\n",
    "Examining the session records, it's clear that the \"secs_elapsed\" (since previous action) variable is extremely large for actions. I assume that these large values mark the periods between different occasions that a user was continuious engaging with the AirBnB website, e.g. spent 20 minutes browsing Tuesday morning, and then another 40 minute on Thursday evening. \n",
    "\n",
    "With appropriate processing, a number of new features can be extracted from the session logs, including: number of sessions, length spent website, maximum and average times between sessions, average seconds per action, and few others."
   ]
  },
  {
   "cell_type": "code",
   "execution_count": 18,
   "metadata": {
    "collapsed": false
   },
   "outputs": [
    {
     "data": {
      "text/html": [
       "<div>\n",
       "<table border=\"1\" class=\"dataframe\">\n",
       "  <thead>\n",
       "    <tr style=\"text-align: right;\">\n",
       "      <th></th>\n",
       "      <th>num_actions_insession</th>\n",
       "      <th>total_session_times</th>\n",
       "      <th>mean_secs_per_action</th>\n",
       "      <th>num_sessions</th>\n",
       "      <th>mean_between_sessions</th>\n",
       "      <th>max_between_sessions</th>\n",
       "      <th>num_days</th>\n",
       "      <th>all_time</th>\n",
       "    </tr>\n",
       "    <tr>\n",
       "      <th>user_id</th>\n",
       "      <th></th>\n",
       "      <th></th>\n",
       "      <th></th>\n",
       "      <th></th>\n",
       "      <th></th>\n",
       "      <th></th>\n",
       "      <th></th>\n",
       "      <th></th>\n",
       "    </tr>\n",
       "  </thead>\n",
       "  <tbody>\n",
       "    <tr>\n",
       "      <th>00023iyk9l</th>\n",
       "      <td>32</td>\n",
       "      <td>30541</td>\n",
       "      <td>954.406250</td>\n",
       "      <td>8</td>\n",
       "      <td>118202.428571</td>\n",
       "      <td>567165</td>\n",
       "      <td>3</td>\n",
       "      <td>867896</td>\n",
       "    </tr>\n",
       "    <tr>\n",
       "      <th>0010k6l0om</th>\n",
       "      <td>48</td>\n",
       "      <td>36884</td>\n",
       "      <td>768.416667</td>\n",
       "      <td>12</td>\n",
       "      <td>46397.636364</td>\n",
       "      <td>127898</td>\n",
       "      <td>4</td>\n",
       "      <td>586543</td>\n",
       "    </tr>\n",
       "    <tr>\n",
       "      <th>001wyh0pz8</th>\n",
       "      <td>78</td>\n",
       "      <td>96785</td>\n",
       "      <td>1240.833333</td>\n",
       "      <td>7</td>\n",
       "      <td>22506.333333</td>\n",
       "      <td>50548</td>\n",
       "      <td>1</td>\n",
       "      <td>282965</td>\n",
       "    </tr>\n",
       "  </tbody>\n",
       "</table>\n",
       "</div>"
      ],
      "text/plain": [
       "            num_actions_insession  total_session_times  mean_secs_per_action  \\\n",
       "user_id                                                                        \n",
       "00023iyk9l                     32                30541            954.406250   \n",
       "0010k6l0om                     48                36884            768.416667   \n",
       "001wyh0pz8                     78                96785           1240.833333   \n",
       "\n",
       "            num_sessions  mean_between_sessions  max_between_sessions  \\\n",
       "user_id                                                                 \n",
       "00023iyk9l             8          118202.428571                567165   \n",
       "0010k6l0om            12           46397.636364                127898   \n",
       "001wyh0pz8             7           22506.333333                 50548   \n",
       "\n",
       "            num_days  all_time  \n",
       "user_id                         \n",
       "00023iyk9l         3    867896  \n",
       "0010k6l0om         4    586543  \n",
       "001wyh0pz8         1    282965  "
      ]
     },
     "execution_count": 18,
     "metadata": {},
     "output_type": "execute_result"
    }
   ],
   "source": [
    "## Features about individual sessions (sittings)\n",
    "in_session_actions = session_df[session_df['secs_elapsed']<100*60].groupby('user_id')\n",
    "AA = in_session_actions['secs_elapsed'].agg({'total_session_times': np.sum,\n",
    "                                        'mean_secs_per_action' : np.mean,\n",
    "                                            'num_actions_insession' : np.size})\n",
    "\n",
    "## Features related to the number of sessions \n",
    "between_session_actions = session_df[session_df['secs_elapsed']>200*60].groupby('user_id')\n",
    "BB = between_session_actions['secs_elapsed'].agg({'num_sessions': np.size,\n",
    "                                            'mean_between_sessions' : np.mean,\n",
    "                                            'max_between_sessions': np.max\n",
    "                                            })\n",
    "\n",
    "session_times = pd.merge(AA,BB,how='outer',left_index=True,right_index=True)\n",
    "\n",
    "#Count number of different days spent on AirBnB. Obtained by looking for number of breaks longer than 18 hours.\n",
    "session_times['num_days'] = session_df[session_df['secs_elapsed']>18*3600].groupby('user_id').count()['secs_elapsed']\n",
    "session_times.fillna(0,inplace=True)\n",
    "session_times['num_sessions'] += 1 # Doesn't really make a difference\n",
    "session_times['num_days'] += 1 \n",
    "session_times['all_time'] = session_df.groupby('user_id').sum()['secs_elapsed']\n",
    "\n",
    "session_times.head(3)"
   ]
  },
  {
   "cell_type": "markdown",
   "metadata": {},
   "source": [
    "### Session Feature Selection\n",
    "Generated A LOT of features. Slow down training. Feature selection using SelectKBest. F-ANOVA to each variable. Sample sizes vary significantly, so the ANOVA might be a little messy ... but whatever.\n",
    "\n",
    "Feature selection using two main classes."
   ]
  },
  {
   "cell_type": "code",
   "execution_count": 19,
   "metadata": {
    "collapsed": false,
    "scrolled": true
   },
   "outputs": [
    {
     "name": "stderr",
     "output_type": "stream",
     "text": [
      "c:\\Anaconda3\\lib\\site-packages\\sklearn\\feature_selection\\univariate_selection.py:113: UserWarning: Features [  5   7  10  12  15  16  60  62  63  99 102 122 139 147 188 259 263 270\n",
      " 272 273 278 283 303 308 311 318 336 349 366 372 389 396 397 398 407 411\n",
      " 414 428 430 431 448 449 450 462 464 470 479 482 509 510 511 513 514 515\n",
      " 517 518] are constant.\n",
      "  UserWarning)\n",
      "c:\\Anaconda3\\lib\\site-packages\\matplotlib\\__init__.py:892: UserWarning: axes.color_cycle is deprecated and replaced with axes.prop_cycle; please use the latter.\n",
      "  warnings.warn(self.msg_depr % (key, alt_key))\n"
     ]
    },
    {
     "data": {
      "text/plain": [
       "<matplotlib.text.Text at 0xf0754e0>"
      ]
     },
     "execution_count": 19,
     "metadata": {},
     "output_type": "execute_result"
    },
    {
     "data": {
      "image/png": "[encoded data removed]",
      "text/plain": [
       "<matplotlib.figure.Figure at 0xf016668>"
      ]
     },
     "metadata": {},
     "output_type": "display_data"
    }
   ],
   "source": [
    "## Need to attach labels for feature selection.\n",
    "SessionX = pd.merge(train_users[['id','country_destination']],sessions_pure,right_index=True,left_on='id',how='inner')\n",
    "Sessiony = SessionX['country_destination']!=\"NDF\" # Turn this into a binary classification problem\n",
    "SessionX.drop(['id','country_destination'],axis=1,inplace=True)\n",
    "\n",
    "\n",
    "# Perform selection\n",
    "from sklearn.feature_selection import SelectKBest\n",
    "selector = SelectKBest(k=300)\n",
    "selector.fit(SessionX,Sessiony)\n",
    "sessions_pure = sessions_pure[sessions_pure.columns[selector.get_support()]]\n",
    "\n",
    "# Examine feature selection univariate statistics test results:\n",
    "FeaturePvalues = pd.Series(index=SessionX.columns,data=selector.pvalues_).sort_values(ascending=True)\n",
    "FeatureScores = pd.Series(index=SessionX.columns,data=selector.scores_).sort_values(ascending=False)\n",
    "# Plot\n",
    "k = 20\n",
    "plt.figure(figsize=(10,k/3))\n",
    "sns.barplot(y=FeatureScores.index[0:k],x=FeatureScores.head(k))\n",
    "plt.title('F-Anova Values for Session Action Count Features: Top 20')"
   ]
  },
  {
   "cell_type": "code",
   "execution_count": 20,
   "metadata": {
    "collapsed": true
   },
   "outputs": [],
   "source": [
    "## Features about *when* users were active\n",
    "\n",
    "A = session_df.groupby('user_id').cumsum()\n",
    "A['user_id'] = session_df['user_id']\n",
    "\n",
    "# Vectorised/Dataframe Calculation of when users where active\n",
    "b = A['secs_elapsed'].values\n",
    "A['Diff'] = -(b-(np.append(b[1:],0)))\n",
    "A['Diff'] = np.insert(A['Diff'].values[:-1],0,0) # Need to shift values to keep 1-st order diff aligned\n",
    "# and users separate.\n",
    "A.loc[A['Diff']>100*60,'Diff']=0\n",
    "A.loc[A['Diff']<1,'Diff']=0\n",
    "\n",
    "\n",
    "A['Week'] = A['secs_elapsed']//(86400*7)\n",
    "A['CumDiff'] = A.groupby(['user_id','Week']).cumsum()['Diff']/3600\n",
    "WeekFeatures = A.groupby(['user_id','Week']).sum()['Diff']\n",
    "num_weeks = 6\n",
    "WeekFeatures = WeekFeatures.unstack()[np.arange(0,num_weeks)].fillna(0)//3600\n",
    "# Output is feature vector for each user with number hours spent on site for each of the first num_weeks.\n",
    "# Approximate as timestamps not given."
   ]
  },
  {
   "cell_type": "code",
   "execution_count": 21,
   "metadata": {
    "collapsed": false
   },
   "outputs": [],
   "source": [
    "# Convert to percentage of total activity time each week.\n",
    "WeekFeatures = WeekFeatures.divide(WeekFeatures.sum(axis=1),axis=0).round(3).fillna(0)"
   ]
  },
  {
   "cell_type": "code",
   "execution_count": 22,
   "metadata": {
    "collapsed": false,
    "scrolled": true
   },
   "outputs": [
    {
     "data": {
      "text/html": [
       "<div>\n",
       "<table border=\"1\" class=\"dataframe\">\n",
       "  <thead>\n",
       "    <tr style=\"text-align: right;\">\n",
       "      <th></th>\n",
       "      <th>0.0</th>\n",
       "      <th>1.0</th>\n",
       "      <th>2.0</th>\n",
       "      <th>3.0</th>\n",
       "      <th>4.0</th>\n",
       "      <th>5.0</th>\n",
       "    </tr>\n",
       "    <tr>\n",
       "      <th>user_id</th>\n",
       "      <th></th>\n",
       "      <th></th>\n",
       "      <th></th>\n",
       "      <th></th>\n",
       "      <th></th>\n",
       "      <th></th>\n",
       "    </tr>\n",
       "  </thead>\n",
       "  <tbody>\n",
       "    <tr>\n",
       "      <th>00023iyk9l</th>\n",
       "      <td>0.429</td>\n",
       "      <td>0.571</td>\n",
       "      <td>0.000</td>\n",
       "      <td>0.000</td>\n",
       "      <td>0.000</td>\n",
       "      <td>0.000</td>\n",
       "    </tr>\n",
       "    <tr>\n",
       "      <th>0010k6l0om</th>\n",
       "      <td>1.000</td>\n",
       "      <td>0.000</td>\n",
       "      <td>0.000</td>\n",
       "      <td>0.000</td>\n",
       "      <td>0.000</td>\n",
       "      <td>0.000</td>\n",
       "    </tr>\n",
       "    <tr>\n",
       "      <th>001wyh0pz8</th>\n",
       "      <td>1.000</td>\n",
       "      <td>0.000</td>\n",
       "      <td>0.000</td>\n",
       "      <td>0.000</td>\n",
       "      <td>0.000</td>\n",
       "      <td>0.000</td>\n",
       "    </tr>\n",
       "    <tr>\n",
       "      <th>0028jgx1x1</th>\n",
       "      <td>1.000</td>\n",
       "      <td>0.000</td>\n",
       "      <td>0.000</td>\n",
       "      <td>0.000</td>\n",
       "      <td>0.000</td>\n",
       "      <td>0.000</td>\n",
       "    </tr>\n",
       "    <tr>\n",
       "      <th>002qnbzfs5</th>\n",
       "      <td>0.241</td>\n",
       "      <td>0.306</td>\n",
       "      <td>0.139</td>\n",
       "      <td>0.315</td>\n",
       "      <td>0.000</td>\n",
       "      <td>0.000</td>\n",
       "    </tr>\n",
       "    <tr>\n",
       "      <th>0031awlkjq</th>\n",
       "      <td>1.000</td>\n",
       "      <td>0.000</td>\n",
       "      <td>0.000</td>\n",
       "      <td>0.000</td>\n",
       "      <td>0.000</td>\n",
       "      <td>0.000</td>\n",
       "    </tr>\n",
       "    <tr>\n",
       "      <th>0035hobuyj</th>\n",
       "      <td>0.304</td>\n",
       "      <td>0.043</td>\n",
       "      <td>0.000</td>\n",
       "      <td>0.152</td>\n",
       "      <td>0.065</td>\n",
       "      <td>0.435</td>\n",
       "    </tr>\n",
       "    <tr>\n",
       "      <th>00378ocvlh</th>\n",
       "      <td>0.444</td>\n",
       "      <td>0.333</td>\n",
       "      <td>0.167</td>\n",
       "      <td>0.056</td>\n",
       "      <td>0.000</td>\n",
       "      <td>0.000</td>\n",
       "    </tr>\n",
       "    <tr>\n",
       "      <th>00389675gq</th>\n",
       "      <td>0.242</td>\n",
       "      <td>0.000</td>\n",
       "      <td>0.242</td>\n",
       "      <td>0.364</td>\n",
       "      <td>0.152</td>\n",
       "      <td>0.000</td>\n",
       "    </tr>\n",
       "    <tr>\n",
       "      <th>003iamz20l</th>\n",
       "      <td>0.115</td>\n",
       "      <td>0.846</td>\n",
       "      <td>0.038</td>\n",
       "      <td>0.000</td>\n",
       "      <td>0.000</td>\n",
       "      <td>0.000</td>\n",
       "    </tr>\n",
       "    <tr>\n",
       "      <th>0048rkdgb1</th>\n",
       "      <td>1.000</td>\n",
       "      <td>0.000</td>\n",
       "      <td>0.000</td>\n",
       "      <td>0.000</td>\n",
       "      <td>0.000</td>\n",
       "      <td>0.000</td>\n",
       "    </tr>\n",
       "    <tr>\n",
       "      <th>0057snrdpu</th>\n",
       "      <td>0.000</td>\n",
       "      <td>0.250</td>\n",
       "      <td>0.750</td>\n",
       "      <td>0.000</td>\n",
       "      <td>0.000</td>\n",
       "      <td>0.000</td>\n",
       "    </tr>\n",
       "    <tr>\n",
       "      <th>005jc3nbmb</th>\n",
       "      <td>0.167</td>\n",
       "      <td>0.000</td>\n",
       "      <td>0.000</td>\n",
       "      <td>0.000</td>\n",
       "      <td>0.833</td>\n",
       "      <td>0.000</td>\n",
       "    </tr>\n",
       "    <tr>\n",
       "      <th>005v5uf4dh</th>\n",
       "      <td>1.000</td>\n",
       "      <td>0.000</td>\n",
       "      <td>0.000</td>\n",
       "      <td>0.000</td>\n",
       "      <td>0.000</td>\n",
       "      <td>0.000</td>\n",
       "    </tr>\n",
       "    <tr>\n",
       "      <th>0063bawn05</th>\n",
       "      <td>0.727</td>\n",
       "      <td>0.000</td>\n",
       "      <td>0.000</td>\n",
       "      <td>0.000</td>\n",
       "      <td>0.273</td>\n",
       "      <td>0.000</td>\n",
       "    </tr>\n",
       "    <tr>\n",
       "      <th>006ml14zc1</th>\n",
       "      <td>1.000</td>\n",
       "      <td>0.000</td>\n",
       "      <td>0.000</td>\n",
       "      <td>0.000</td>\n",
       "      <td>0.000</td>\n",
       "      <td>0.000</td>\n",
       "    </tr>\n",
       "    <tr>\n",
       "      <th>006mls2sjw</th>\n",
       "      <td>0.200</td>\n",
       "      <td>0.114</td>\n",
       "      <td>0.257</td>\n",
       "      <td>0.371</td>\n",
       "      <td>0.057</td>\n",
       "      <td>0.000</td>\n",
       "    </tr>\n",
       "    <tr>\n",
       "      <th>006t3vhawl</th>\n",
       "      <td>1.000</td>\n",
       "      <td>0.000</td>\n",
       "      <td>0.000</td>\n",
       "      <td>0.000</td>\n",
       "      <td>0.000</td>\n",
       "      <td>0.000</td>\n",
       "    </tr>\n",
       "    <tr>\n",
       "      <th>006z8b0uws</th>\n",
       "      <td>1.000</td>\n",
       "      <td>0.000</td>\n",
       "      <td>0.000</td>\n",
       "      <td>0.000</td>\n",
       "      <td>0.000</td>\n",
       "      <td>0.000</td>\n",
       "    </tr>\n",
       "    <tr>\n",
       "      <th>0075z9e9xv</th>\n",
       "      <td>0.365</td>\n",
       "      <td>0.254</td>\n",
       "      <td>0.317</td>\n",
       "      <td>0.000</td>\n",
       "      <td>0.000</td>\n",
       "      <td>0.063</td>\n",
       "    </tr>\n",
       "    <tr>\n",
       "      <th>007gj7kqdk</th>\n",
       "      <td>1.000</td>\n",
       "      <td>0.000</td>\n",
       "      <td>0.000</td>\n",
       "      <td>0.000</td>\n",
       "      <td>0.000</td>\n",
       "      <td>0.000</td>\n",
       "    </tr>\n",
       "    <tr>\n",
       "      <th>009a40t3dk</th>\n",
       "      <td>0.571</td>\n",
       "      <td>0.143</td>\n",
       "      <td>0.000</td>\n",
       "      <td>0.286</td>\n",
       "      <td>0.000</td>\n",
       "      <td>0.000</td>\n",
       "    </tr>\n",
       "    <tr>\n",
       "      <th>00a8dbifj8</th>\n",
       "      <td>1.000</td>\n",
       "      <td>0.000</td>\n",
       "      <td>0.000</td>\n",
       "      <td>0.000</td>\n",
       "      <td>0.000</td>\n",
       "      <td>0.000</td>\n",
       "    </tr>\n",
       "    <tr>\n",
       "      <th>00allnceb8</th>\n",
       "      <td>0.000</td>\n",
       "      <td>0.000</td>\n",
       "      <td>0.000</td>\n",
       "      <td>0.000</td>\n",
       "      <td>0.000</td>\n",
       "      <td>0.000</td>\n",
       "    </tr>\n",
       "    <tr>\n",
       "      <th>00an0o6c07</th>\n",
       "      <td>1.000</td>\n",
       "      <td>0.000</td>\n",
       "      <td>0.000</td>\n",
       "      <td>0.000</td>\n",
       "      <td>0.000</td>\n",
       "      <td>0.000</td>\n",
       "    </tr>\n",
       "    <tr>\n",
       "      <th>00b9hfwaak</th>\n",
       "      <td>0.778</td>\n",
       "      <td>0.222</td>\n",
       "      <td>0.000</td>\n",
       "      <td>0.000</td>\n",
       "      <td>0.000</td>\n",
       "      <td>0.000</td>\n",
       "    </tr>\n",
       "    <tr>\n",
       "      <th>00bn6hu437</th>\n",
       "      <td>0.500</td>\n",
       "      <td>0.500</td>\n",
       "      <td>0.000</td>\n",
       "      <td>0.000</td>\n",
       "      <td>0.000</td>\n",
       "      <td>0.000</td>\n",
       "    </tr>\n",
       "    <tr>\n",
       "      <th>00bowi9sn3</th>\n",
       "      <td>1.000</td>\n",
       "      <td>0.000</td>\n",
       "      <td>0.000</td>\n",
       "      <td>0.000</td>\n",
       "      <td>0.000</td>\n",
       "      <td>0.000</td>\n",
       "    </tr>\n",
       "    <tr>\n",
       "      <th>00bqkh0g5i</th>\n",
       "      <td>0.000</td>\n",
       "      <td>0.000</td>\n",
       "      <td>0.000</td>\n",
       "      <td>0.000</td>\n",
       "      <td>0.000</td>\n",
       "      <td>0.000</td>\n",
       "    </tr>\n",
       "    <tr>\n",
       "      <th>00bxmflswn</th>\n",
       "      <td>0.222</td>\n",
       "      <td>0.000</td>\n",
       "      <td>0.111</td>\n",
       "      <td>0.111</td>\n",
       "      <td>0.185</td>\n",
       "      <td>0.370</td>\n",
       "    </tr>\n",
       "    <tr>\n",
       "      <th>...</th>\n",
       "      <td>...</td>\n",
       "      <td>...</td>\n",
       "      <td>...</td>\n",
       "      <td>...</td>\n",
       "      <td>...</td>\n",
       "      <td>...</td>\n",
       "    </tr>\n",
       "    <tr>\n",
       "      <th>zzq90ckj2z</th>\n",
       "      <td>1.000</td>\n",
       "      <td>0.000</td>\n",
       "      <td>0.000</td>\n",
       "      <td>0.000</td>\n",
       "      <td>0.000</td>\n",
       "      <td>0.000</td>\n",
       "    </tr>\n",
       "    <tr>\n",
       "      <th>zzqb2sn066</th>\n",
       "      <td>0.000</td>\n",
       "      <td>0.000</td>\n",
       "      <td>0.000</td>\n",
       "      <td>0.000</td>\n",
       "      <td>0.000</td>\n",
       "      <td>0.000</td>\n",
       "    </tr>\n",
       "    <tr>\n",
       "      <th>zzr1rkdsh9</th>\n",
       "      <td>0.562</td>\n",
       "      <td>0.188</td>\n",
       "      <td>0.000</td>\n",
       "      <td>0.250</td>\n",
       "      <td>0.000</td>\n",
       "      <td>0.000</td>\n",
       "    </tr>\n",
       "    <tr>\n",
       "      <th>zzrnx9rqi5</th>\n",
       "      <td>0.000</td>\n",
       "      <td>1.000</td>\n",
       "      <td>0.000</td>\n",
       "      <td>0.000</td>\n",
       "      <td>0.000</td>\n",
       "      <td>0.000</td>\n",
       "    </tr>\n",
       "    <tr>\n",
       "      <th>zzsoxtv8zb</th>\n",
       "      <td>0.875</td>\n",
       "      <td>0.000</td>\n",
       "      <td>0.000</td>\n",
       "      <td>0.000</td>\n",
       "      <td>0.000</td>\n",
       "      <td>0.125</td>\n",
       "    </tr>\n",
       "    <tr>\n",
       "      <th>zzsslqqkee</th>\n",
       "      <td>1.000</td>\n",
       "      <td>0.000</td>\n",
       "      <td>0.000</td>\n",
       "      <td>0.000</td>\n",
       "      <td>0.000</td>\n",
       "      <td>0.000</td>\n",
       "    </tr>\n",
       "    <tr>\n",
       "      <th>zzsszlux3t</th>\n",
       "      <td>0.000</td>\n",
       "      <td>0.000</td>\n",
       "      <td>0.000</td>\n",
       "      <td>0.000</td>\n",
       "      <td>0.000</td>\n",
       "      <td>0.000</td>\n",
       "    </tr>\n",
       "    <tr>\n",
       "      <th>zzswqjsqy4</th>\n",
       "      <td>0.500</td>\n",
       "      <td>0.000</td>\n",
       "      <td>0.500</td>\n",
       "      <td>0.000</td>\n",
       "      <td>0.000</td>\n",
       "      <td>0.000</td>\n",
       "    </tr>\n",
       "    <tr>\n",
       "      <th>zzt5gpsyqa</th>\n",
       "      <td>0.375</td>\n",
       "      <td>0.500</td>\n",
       "      <td>0.125</td>\n",
       "      <td>0.000</td>\n",
       "      <td>0.000</td>\n",
       "      <td>0.000</td>\n",
       "    </tr>\n",
       "    <tr>\n",
       "      <th>zzt8w28nl5</th>\n",
       "      <td>0.067</td>\n",
       "      <td>0.000</td>\n",
       "      <td>0.700</td>\n",
       "      <td>0.233</td>\n",
       "      <td>0.000</td>\n",
       "      <td>0.000</td>\n",
       "    </tr>\n",
       "    <tr>\n",
       "      <th>zztaeo9wd5</th>\n",
       "      <td>0.933</td>\n",
       "      <td>0.067</td>\n",
       "      <td>0.000</td>\n",
       "      <td>0.000</td>\n",
       "      <td>0.000</td>\n",
       "      <td>0.000</td>\n",
       "    </tr>\n",
       "    <tr>\n",
       "      <th>zztkv1gkse</th>\n",
       "      <td>1.000</td>\n",
       "      <td>0.000</td>\n",
       "      <td>0.000</td>\n",
       "      <td>0.000</td>\n",
       "      <td>0.000</td>\n",
       "      <td>0.000</td>\n",
       "    </tr>\n",
       "    <tr>\n",
       "      <th>zzu3u71odh</th>\n",
       "      <td>1.000</td>\n",
       "      <td>0.000</td>\n",
       "      <td>0.000</td>\n",
       "      <td>0.000</td>\n",
       "      <td>0.000</td>\n",
       "      <td>0.000</td>\n",
       "    </tr>\n",
       "    <tr>\n",
       "      <th>zzu6ezwap2</th>\n",
       "      <td>1.000</td>\n",
       "      <td>0.000</td>\n",
       "      <td>0.000</td>\n",
       "      <td>0.000</td>\n",
       "      <td>0.000</td>\n",
       "      <td>0.000</td>\n",
       "    </tr>\n",
       "    <tr>\n",
       "      <th>zzunwylrfv</th>\n",
       "      <td>0.031</td>\n",
       "      <td>0.094</td>\n",
       "      <td>0.094</td>\n",
       "      <td>0.156</td>\n",
       "      <td>0.281</td>\n",
       "      <td>0.344</td>\n",
       "    </tr>\n",
       "    <tr>\n",
       "      <th>zzuy4rvdki</th>\n",
       "      <td>1.000</td>\n",
       "      <td>0.000</td>\n",
       "      <td>0.000</td>\n",
       "      <td>0.000</td>\n",
       "      <td>0.000</td>\n",
       "      <td>0.000</td>\n",
       "    </tr>\n",
       "    <tr>\n",
       "      <th>zzv6z6rjr9</th>\n",
       "      <td>0.462</td>\n",
       "      <td>0.500</td>\n",
       "      <td>0.038</td>\n",
       "      <td>0.000</td>\n",
       "      <td>0.000</td>\n",
       "      <td>0.000</td>\n",
       "    </tr>\n",
       "    <tr>\n",
       "      <th>zzv8sgicbk</th>\n",
       "      <td>1.000</td>\n",
       "      <td>0.000</td>\n",
       "      <td>0.000</td>\n",
       "      <td>0.000</td>\n",
       "      <td>0.000</td>\n",
       "      <td>0.000</td>\n",
       "    </tr>\n",
       "    <tr>\n",
       "      <th>zzvatt4dio</th>\n",
       "      <td>0.550</td>\n",
       "      <td>0.300</td>\n",
       "      <td>0.050</td>\n",
       "      <td>0.000</td>\n",
       "      <td>0.000</td>\n",
       "      <td>0.100</td>\n",
       "    </tr>\n",
       "    <tr>\n",
       "      <th>zzvg4emw5w</th>\n",
       "      <td>0.211</td>\n",
       "      <td>0.158</td>\n",
       "      <td>0.211</td>\n",
       "      <td>0.158</td>\n",
       "      <td>0.263</td>\n",
       "      <td>0.000</td>\n",
       "    </tr>\n",
       "    <tr>\n",
       "      <th>zzvr84im58</th>\n",
       "      <td>0.000</td>\n",
       "      <td>0.000</td>\n",
       "      <td>0.000</td>\n",
       "      <td>0.000</td>\n",
       "      <td>0.000</td>\n",
       "      <td>0.000</td>\n",
       "    </tr>\n",
       "    <tr>\n",
       "      <th>zzw7kydxfa</th>\n",
       "      <td>0.000</td>\n",
       "      <td>0.000</td>\n",
       "      <td>0.000</td>\n",
       "      <td>0.000</td>\n",
       "      <td>0.000</td>\n",
       "      <td>0.000</td>\n",
       "    </tr>\n",
       "    <tr>\n",
       "      <th>zzx06inhbv</th>\n",
       "      <td>0.000</td>\n",
       "      <td>0.000</td>\n",
       "      <td>0.000</td>\n",
       "      <td>0.000</td>\n",
       "      <td>0.000</td>\n",
       "      <td>0.000</td>\n",
       "    </tr>\n",
       "    <tr>\n",
       "      <th>zzx0hfd74v</th>\n",
       "      <td>1.000</td>\n",
       "      <td>0.000</td>\n",
       "      <td>0.000</td>\n",
       "      <td>0.000</td>\n",
       "      <td>0.000</td>\n",
       "      <td>0.000</td>\n",
       "    </tr>\n",
       "    <tr>\n",
       "      <th>zzx5wp3lqu</th>\n",
       "      <td>1.000</td>\n",
       "      <td>0.000</td>\n",
       "      <td>0.000</td>\n",
       "      <td>0.000</td>\n",
       "      <td>0.000</td>\n",
       "      <td>0.000</td>\n",
       "    </tr>\n",
       "    <tr>\n",
       "      <th>zzxox7jnrx</th>\n",
       "      <td>0.688</td>\n",
       "      <td>0.312</td>\n",
       "      <td>0.000</td>\n",
       "      <td>0.000</td>\n",
       "      <td>0.000</td>\n",
       "      <td>0.000</td>\n",
       "    </tr>\n",
       "    <tr>\n",
       "      <th>zzy7t0y9cm</th>\n",
       "      <td>1.000</td>\n",
       "      <td>0.000</td>\n",
       "      <td>0.000</td>\n",
       "      <td>0.000</td>\n",
       "      <td>0.000</td>\n",
       "      <td>0.000</td>\n",
       "    </tr>\n",
       "    <tr>\n",
       "      <th>zzysuoqg6x</th>\n",
       "      <td>0.000</td>\n",
       "      <td>0.000</td>\n",
       "      <td>0.000</td>\n",
       "      <td>0.000</td>\n",
       "      <td>0.000</td>\n",
       "      <td>0.000</td>\n",
       "    </tr>\n",
       "    <tr>\n",
       "      <th>zzywmcn0jv</th>\n",
       "      <td>0.000</td>\n",
       "      <td>0.000</td>\n",
       "      <td>0.286</td>\n",
       "      <td>0.714</td>\n",
       "      <td>0.000</td>\n",
       "      <td>0.000</td>\n",
       "    </tr>\n",
       "    <tr>\n",
       "      <th>zzzlylp57e</th>\n",
       "      <td>1.000</td>\n",
       "      <td>0.000</td>\n",
       "      <td>0.000</td>\n",
       "      <td>0.000</td>\n",
       "      <td>0.000</td>\n",
       "      <td>0.000</td>\n",
       "    </tr>\n",
       "  </tbody>\n",
       "</table>\n",
       "<p>135483 rows × 6 columns</p>\n",
       "</div>"
      ],
      "text/plain": [
       "                0      1      2      3      4      5\n",
       "user_id                                             \n",
       "00023iyk9l  0.429  0.571  0.000  0.000  0.000  0.000\n",
       "0010k6l0om  1.000  0.000  0.000  0.000  0.000  0.000\n",
       "001wyh0pz8  1.000  0.000  0.000  0.000  0.000  0.000\n",
       "0028jgx1x1  1.000  0.000  0.000  0.000  0.000  0.000\n",
       "002qnbzfs5  0.241  0.306  0.139  0.315  0.000  0.000\n",
       "0031awlkjq  1.000  0.000  0.000  0.000  0.000  0.000\n",
       "0035hobuyj  0.304  0.043  0.000  0.152  0.065  0.435\n",
       "00378ocvlh  0.444  0.333  0.167  0.056  0.000  0.000\n",
       "00389675gq  0.242  0.000  0.242  0.364  0.152  0.000\n",
       "003iamz20l  0.115  0.846  0.038  0.000  0.000  0.000\n",
       "0048rkdgb1  1.000  0.000  0.000  0.000  0.000  0.000\n",
       "0057snrdpu  0.000  0.250  0.750  0.000  0.000  0.000\n",
       "005jc3nbmb  0.167  0.000  0.000  0.000  0.833  0.000\n",
       "005v5uf4dh  1.000  0.000  0.000  0.000  0.000  0.000\n",
       "0063bawn05  0.727  0.000  0.000  0.000  0.273  0.000\n",
       "006ml14zc1  1.000  0.000  0.000  0.000  0.000  0.000\n",
       "006mls2sjw  0.200  0.114  0.257  0.371  0.057  0.000\n",
       "006t3vhawl  1.000  0.000  0.000  0.000  0.000  0.000\n",
       "006z8b0uws  1.000  0.000  0.000  0.000  0.000  0.000\n",
       "0075z9e9xv  0.365  0.254  0.317  0.000  0.000  0.063\n",
       "007gj7kqdk  1.000  0.000  0.000  0.000  0.000  0.000\n",
       "009a40t3dk  0.571  0.143  0.000  0.286  0.000  0.000\n",
       "00a8dbifj8  1.000  0.000  0.000  0.000  0.000  0.000\n",
       "00allnceb8  0.000  0.000  0.000  0.000  0.000  0.000\n",
       "00an0o6c07  1.000  0.000  0.000  0.000  0.000  0.000\n",
       "00b9hfwaak  0.778  0.222  0.000  0.000  0.000  0.000\n",
       "00bn6hu437  0.500  0.500  0.000  0.000  0.000  0.000\n",
       "00bowi9sn3  1.000  0.000  0.000  0.000  0.000  0.000\n",
       "00bqkh0g5i  0.000  0.000  0.000  0.000  0.000  0.000\n",
       "00bxmflswn  0.222  0.000  0.111  0.111  0.185  0.370\n",
       "...           ...    ...    ...    ...    ...    ...\n",
       "zzq90ckj2z  1.000  0.000  0.000  0.000  0.000  0.000\n",
       "zzqb2sn066  0.000  0.000  0.000  0.000  0.000  0.000\n",
       "zzr1rkdsh9  0.562  0.188  0.000  0.250  0.000  0.000\n",
       "zzrnx9rqi5  0.000  1.000  0.000  0.000  0.000  0.000\n",
       "zzsoxtv8zb  0.875  0.000  0.000  0.000  0.000  0.125\n",
       "zzsslqqkee  1.000  0.000  0.000  0.000  0.000  0.000\n",
       "zzsszlux3t  0.000  0.000  0.000  0.000  0.000  0.000\n",
       "zzswqjsqy4  0.500  0.000  0.500  0.000  0.000  0.000\n",
       "zzt5gpsyqa  0.375  0.500  0.125  0.000  0.000  0.000\n",
       "zzt8w28nl5  0.067  0.000  0.700  0.233  0.000  0.000\n",
       "zztaeo9wd5  0.933  0.067  0.000  0.000  0.000  0.000\n",
       "zztkv1gkse  1.000  0.000  0.000  0.000  0.000  0.000\n",
       "zzu3u71odh  1.000  0.000  0.000  0.000  0.000  0.000\n",
       "zzu6ezwap2  1.000  0.000  0.000  0.000  0.000  0.000\n",
       "zzunwylrfv  0.031  0.094  0.094  0.156  0.281  0.344\n",
       "zzuy4rvdki  1.000  0.000  0.000  0.000  0.000  0.000\n",
       "zzv6z6rjr9  0.462  0.500  0.038  0.000  0.000  0.000\n",
       "zzv8sgicbk  1.000  0.000  0.000  0.000  0.000  0.000\n",
       "zzvatt4dio  0.550  0.300  0.050  0.000  0.000  0.100\n",
       "zzvg4emw5w  0.211  0.158  0.211  0.158  0.263  0.000\n",
       "zzvr84im58  0.000  0.000  0.000  0.000  0.000  0.000\n",
       "zzw7kydxfa  0.000  0.000  0.000  0.000  0.000  0.000\n",
       "zzx06inhbv  0.000  0.000  0.000  0.000  0.000  0.000\n",
       "zzx0hfd74v  1.000  0.000  0.000  0.000  0.000  0.000\n",
       "zzx5wp3lqu  1.000  0.000  0.000  0.000  0.000  0.000\n",
       "zzxox7jnrx  0.688  0.312  0.000  0.000  0.000  0.000\n",
       "zzy7t0y9cm  1.000  0.000  0.000  0.000  0.000  0.000\n",
       "zzysuoqg6x  0.000  0.000  0.000  0.000  0.000  0.000\n",
       "zzywmcn0jv  0.000  0.000  0.286  0.714  0.000  0.000\n",
       "zzzlylp57e  1.000  0.000  0.000  0.000  0.000  0.000\n",
       "\n",
       "[135483 rows x 6 columns]"
      ]
     },
     "execution_count": 22,
     "metadata": {},
     "output_type": "execute_result"
    }
   ],
   "source": [
    "WeekFeatures"
   ]
  },
  {
   "cell_type": "code",
   "execution_count": null,
   "metadata": {
    "collapsed": true
   },
   "outputs": [],
   "source": []
  },
  {
   "cell_type": "markdown",
   "metadata": {},
   "source": [
    "#### Join all Session Features Together"
   ]
  },
  {
   "cell_type": "code",
   "execution_count": 23,
   "metadata": {
    "collapsed": false,
    "scrolled": false
   },
   "outputs": [
    {
     "name": "stdout",
     "output_type": "stream",
     "text": [
      "Total number of Session Features created: 329\n"
     ]
    }
   ],
   "source": [
    "## Join all session features together\n",
    "SessionFeatures = pd.merge(sessions_pure,deviceusage_df,right_index=True,left_index=True,how='inner')\n",
    "SessionFeatures = pd.merge(SessionFeatures,session_times,right_index=True,left_index=True,how='inner')\n",
    "SessionFeatures = pd.merge(SessionFeatures,WeekFeatures,right_index=True,left_index=True,how='inner')\n",
    "print('Total number of Session Features created:', SessionFeatures.shape[1])"
   ]
  },
  {
   "cell_type": "markdown",
   "metadata": {},
   "source": [
    "### Demographic Bracket Features: age_gender_brackets.csv\n",
    "This file contains the number of users in each age and gender bracket, e.g. (Female, 24-29), travelling to each destination in 2015."
   ]
  },
  {
   "cell_type": "code",
   "execution_count": 24,
   "metadata": {
    "collapsed": false,
    "scrolled": true
   },
   "outputs": [
    {
     "data": {
      "text/html": [
       "<div>\n",
       "<table border=\"1\" class=\"dataframe\">\n",
       "  <thead>\n",
       "    <tr style=\"text-align: right;\">\n",
       "      <th></th>\n",
       "      <th>age_bucket</th>\n",
       "      <th>country_destination</th>\n",
       "      <th>gender</th>\n",
       "      <th>population_in_thousands</th>\n",
       "      <th>year</th>\n",
       "    </tr>\n",
       "  </thead>\n",
       "  <tbody>\n",
       "    <tr>\n",
       "      <th>0</th>\n",
       "      <td>100+</td>\n",
       "      <td>AU</td>\n",
       "      <td>male</td>\n",
       "      <td>1</td>\n",
       "      <td>2015</td>\n",
       "    </tr>\n",
       "    <tr>\n",
       "      <th>1</th>\n",
       "      <td>95-99</td>\n",
       "      <td>AU</td>\n",
       "      <td>male</td>\n",
       "      <td>9</td>\n",
       "      <td>2015</td>\n",
       "    </tr>\n",
       "    <tr>\n",
       "      <th>2</th>\n",
       "      <td>90-94</td>\n",
       "      <td>AU</td>\n",
       "      <td>male</td>\n",
       "      <td>47</td>\n",
       "      <td>2015</td>\n",
       "    </tr>\n",
       "    <tr>\n",
       "      <th>3</th>\n",
       "      <td>85-89</td>\n",
       "      <td>AU</td>\n",
       "      <td>male</td>\n",
       "      <td>118</td>\n",
       "      <td>2015</td>\n",
       "    </tr>\n",
       "    <tr>\n",
       "      <th>4</th>\n",
       "      <td>80-84</td>\n",
       "      <td>AU</td>\n",
       "      <td>male</td>\n",
       "      <td>199</td>\n",
       "      <td>2015</td>\n",
       "    </tr>\n",
       "  </tbody>\n",
       "</table>\n",
       "</div>"
      ],
      "text/plain": [
       "  age_bucket country_destination gender  population_in_thousands  year\n",
       "0       100+                  AU   male                        1  2015\n",
       "1      95-99                  AU   male                        9  2015\n",
       "2      90-94                  AU   male                       47  2015\n",
       "3      85-89                  AU   male                      118  2015\n",
       "4      80-84                  AU   male                      199  2015"
      ]
     },
     "execution_count": 24,
     "metadata": {},
     "output_type": "execute_result"
    }
   ],
   "source": [
    "age_gender_df = pd.read_csv('input/age_gender_bkts.csv')\n",
    "age_gender_df.head()"
   ]
  },
  {
   "cell_type": "markdown",
   "metadata": {
    "collapsed": true
   },
   "source": [
    "#### Convert to Normalised Pivot Table \n",
    "For each and age-gender bracket, divide the number of individuals users in each destination by the total number of users in the age bracket. Get the percentage of users from that group travelling to each destination.\n",
    "\n",
    "The appropriate row can be appended to each user as a kind of more 'objective prior' (in the Bayesian sense) from outside the dataset.\n",
    "\n",
    "If age or gender are missing, append the overall prior."
   ]
  },
  {
   "cell_type": "code",
   "execution_count": 25,
   "metadata": {
    "collapsed": false,
    "scrolled": true
   },
   "outputs": [
    {
     "data": {
      "text/html": [
       "<div>\n",
       "<table border=\"1\" class=\"dataframe\">\n",
       "  <thead>\n",
       "    <tr style=\"text-align: right;\">\n",
       "      <th></th>\n",
       "      <th>country_destination</th>\n",
       "      <th>AU</th>\n",
       "      <th>CA</th>\n",
       "      <th>DE</th>\n",
       "      <th>ES</th>\n",
       "      <th>FR</th>\n",
       "      <th>GB</th>\n",
       "      <th>IT</th>\n",
       "      <th>NL</th>\n",
       "      <th>PT</th>\n",
       "      <th>US</th>\n",
       "    </tr>\n",
       "    <tr>\n",
       "      <th>age_bucket</th>\n",
       "      <th>gender</th>\n",
       "      <th></th>\n",
       "      <th></th>\n",
       "      <th></th>\n",
       "      <th></th>\n",
       "      <th></th>\n",
       "      <th></th>\n",
       "      <th></th>\n",
       "      <th></th>\n",
       "      <th></th>\n",
       "      <th></th>\n",
       "    </tr>\n",
       "  </thead>\n",
       "  <tbody>\n",
       "    <tr>\n",
       "      <th rowspan=\"2\" valign=\"top\">0-4</th>\n",
       "      <th>female</th>\n",
       "      <td>0.037438</td>\n",
       "      <td>0.047505</td>\n",
       "      <td>0.082115</td>\n",
       "      <td>0.057428</td>\n",
       "      <td>0.092901</td>\n",
       "      <td>0.090504</td>\n",
       "      <td>0.066296</td>\n",
       "      <td>0.020996</td>\n",
       "      <td>0.010786</td>\n",
       "      <td>0.494032</td>\n",
       "    </tr>\n",
       "    <tr>\n",
       "      <th>male</th>\n",
       "      <td>0.037583</td>\n",
       "      <td>0.047662</td>\n",
       "      <td>0.082600</td>\n",
       "      <td>0.058016</td>\n",
       "      <td>0.092816</td>\n",
       "      <td>0.090353</td>\n",
       "      <td>0.066956</td>\n",
       "      <td>0.021072</td>\n",
       "      <td>0.010901</td>\n",
       "      <td>0.492041</td>\n",
       "    </tr>\n",
       "    <tr>\n",
       "      <th rowspan=\"2\" valign=\"top\">10-14</th>\n",
       "      <th>female</th>\n",
       "      <td>0.034254</td>\n",
       "      <td>0.045010</td>\n",
       "      <td>0.087209</td>\n",
       "      <td>0.054457</td>\n",
       "      <td>0.091764</td>\n",
       "      <td>0.081880</td>\n",
       "      <td>0.067248</td>\n",
       "      <td>0.023886</td>\n",
       "      <td>0.013033</td>\n",
       "      <td>0.501260</td>\n",
       "    </tr>\n",
       "    <tr>\n",
       "      <th>male</th>\n",
       "      <td>0.034392</td>\n",
       "      <td>0.045501</td>\n",
       "      <td>0.087576</td>\n",
       "      <td>0.055036</td>\n",
       "      <td>0.091881</td>\n",
       "      <td>0.081976</td>\n",
       "      <td>0.067950</td>\n",
       "      <td>0.023931</td>\n",
       "      <td>0.013192</td>\n",
       "      <td>0.498565</td>\n",
       "    </tr>\n",
       "    <tr>\n",
       "      <th>100+</th>\n",
       "      <th>female</th>\n",
       "      <td>0.027586</td>\n",
       "      <td>0.048276</td>\n",
       "      <td>0.096552</td>\n",
       "      <td>0.062069</td>\n",
       "      <td>0.131034</td>\n",
       "      <td>0.089655</td>\n",
       "      <td>0.103448</td>\n",
       "      <td>0.013793</td>\n",
       "      <td>0.006897</td>\n",
       "      <td>0.420690</td>\n",
       "    </tr>\n",
       "  </tbody>\n",
       "</table>\n",
       "</div>"
      ],
      "text/plain": [
       "country_destination        AU        CA        DE        ES        FR  \\\n",
       "age_bucket gender                                                       \n",
       "0-4        female    0.037438  0.047505  0.082115  0.057428  0.092901   \n",
       "           male      0.037583  0.047662  0.082600  0.058016  0.092816   \n",
       "10-14      female    0.034254  0.045010  0.087209  0.054457  0.091764   \n",
       "           male      0.034392  0.045501  0.087576  0.055036  0.091881   \n",
       "100+       female    0.027586  0.048276  0.096552  0.062069  0.131034   \n",
       "\n",
       "country_destination        GB        IT        NL        PT        US  \n",
       "age_bucket gender                                                      \n",
       "0-4        female    0.090504  0.066296  0.020996  0.010786  0.494032  \n",
       "           male      0.090353  0.066956  0.021072  0.010901  0.492041  \n",
       "10-14      female    0.081880  0.067248  0.023886  0.013033  0.501260  \n",
       "           male      0.081976  0.067950  0.023931  0.013192  0.498565  \n",
       "100+       female    0.089655  0.103448  0.013793  0.006897  0.420690  "
      ]
     },
     "execution_count": 25,
     "metadata": {},
     "output_type": "execute_result"
    }
   ],
   "source": [
    "# Convert to normalised Pivot Table\n",
    "A = pd.pivot_table(age_gender_df,values='population_in_thousands',index=['age_bucket','gender'],columns='country_destination')\n",
    "normalised_brackets = A.divide(A.sum(axis=1),axis=0)\n",
    "normalised_totals = A.sum()/A.sum().sum() ## Hmm, really this shouldn't assume a uniform prior over brackets when missing.\n",
    "normalised_brackets.head()"
   ]
  },
  {
   "cell_type": "markdown",
   "metadata": {},
   "source": [
    "#### Create and Append Features"
   ]
  },
  {
   "cell_type": "code",
   "execution_count": 26,
   "metadata": {
    "collapsed": false
   },
   "outputs": [],
   "source": [
    "# Fuctions for Apply\n",
    "def age_bucket_converter(age, gender):\n",
    "    #Create tuple of (Age,Gender) pair, output needs to match indices of Pivot Table\n",
    "    if (age>0)&(age<100):\n",
    "        a = int((age//5)*5)\n",
    "        Age = str(a)+'-'+str(a+4)\n",
    "        if Age == '5-9': Age = 'Missing'\n",
    "    elif age>99: Age = '100+'\n",
    "    else: Age = 'Missing'\n",
    "        \n",
    "    if gender == 'MALE': Gender = 'male'\n",
    "    elif gender == 'FEMALE': Gender = 'female'\n",
    "    else: Gender = 'Missing'\n",
    "    return (Age, Gender)\n",
    "\n",
    "def bkts_feature_create(age_gender,normalised_brackets,normalised_totals):\n",
    "    # Return appropriate row of pivot table for (age,gender) bracket \n",
    "    Age,Gender = age_bucket_converter(*age_gender)\n",
    "    #print([Age,Gender])\n",
    "    \n",
    "    if ((Age=='Missing')|(Gender=='Missing')):\n",
    "        return normalised_totals\n",
    "    else:\n",
    "        return normalised_brackets.loc[(Age,Gender)]\n",
    "    \n",
    "# Create Features    \n",
    "BracketFeatures = all_users_preserved[['age','gender']].apply(lambda x: bkts_feature_create(tuple(x.values),normalised_brackets,normalised_totals),axis=1)\n",
    "BracketFeatures.set_index(all_users['id'],inplace=True)"
   ]
  },
  {
   "cell_type": "code",
   "execution_count": null,
   "metadata": {
    "collapsed": true
   },
   "outputs": [],
   "source": []
  },
  {
   "cell_type": "markdown",
   "metadata": {},
   "source": [
    "## Combine All Features!!\n",
    "For use in training the models"
   ]
  },
  {
   "cell_type": "code",
   "execution_count": 27,
   "metadata": {
    "collapsed": false,
    "scrolled": true
   },
   "outputs": [
    {
     "name": "stdout",
     "output_type": "stream",
     "text": [
      "num users total =  135038\n",
      "num features =  518\n"
     ]
    }
   ],
   "source": [
    "# Merge with Bracket Features\n",
    "All = all_users.merge(BracketFeatures,how='inner',left_on='id',right_index=True) \n",
    "\n",
    "# Merge with Session Features\n",
    "All = All.merge(SessionFeatures,how='inner',left_on='id',right_index=True)\n",
    "\n",
    "print('num users total = ',All.shape[0])\n",
    "print('num features = ',All.shape[1])"
   ]
  },
  {
   "cell_type": "markdown",
   "metadata": {},
   "source": [
    "#### Loss of rows without session features\n",
    "Since the Session Features is only for users since 2014, by combining the basic features with the Session Features using a simple inner join, I am dramatically reducing the training set from 213,451 to 70,xxx - a dramatic drop! This is probably okay. Subsequent resuts (learning curves) suggest that models created will not benefit from the additional examples.\n",
    "\n",
    "Information might be lost is that the training samples are only from the first six months of 2014, whereas test users are for the third quarter. Using only those training samples loses seasonal variation. That would be a reason to want to include information from earlier samples too.\n",
    "\n",
    "One way to make use of all the samples might be to ensemble two classifiers: one trained using all the samples but without session features, and the other trained on the subset with features. I have not yet tried this, but am somewhat pessimistic."
   ]
  },
  {
   "cell_type": "code",
   "execution_count": null,
   "metadata": {
    "collapsed": true
   },
   "outputs": [],
   "source": []
  },
  {
   "cell_type": "markdown",
   "metadata": {},
   "source": [
    "# 3. Machine Learning Models"
   ]
  },
  {
   "cell_type": "markdown",
   "metadata": {},
   "source": [
    "### Imports"
   ]
  },
  {
   "cell_type": "code",
   "execution_count": 28,
   "metadata": {
    "collapsed": true
   },
   "outputs": [],
   "source": [
    "#Imports\n",
    "from sklearn.cross_validation import cross_val_score\n",
    "from sklearn.grid_search import GridSearchCV, RandomizedSearchCV\n",
    "from sklearn.cross_validation import train_test_split\n",
    "from sklearn import metrics\n",
    "from sklearn import preprocessing"
   ]
  },
  {
   "cell_type": "markdown",
   "metadata": {},
   "source": [
    "### Sample Subset Selecion\n",
    "Given the large number of classes and severe imbalance, it seemed worthwhile to initially limit the problem to classifying only the five largest classes. Collectively, these classes still account for 96.5% of all training samples."
   ]
  },
  {
   "cell_type": "code",
   "execution_count": 29,
   "metadata": {
    "collapsed": false
   },
   "outputs": [
    {
     "name": "stdout",
     "output_type": "stream",
     "text": [
      "Num Training Samples: 70799\n",
      "Num Features: 516\n"
     ]
    }
   ],
   "source": [
    "from sklearn.preprocessing import LabelEncoder\n",
    "le = LabelEncoder()\n",
    "\n",
    "#included_destinations = ['NDF','US'] # Binary among majority classes.\n",
    "included_destinations = ['NDF','US','FR','IT','other'] #,'GB','ES']\n",
    "# included_destinations = ['FR','IT','GB','ES'] #Largest minority classe\n",
    "\n",
    "X  = All[All['country_destination'].apply(lambda x: x in included_destinations)]\n",
    "y = le.fit_transform(X['country_destination'])\n",
    "X = X.drop(['country_destination','id'],axis=1)\n",
    "\n",
    "X_Test = All[All['country_destination'].isnull()].drop(['country_destination','id'],axis=1)\n",
    "X_Test_ids = All[All['country_destination'].isnull()]['id']\n",
    "\n",
    "print('Num Training Samples:', X.shape[0])\n",
    "print('Num Features:',X.shape[1])\n",
    "#print(list(zip(le.classes_,range(0,len(y)))))"
   ]
  },
  {
   "cell_type": "code",
   "execution_count": 30,
   "metadata": {
    "collapsed": false
   },
   "outputs": [
    {
     "name": "stdout",
     "output_type": "stream",
     "text": [
      "[('FR', 0), ('IT', 1), ('NDF', 2), ('US', 3), ('other', 4)]\n"
     ]
    }
   ],
   "source": [
    "print(list(zip(le.classes_,range(0,len(y)))))"
   ]
  },
  {
   "cell_type": "markdown",
   "metadata": {},
   "source": [
    "### Dummy Estimator\n",
    "To get a sense of how well our classifiers are performing, it helps to compare with a dummy classifier which uses a simple heuristic, i.e. all the dominant class, or based on class priors. Since we need to generate the five most likely destinations in order of likelihood, let's use a dummy classifiers which suggests them based on class frequency (class prior)."
   ]
  },
  {
   "cell_type": "code",
   "execution_count": 31,
   "metadata": {
    "collapsed": false,
    "scrolled": true
   },
   "outputs": [
    {
     "name": "stdout",
     "output_type": "stream",
     "text": [
      "NDCG score for Dummy Estimator: 0.8503\n"
     ]
    }
   ],
   "source": [
    "# Compare with basic. If you can't beat this, there's a probelm.\n",
    "from sklearn.dummy import DummyClassifier\n",
    "Dummy = DummyClassifier(strategy='prior').fit(X,y)\n",
    "dummy_score = ndcg_scorer(Dummy,X,y)\n",
    "print('NDCG score for Dummy Estimator: {0:.4f}'.format(dummy_score))"
   ]
  },
  {
   "cell_type": "markdown",
   "metadata": {},
   "source": [
    "## Logistic Regression\n",
    "Why? Simple. Establish baseline. Interpretable.\n",
    "\n",
    "One-vs-Rest (although multinomial exists)"
   ]
  },
  {
   "cell_type": "markdown",
   "metadata": {},
   "source": [
    "#### Logistic Regression Preprocessing"
   ]
  },
  {
   "cell_type": "code",
   "execution_count": null,
   "metadata": {
    "collapsed": true
   },
   "outputs": [],
   "source": [
    "Xsave = X #save original values for later use in Random Forest.\n",
    "\n",
    "# Impute missing values to median to maintain linearity\n",
    "X['age'].replace(-1,np.median(X['age']),inplace=True)\n",
    "# Scale, helps with convergence\n",
    "scaler = preprocessing.MinMaxScaler()\n",
    "X['age'] = scaler.fit_transform(X['age'])"
   ]
  },
  {
   "cell_type": "code",
   "execution_count": null,
   "metadata": {
    "collapsed": false
   },
   "outputs": [],
   "source": [
    "from sklearn.linear_model import LogisticRegressionCV\n",
    "LR = LogisticRegressionCV(Cs=[0,1e-class_weight='balanced',scoring=ndcg_scorer) #class_weight='balanced'\n",
    "LR.fit(X,y)"
   ]
  },
  {
   "cell_type": "code",
   "execution_count": null,
   "metadata": {
    "collapsed": true
   },
   "outputs": [],
   "source": [
    "y_pred = clf.predict(X_train)\n",
    "print('NDCG = ',ndcg_scorer(clf,X_train,y_train))\n",
    "print('Accuracy = ',metrics.accuracy_score(y_train,y_pred))\n",
    "print('Recall = ',metrics.recall_score(y_train,y_pred))\n",
    "print('Precision = ',metrics.precision_score(y_train,y_pred))"
   ]
  },
  {
   "cell_type": "code",
   "execution_count": null,
   "metadata": {
    "collapsed": false,
    "scrolled": true
   },
   "outputs": [],
   "source": [
    "print('NDCG = ',ndcg_scorer(LR,X,y))"
   ]
  },
  {
   "cell_type": "code",
   "execution_count": null,
   "metadata": {
    "collapsed": false
   },
   "outputs": [],
   "source": [
    "#%%timeit -r1\n",
    "from sklearn.linear_model import LogisticRegression\n",
    "\n",
    "clf = LogisticRegression(C = 0.0005,class_weight='balanced')\n",
    "\n",
    "#Need to stratify.\n",
    "X_train, X_test, y_train, y_test = train_test_split(X, y, random_state=0)\n",
    "clf.fit(X_train,y_train)\n",
    "y_pred = clf.predict(X_test)\n",
    "\n",
    "print('NDCG = ',ndcg_scorer(clf,X_test,y_test))\n",
    "print('Accuracy = ',metrics.accuracy_score(y_test,y_pred))\n"
   ]
  },
  {
   "cell_type": "code",
   "execution_count": null,
   "metadata": {
    "collapsed": false
   },
   "outputs": [],
   "source": [
    "from sklearn.linear_model import LogisticRegression\n",
    "clf = LogisticRegression(C = 0.001,class_weight='balanced',multi_class='multinomial',solver='lbfgs')\n",
    "score = cross_val_score(clf,X,y,cv=5,scoring=ndcg_scorer)\n",
    "print(np.mean(score))\n",
    "score"
   ]
  },
  {
   "cell_type": "code",
   "execution_count": null,
   "metadata": {
    "collapsed": false
   },
   "outputs": [],
   "source": [
    "y_pred = LR.predict(X)\n",
    "print('NDCG = ',ndcg_scorer(LR,X,y))\n",
    "print('Accuracy = ',metrics.accuracy_score(y_train,y_pred))\n",
    "print('Recall = ',metrics.recall_score(y_train,y_pred))\n",
    "print('Precision = ',metrics.precision_score(y_train,y_pred))"
   ]
  },
  {
   "cell_type": "code",
   "execution_count": null,
   "metadata": {
    "collapsed": false
   },
   "outputs": [],
   "source": [
    "LR.predict(X)"
   ]
  },
  {
   "cell_type": "code",
   "execution_count": null,
   "metadata": {
    "collapsed": false,
    "scrolled": true
   },
   "outputs": [],
   "source": [
    "LR.Cs_"
   ]
  },
  {
   "cell_type": "code",
   "execution_count": null,
   "metadata": {
    "collapsed": true
   },
   "outputs": [],
   "source": []
  },
  {
   "cell_type": "code",
   "execution_count": 72,
   "metadata": {
    "collapsed": false
   },
   "outputs": [
    {
     "data": {
      "text/plain": [
       "22.715633383201094"
      ]
     },
     "execution_count": 72,
     "metadata": {},
     "output_type": "execute_result"
    }
   ],
   "source": [
    "np.sqrt(516)"
   ]
  },
  {
   "cell_type": "markdown",
   "metadata": {},
   "source": [
    "## Random Forest\n",
    "Because . . . inherently multiclass . . . non-linearities"
   ]
  },
  {
   "cell_type": "code",
   "execution_count": 32,
   "metadata": {
    "collapsed": true
   },
   "outputs": [],
   "source": [
    "from sklearn.ensemble import RandomForestClassifier\n",
    "#X = Xsave"
   ]
  },
  {
   "cell_type": "code",
   "execution_count": 52,
   "metadata": {
    "collapsed": false
   },
   "outputs": [
    {
     "data": {
      "text/plain": [
       "RandomForestClassifier(bootstrap=True, class_weight=None, criterion='gini',\n",
       "            max_depth=None, max_features=30, max_leaf_nodes=None,\n",
       "            min_samples_leaf=1, min_samples_split=2,\n",
       "            min_weight_fraction_leaf=0.0, n_estimators=400, n_jobs=-1,\n",
       "            oob_score=False, random_state=None, verbose=0,\n",
       "            warm_start=False)"
      ]
     },
     "execution_count": 52,
     "metadata": {},
     "output_type": "execute_result"
    }
   ],
   "source": [
    "RF = RandomForestClassifier(n_estimators=400,max_features=30,n_jobs=-1) #,class_weight='balanced')\n",
    "RF.fit(X,y)\n"
   ]
  },
  {
   "cell_type": "code",
   "execution_count": 55,
   "metadata": {
    "collapsed": false,
    "scrolled": true
   },
   "outputs": [
    {
     "name": "stdout",
     "output_type": "stream",
     "text": [
      "[CV] no parameters to be set .........................................\n",
      "[CV] ................................ no parameters to be set -  35.5s\n",
      "[CV] no parameters to be set .........................................\n",
      "[CV] ................................ no parameters to be set -  36.3s\n",
      "[CV] no parameters to be set .........................................\n",
      "[CV] ................................ no parameters to be set -  35.7s\n",
      "CV scores =  [ 0.89  0.88  0.88]\n",
      "Mean CV score =  0.88424203937\n"
     ]
    },
    {
     "name": "stderr",
     "output_type": "stream",
     "text": [
      "[Parallel(n_jobs=1)]: Done   3 out of   3 | elapsed:  1.8min finished\n"
     ]
    }
   ],
   "source": [
    "#RF = RandomForestClassifier(n_estimators=500,max_features=30,n_jobs=-1) #,class_weight='balanced')\n",
    "CV_score = cross_val_score(RF,X,y,scoring=ndcg_scorer, cv=5, verbose=2)\n",
    "print('CV scores = ',CV_score)\n",
    "print('Mean CV score = ', np.mean(CV_score))"
   ]
  },
  {
   "cell_type": "markdown",
   "metadata": {},
   "source": [
    "#### Parameter Search"
   ]
  },
  {
   "cell_type": "code",
   "execution_count": null,
   "metadata": {
    "collapsed": true
   },
   "outputs": [],
   "source": [
    "mf_range = [25,40]\n",
    "grid = GridSearchCV(RandomForestClassifier(n_estimators=100),\n",
    "                    param_grid={'max_features': mf_range},scoring=ndcg_scorer,cv=5)\n",
    "grid.fit(X,y)"
   ]
  },
  {
   "cell_type": "markdown",
   "metadata": {},
   "source": [
    "#### Classificatior Report and Confusion Matrix"
   ]
  },
  {
   "cell_type": "code",
   "execution_count": 41,
   "metadata": {
    "collapsed": false,
    "scrolled": true
   },
   "outputs": [],
   "source": [
    "#Requires predictions from train test split.\n",
    "RF = RandomForestClassifier(n_estimators=200,max_features=30,n_jobs=-1,class_weight='balanced') #,class_weight='balanced')\n",
    "\n",
    "X_train, X_test, y_train, y_test = train_test_split(X, y, test_size=0.2,random_state=42)\n",
    "RF.fit(X_train,y_train)\n",
    "y_pred = RF.predict(X_test)\n",
    "\n"
   ]
  },
  {
   "cell_type": "code",
   "execution_count": 42,
   "metadata": {
    "collapsed": false
   },
   "outputs": [
    {
     "name": "stdout",
     "output_type": "stream",
     "text": [
      "ndcg =  0.882911516037\n",
      "dummy =  0.850313791469\n",
      "improvement over dummy: 3.260%\n"
     ]
    }
   ],
   "source": [
    "from sklearn.metrics import accuracy_score\n",
    "accuracy_score(y_pred,y_test)\n",
    "\n",
    "#dummy_score = ndcg_scorer(Dummy,X_test,y_test)\n",
    "ndcg_score = ndcg_scorer(RF,X_test,y_test)\n",
    "print('ndcg = ', ndcg_score)\n",
    "print('dummy = ', dummy_score)\n",
    "print('improvement over dummy: %3.3f%%' % ((ndcg_score - dummy_score)*100))"
   ]
  },
  {
   "cell_type": "code",
   "execution_count": 43,
   "metadata": {
    "collapsed": false,
    "scrolled": false
   },
   "outputs": [
    {
     "name": "stdout",
     "output_type": "stream",
     "text": [
      "             precision    recall  f1-score   support\n",
      "\n",
      "          0       0.00      0.00      0.00       279\n",
      "          1       0.00      0.00      0.00       194\n",
      "          2       0.76      0.91      0.83      8954\n",
      "          3       0.61      0.51      0.56      4017\n",
      "          4       0.00      0.00      0.00       716\n",
      "\n",
      "avg / total       0.65      0.72      0.68     14160\n",
      "\n"
     ]
    },
    {
     "name": "stderr",
     "output_type": "stream",
     "text": [
      "c:\\Anaconda3\\lib\\site-packages\\sklearn\\metrics\\classification.py:1074: UndefinedMetricWarning: Precision and F-score are ill-defined and being set to 0.0 in labels with no predicted samples.\n",
      "  'precision', 'predicted', average, warn_for)\n"
     ]
    }
   ],
   "source": [
    "## Classificaiton Report\n",
    "clf = RF\n",
    "y_pred = clf.predict(X_test) \n",
    "print(metrics.classification_report(y_test,y_pred))\n",
    "#print('ndcg = ', ndcg_score)"
   ]
  },
  {
   "cell_type": "code",
   "execution_count": 39,
   "metadata": {
    "collapsed": true
   },
   "outputs": [],
   "source": [
    "from sklearn.metrics import confusion_matrix\n",
    "\n",
    "def plot_confusion_matrix(cm, title='Confusion matrix', cmap=plt.cm.Blues):\n",
    "    plt.imshow(cm, interpolation='nearest', cmap=cmap)\n",
    "    plt.title(title)\n",
    "    plt.colorbar()\n",
    "    tick_marks = np.arange(len(classes))\n",
    "    plt.xticks(tick_marks, classes, rotation=45)\n",
    "    plt.yticks(tick_marks, classes)\n",
    "    plt.tight_layout()\n",
    "    plt.ylabel('True label')\n",
    "    plt.xlabel('Predicted label')"
   ]
  },
  {
   "cell_type": "code",
   "execution_count": 44,
   "metadata": {
    "collapsed": false
   },
   "outputs": [
    {
     "name": "stdout",
     "output_type": "stream",
     "text": [
      "confusion matrix\n",
      "[[   0    0  163  116    0]\n",
      " [   0    0  105   89    0]\n",
      " [   0    0 8141  812    1]\n",
      " [   0    0 1957 2060    0]\n",
      " [   0    0  412  304    0]]\n"
     ]
    },
    {
     "data": {
      "image/png": "[encoded data removed]",
      "text/plain": [
       "<matplotlib.figure.Figure at 0x1510f160>"
      ]
     },
     "metadata": {},
     "output_type": "display_data"
    }
   ],
   "source": [
    "sns.set_context(\"talk\")\n",
    "#cm = confusion_matrix(y, clf.predict(X))\n",
    "cm = confusion_matrix(y_test, y_pred)\n",
    "np.set_printoptions(precision=2)\n",
    "\n",
    "# Normalize the confusion matrix by row (i.e by the number of samples in each class)\n",
    "cm_normalized = cm.astype('float') / cm.sum(axis=1)[:, np.newaxis]\n",
    "print('confusion matrix')\n",
    "print(cm)\n",
    "classes=le.classes_\n",
    "plot_confusion_matrix(cm_normalized, title='Normalized confusion matrix')\n",
    "plt.show()"
   ]
  },
  {
   "cell_type": "markdown",
   "metadata": {},
   "source": [
    "#### Feature Importances\n",
    "\n",
    "http://stats.stackexchange.com/a/92843/97964"
   ]
  },
  {
   "cell_type": "code",
   "execution_count": 46,
   "metadata": {
    "collapsed": false,
    "scrolled": true
   },
   "outputs": [
    {
     "name": "stderr",
     "output_type": "stream",
     "text": [
      "c:\\Anaconda3\\lib\\site-packages\\matplotlib\\__init__.py:892: UserWarning: axes.color_cycle is deprecated and replaced with axes.prop_cycle; please use the latter.\n",
      "  warnings.warn(self.msg_depr % (key, alt_key))\n"
     ]
    },
    {
     "data": {
      "text/plain": [
       "<matplotlib.axes._subplots.AxesSubplot at 0x15020630>"
      ]
     },
     "execution_count": 46,
     "metadata": {},
     "output_type": "execute_result"
    },
    {
     "data": {
      "image/png": "[encoded data removed]",
      "text/plain": [
       "<matplotlib.figure.Figure at 0x1492f0f0>"
      ]
     },
     "metadata": {},
     "output_type": "display_data"
    }
   ],
   "source": [
    "RF.fit(X,y)\n",
    "FeatureImportances = pd.Series(index=X.columns,data=RF.feature_importances_).sort_values(ascending=False)\n",
    "FeatureImportances = (FeatureImportances*10000).round()\n",
    "k = 100\n",
    "plt.figure(figsize=(10,20))\n",
    "sns.barplot(y=FeatureImportances.index[0:k],x=FeatureImportances.head(k))"
   ]
  },
  {
   "cell_type": "code",
   "execution_count": 44,
   "metadata": {
    "collapsed": false,
    "scrolled": true
   },
   "outputs": [
    {
     "data": {
      "text/plain": [
       "age                                       262\n",
       "affiliate_channel_api                       3\n",
       "affiliate_channel_content                   8\n",
       "affiliate_channel_direct                   33\n",
       "affiliate_channel_other                     3\n",
       "affiliate_channel_remarketing               5\n",
       "affiliate_channel_sem-brand                31\n",
       "affiliate_channel_sem-non-brand            18\n",
       "affiliate_channel_seo                      14\n",
       "affiliate_provider_baidu                    0\n",
       "affiliate_provider_bing                     4\n",
       "affiliate_provider_craigslist               0\n",
       "affiliate_provider_daum                     0\n",
       "affiliate_provider_direct                  34\n",
       "affiliate_provider_email-marketing          1\n",
       "affiliate_provider_facebook                 7\n",
       "affiliate_provider_facebook-open-graph      0\n",
       "affiliate_provider_google                  32\n",
       "affiliate_provider_gsp                      0\n",
       "affiliate_provider_meetup                   0\n",
       "affiliate_provider_naver                    0\n",
       "affiliate_provider_other                    5\n",
       "affiliate_provider_padmapper                1\n",
       "affiliate_provider_vast                     0\n",
       "affiliate_provider_wayn                     0\n",
       "affiliate_provider_yahoo                    1\n",
       "affiliate_provider_yandex                   0\n",
       "first_affiliate_tracked_linked             38\n",
       "first_affiliate_tracked_local ops           0\n",
       "first_affiliate_tracked_marketing           0\n",
       "                                         ... \n",
       "your_trips                                 31\n",
       "-unknown-                                  43\n",
       "Android App Unknown Phone/Tablet            7\n",
       "Android Phone                               8\n",
       "Blackberry                                  0\n",
       "Chromebook                                  3\n",
       "Linux Desktop                               3\n",
       "Mac Desktop                               122\n",
       "Opera Phone                                 0\n",
       "Tablet                                      5\n",
       "Windows Desktop                           104\n",
       "Windows Phone                               0\n",
       "iPad Tablet                                32\n",
       "iPhone                                     43\n",
       "iPodtouch                                   0\n",
       "num_devices                                35\n",
       "mean_secs_per_action                      245\n",
       "num_actions_insession                     177\n",
       "total_session_times                       231\n",
       "num_sessions                              156\n",
       "mean_between_sessions                     224\n",
       "max_between_sessions                      226\n",
       "num_days                                  123\n",
       "all_time                                  238\n",
       "0.0                                       119\n",
       "1.0                                        99\n",
       "2.0                                        72\n",
       "3.0                                        54\n",
       "4.0                                        36\n",
       "5.0                                        28\n",
       "dtype: float64"
      ]
     },
     "execution_count": 44,
     "metadata": {},
     "output_type": "execute_result"
    }
   ],
   "source": [
    "(pd.Series(index=X.columns,data=RF.feature_importances_)*10000).round()"
   ]
  },
  {
   "cell_type": "code",
   "execution_count": null,
   "metadata": {
    "collapsed": true
   },
   "outputs": [],
   "source": []
  },
  {
   "cell_type": "code",
   "execution_count": null,
   "metadata": {
    "collapsed": true
   },
   "outputs": [],
   "source": []
  },
  {
   "cell_type": "code",
   "execution_count": null,
   "metadata": {
    "collapsed": true
   },
   "outputs": [],
   "source": []
  },
  {
   "cell_type": "code",
   "execution_count": null,
   "metadata": {
    "collapsed": true
   },
   "outputs": [],
   "source": []
  },
  {
   "cell_type": "code",
   "execution_count": null,
   "metadata": {
    "collapsed": true
   },
   "outputs": [],
   "source": []
  },
  {
   "cell_type": "code",
   "execution_count": null,
   "metadata": {
    "collapsed": true
   },
   "outputs": [],
   "source": []
  },
  {
   "cell_type": "code",
   "execution_count": null,
   "metadata": {
    "collapsed": true
   },
   "outputs": [],
   "source": []
  },
  {
   "cell_type": "code",
   "execution_count": null,
   "metadata": {
    "collapsed": true
   },
   "outputs": [],
   "source": []
  },
  {
   "cell_type": "code",
   "execution_count": null,
   "metadata": {
    "collapsed": true
   },
   "outputs": [],
   "source": []
  },
  {
   "cell_type": "code",
   "execution_count": null,
   "metadata": {
    "collapsed": true
   },
   "outputs": [],
   "source": []
  },
  {
   "cell_type": "markdown",
   "metadata": {},
   "source": [
    "## XGBoost"
   ]
  },
  {
   "cell_type": "code",
   "execution_count": 34,
   "metadata": {
    "collapsed": false
   },
   "outputs": [],
   "source": [
    "from xgboost.sklearn import XGBClassifier\n",
    "\n",
    "xgb = XGBClassifier(max_depth=6, learning_rate=0.3, n_estimators=25,\n",
    "                    objective='multi:softprob', subsample=0.5, colsample_bytree=0.5, seed=0,\n",
    "                   )  "
   ]
  },
  {
   "cell_type": "code",
   "execution_count": 36,
   "metadata": {
    "collapsed": false,
    "scrolled": true
   },
   "outputs": [
    {
     "name": "stderr",
     "output_type": "stream",
     "text": [
      "[Parallel(n_jobs=1)]: Done   5 out of   5 | elapsed: 12.2min finished\n"
     ]
    }
   ],
   "source": [
    "CV_score = cross_val_score(xgb,X.values,y,scoring=ndcg_scorer, cv=5, verbose=1)\n"
   ]
  },
  {
   "cell_type": "code",
   "execution_count": 37,
   "metadata": {
    "collapsed": false
   },
   "outputs": [
    {
     "name": "stdout",
     "output_type": "stream",
     "text": [
      "CV scores =  [ 0.88371488  0.8825259   0.88115555  0.88428833  0.8706861 ]\n",
      "Mean CV score =  0.880474152871\n"
     ]
    }
   ],
   "source": [
    "print('CV scores = ',CV_score)\n",
    "print('Mean CV score = ', np.mean(CV_score))"
   ]
  },
  {
   "cell_type": "code",
   "execution_count": null,
   "metadata": {
    "collapsed": false
   },
   "outputs": [],
   "source": [
    "xgb.fit(X.values,y)"
   ]
  },
  {
   "cell_type": "code",
   "execution_count": null,
   "metadata": {
    "collapsed": true
   },
   "outputs": [],
   "source": []
  },
  {
   "cell_type": "code",
   "execution_count": 54,
   "metadata": {
    "collapsed": false
   },
   "outputs": [
    {
     "data": {
      "text/plain": [
       "RandomForestClassifier(bootstrap=True, class_weight=None, criterion='gini',\n",
       "            max_depth=None, max_features=30, max_leaf_nodes=None,\n",
       "            min_samples_leaf=1, min_samples_split=2,\n",
       "            min_weight_fraction_leaf=0.0, n_estimators=400, n_jobs=-1,\n",
       "            oob_score=False, random_state=None, verbose=0,\n",
       "            warm_start=False)"
      ]
     },
     "execution_count": 54,
     "metadata": {},
     "output_type": "execute_result"
    }
   ],
   "source": [
    "RF"
   ]
  },
  {
   "cell_type": "code",
   "execution_count": null,
   "metadata": {
    "collapsed": true
   },
   "outputs": [],
   "source": []
  },
  {
   "cell_type": "markdown",
   "metadata": {},
   "source": [
    "# Test Submissions"
   ]
  },
  {
   "cell_type": "code",
   "execution_count": 47,
   "metadata": {
    "collapsed": true
   },
   "outputs": [],
   "source": [
    "def create_sub(preds,id_test):\n",
    "##Format predictions for Kaggle online submission\n",
    "    \n",
    "    n = 5\n",
    "\n",
    "    ids = [] # list of id's\n",
    "    cts = [] # list of countries\n",
    "    for i in range(len(id_test)):\n",
    "        idx = id_test[i]\n",
    "        ids += [idx]*n\n",
    "        cts += list(preds[i][0:n])\n",
    "    \n",
    "    submission = pd.DataFrame(np.column_stack((ids,cts)), columns=['id','country'])\n",
    "    return submission\n",
    "\n"
   ]
  },
  {
   "cell_type": "code",
   "execution_count": 49,
   "metadata": {
    "collapsed": false
   },
   "outputs": [
    {
     "data": {
      "text/plain": [
       "array([2, 2, 2, ..., 2, 2, 2], dtype=int64)"
      ]
     },
     "execution_count": 49,
     "metadata": {},
     "output_type": "execute_result"
    }
   ],
   "source": []
  },
  {
   "cell_type": "code",
   "execution_count": 53,
   "metadata": {
    "collapsed": false
   },
   "outputs": [
    {
     "name": "stdout",
     "output_type": "stream",
     "text": [
      "['NDF' 'US' 'other' 'FR' 'IT']\n"
     ]
    }
   ],
   "source": [
    "test_users_proba = RF.predict_proba(X_Test) #xgb.predict_proba(X_Test.values)\n",
    "test_users_preds = le.inverse_transform(np.fliplr(test_users_proba.argsort()))\n",
    "print(test_users_preds[3][0:5])\n",
    "\n",
    "submission = create_sub(test_users_preds,X_Test_ids.values)\n",
    "submission.to_csv('output/sub_rf_5class_pure_weeks_400_n8_516p_unbalanced.csv',index=False)"
   ]
  }
 ],
 "metadata": {
  "kernelspec": {
   "display_name": "Python 3",
   "language": "python",
   "name": "python3"
  },
  "language_info": {
   "codemirror_mode": {
    "name": "ipython",
    "version": 3
   },
   "file_extension": ".py",
   "mimetype": "text/x-python",
   "name": "python",
   "nbconvert_exporter": "python",
   "pygments_lexer": "ipython3",
   "version": "3.5.1"
  }
 },
 "nbformat": 4,
 "nbformat_minor": 0
}
