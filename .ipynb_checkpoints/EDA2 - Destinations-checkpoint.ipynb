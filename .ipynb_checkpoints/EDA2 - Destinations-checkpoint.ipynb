{
 "cells": [
  {
   "cell_type": "code",
   "execution_count": 1,
   "metadata": {
    "collapsed": false
   },
   "outputs": [
    {
     "name": "stderr",
     "output_type": "stream",
     "text": [
      "c:\\Anaconda3\\lib\\site-packages\\matplotlib\\__init__.py:872: UserWarning: axes.color_cycle is deprecated and replaced with axes.prop_cycle; please use the latter.\n",
      "  warnings.warn(self.msg_depr % (key, alt_key))\n"
     ]
    }
   ],
   "source": [
    "# Imports\n",
    "\n",
    "# pandas\n",
    "import pandas as pd\n",
    "from pandas import Series,DataFrame\n",
    "\n",
    "# numpy, matplotlib, seaborn\n",
    "import numpy as np\n",
    "import matplotlib.pyplot as plt\n",
    "import seaborn as sns\n",
    "sns.set_style('whitegrid')\n",
    "%matplotlib inline"
   ]
  },
  {
   "cell_type": "code",
   "execution_count": 30,
   "metadata": {
    "collapsed": false,
    "scrolled": true
   },
   "outputs": [
    {
     "data": {
      "text/html": [
       "<div>\n",
       "<table border=\"1\" class=\"dataframe\">\n",
       "  <thead>\n",
       "    <tr style=\"text-align: right;\">\n",
       "      <th></th>\n",
       "      <th>id</th>\n",
       "      <th>date_account_created</th>\n",
       "      <th>timestamp_first_active</th>\n",
       "      <th>date_first_booking</th>\n",
       "      <th>gender</th>\n",
       "      <th>age</th>\n",
       "      <th>signup_method</th>\n",
       "      <th>signup_flow</th>\n",
       "      <th>language</th>\n",
       "      <th>affiliate_channel</th>\n",
       "      <th>affiliate_provider</th>\n",
       "      <th>first_affiliate_tracked</th>\n",
       "      <th>signup_app</th>\n",
       "      <th>first_device_type</th>\n",
       "      <th>first_browser</th>\n",
       "      <th>country_destination</th>\n",
       "    </tr>\n",
       "  </thead>\n",
       "  <tbody>\n",
       "    <tr>\n",
       "      <th>0</th>\n",
       "      <td>gxn3p5htnn</td>\n",
       "      <td>2010-06-28</td>\n",
       "      <td>20090319043255</td>\n",
       "      <td>NaN</td>\n",
       "      <td>-unknown-</td>\n",
       "      <td>NaN</td>\n",
       "      <td>facebook</td>\n",
       "      <td>0</td>\n",
       "      <td>en</td>\n",
       "      <td>direct</td>\n",
       "      <td>direct</td>\n",
       "      <td>untracked</td>\n",
       "      <td>Web</td>\n",
       "      <td>Mac Desktop</td>\n",
       "      <td>Chrome</td>\n",
       "      <td>NDF</td>\n",
       "    </tr>\n",
       "    <tr>\n",
       "      <th>1</th>\n",
       "      <td>820tgsjxq7</td>\n",
       "      <td>2011-05-25</td>\n",
       "      <td>20090523174809</td>\n",
       "      <td>NaN</td>\n",
       "      <td>MALE</td>\n",
       "      <td>38</td>\n",
       "      <td>facebook</td>\n",
       "      <td>0</td>\n",
       "      <td>en</td>\n",
       "      <td>seo</td>\n",
       "      <td>google</td>\n",
       "      <td>untracked</td>\n",
       "      <td>Web</td>\n",
       "      <td>Mac Desktop</td>\n",
       "      <td>Chrome</td>\n",
       "      <td>NDF</td>\n",
       "    </tr>\n",
       "    <tr>\n",
       "      <th>2</th>\n",
       "      <td>4ft3gnwmtx</td>\n",
       "      <td>2010-09-28</td>\n",
       "      <td>20090609231247</td>\n",
       "      <td>2010-08-02</td>\n",
       "      <td>FEMALE</td>\n",
       "      <td>56</td>\n",
       "      <td>basic</td>\n",
       "      <td>3</td>\n",
       "      <td>en</td>\n",
       "      <td>direct</td>\n",
       "      <td>direct</td>\n",
       "      <td>untracked</td>\n",
       "      <td>Web</td>\n",
       "      <td>Windows Desktop</td>\n",
       "      <td>IE</td>\n",
       "      <td>US</td>\n",
       "    </tr>\n",
       "    <tr>\n",
       "      <th>3</th>\n",
       "      <td>bjjt8pjhuk</td>\n",
       "      <td>2011-12-05</td>\n",
       "      <td>20091031060129</td>\n",
       "      <td>2012-09-08</td>\n",
       "      <td>FEMALE</td>\n",
       "      <td>42</td>\n",
       "      <td>facebook</td>\n",
       "      <td>0</td>\n",
       "      <td>en</td>\n",
       "      <td>direct</td>\n",
       "      <td>direct</td>\n",
       "      <td>untracked</td>\n",
       "      <td>Web</td>\n",
       "      <td>Mac Desktop</td>\n",
       "      <td>Firefox</td>\n",
       "      <td>other</td>\n",
       "    </tr>\n",
       "    <tr>\n",
       "      <th>4</th>\n",
       "      <td>87mebub9p4</td>\n",
       "      <td>2010-09-14</td>\n",
       "      <td>20091208061105</td>\n",
       "      <td>2010-02-18</td>\n",
       "      <td>-unknown-</td>\n",
       "      <td>41</td>\n",
       "      <td>basic</td>\n",
       "      <td>0</td>\n",
       "      <td>en</td>\n",
       "      <td>direct</td>\n",
       "      <td>direct</td>\n",
       "      <td>untracked</td>\n",
       "      <td>Web</td>\n",
       "      <td>Mac Desktop</td>\n",
       "      <td>Chrome</td>\n",
       "      <td>US</td>\n",
       "    </tr>\n",
       "  </tbody>\n",
       "</table>\n",
       "</div>"
      ],
      "text/plain": [
       "           id date_account_created  timestamp_first_active date_first_booking  \\\n",
       "0  gxn3p5htnn           2010-06-28          20090319043255                NaN   \n",
       "1  820tgsjxq7           2011-05-25          20090523174809                NaN   \n",
       "2  4ft3gnwmtx           2010-09-28          20090609231247         2010-08-02   \n",
       "3  bjjt8pjhuk           2011-12-05          20091031060129         2012-09-08   \n",
       "4  87mebub9p4           2010-09-14          20091208061105         2010-02-18   \n",
       "\n",
       "      gender  age signup_method  signup_flow language affiliate_channel  \\\n",
       "0  -unknown-  NaN      facebook            0       en            direct   \n",
       "1       MALE   38      facebook            0       en               seo   \n",
       "2     FEMALE   56         basic            3       en            direct   \n",
       "3     FEMALE   42      facebook            0       en            direct   \n",
       "4  -unknown-   41         basic            0       en            direct   \n",
       "\n",
       "  affiliate_provider first_affiliate_tracked signup_app first_device_type  \\\n",
       "0             direct               untracked        Web       Mac Desktop   \n",
       "1             google               untracked        Web       Mac Desktop   \n",
       "2             direct               untracked        Web   Windows Desktop   \n",
       "3             direct               untracked        Web       Mac Desktop   \n",
       "4             direct               untracked        Web       Mac Desktop   \n",
       "\n",
       "  first_browser country_destination  \n",
       "0        Chrome                 NDF  \n",
       "1        Chrome                 NDF  \n",
       "2            IE                  US  \n",
       "3       Firefox               other  \n",
       "4        Chrome                  US  "
      ]
     },
     "execution_count": 30,
     "metadata": {},
     "output_type": "execute_result"
    }
   ],
   "source": [
    "# get airbnb & test csv files as a DataFrame\n",
    "airbnb_df  = pd.read_csv('input/train_users_2.csv')\n",
    "test_df    = pd.read_csv('input/test_users.csv')\n",
    "\n",
    "# preview the data\n",
    "airbnb_df.head()"
   ]
  },
  {
   "cell_type": "code",
   "execution_count": 6,
   "metadata": {
    "collapsed": false,
    "scrolled": false
   },
   "outputs": [
    {
     "name": "stdout",
     "output_type": "stream",
     "text": [
      "<class 'pandas.core.frame.DataFrame'>\n",
      "Int64Index: 213451 entries, 0 to 213450\n",
      "Data columns (total 16 columns):\n",
      "id                         213451 non-null object\n",
      "date_account_created       213451 non-null object\n",
      "timestamp_first_active     213451 non-null int64\n",
      "date_first_booking         88908 non-null object\n",
      "gender                     213451 non-null object\n",
      "age                        125461 non-null float64\n",
      "signup_method              213451 non-null object\n",
      "signup_flow                213451 non-null int64\n",
      "language                   213451 non-null object\n",
      "affiliate_channel          213451 non-null object\n",
      "affiliate_provider         213451 non-null object\n",
      "first_affiliate_tracked    207386 non-null object\n",
      "signup_app                 213451 non-null object\n",
      "first_device_type          213451 non-null object\n",
      "first_browser              213451 non-null object\n",
      "country_destination        213451 non-null object\n",
      "dtypes: float64(1), int64(2), object(13)\n",
      "memory usage: 27.7+ MB\n",
      "----------------------------\n",
      "<class 'pandas.core.frame.DataFrame'>\n",
      "Int64Index: 62096 entries, 0 to 62095\n",
      "Data columns (total 15 columns):\n",
      "id                         62096 non-null object\n",
      "date_account_created       62096 non-null object\n",
      "timestamp_first_active     62096 non-null int64\n",
      "date_first_booking         0 non-null float64\n",
      "gender                     62096 non-null object\n",
      "age                        33220 non-null float64\n",
      "signup_method              62096 non-null object\n",
      "signup_flow                62096 non-null int64\n",
      "language                   62096 non-null object\n",
      "affiliate_channel          62096 non-null object\n",
      "affiliate_provider         62096 non-null object\n",
      "first_affiliate_tracked    62076 non-null object\n",
      "signup_app                 62096 non-null object\n",
      "first_device_type          62096 non-null object\n",
      "first_browser              62096 non-null object\n",
      "dtypes: float64(2), int64(2), object(11)\n",
      "memory usage: 7.6+ MB\n"
     ]
    }
   ],
   "source": [
    "airbnb_df.info()\n",
    "print(\"----------------------------\")\n",
    "test_df.info()"
   ]
  },
  {
   "cell_type": "code",
   "execution_count": 92,
   "metadata": {
    "collapsed": false
   },
   "outputs": [
    {
     "name": "stderr",
     "output_type": "stream",
     "text": [
      "c:\\Anaconda3\\lib\\site-packages\\matplotlib\\__init__.py:892: UserWarning: axes.color_cycle is deprecated and replaced with axes.prop_cycle; please use the latter.\n",
      "  warnings.warn(self.msg_depr % (key, alt_key))\n"
     ]
    },
    {
     "data": {
      "text/plain": [
       "<matplotlib.axes._subplots.AxesSubplot at 0x1b095ac8>"
      ]
     },
     "execution_count": 92,
     "metadata": {},
     "output_type": "execute_result"
    },
    {
     "data": {
      "image/png": "[encoded data removed]",
      "text/plain": [
       "<matplotlib.figure.Figure at 0x1a09a240>"
      ]
     },
     "metadata": {},
     "output_type": "display_data"
    }
   ],
   "source": [
    "# Create Year and Month Columns\n",
    "\n",
    "airbnb_df['Year'] = pd.to_datetime(airbnb_df['date_account_created']).apply(lambda x: x.year)\n",
    "airbnb_df['Month'] = pd.to_datetime(airbnb_df['date_account_created']).apply(lambda x: x.month)\n",
    "test_df['Year'] = pd.to_datetime(test_df['date_account_created']).apply(lambda x: x.year)\n",
    "test_df['Month'] = pd.to_datetime(test_df['date_account_created']).apply(lambda x: x.month)\n",
    "\n",
    "# fill NaN\n",
    "airbnb_df['Year'].fillna(airbnb_df['Year'].median(), inplace=True)\n",
    "airbnb_df['Month'].fillna(airbnb_df['Month'].median(), inplace=True)\n",
    "\n",
    "test_df['Year'].fillna(test_df['Year'].median(), inplace=True)\n",
    "test_df['Month'].fillna(test_df['Month'].median(), inplace=True)\n",
    "\n",
    "\n",
    "airbnb_df['M-Year'] = pd.to_datetime(airbnb_df['date_account_created']).apply(lambda x: str(x.month)+'-'+str(x.year))\n",
    "test_df['M-Year'] = pd.to_datetime(test_df['date_account_created']).apply(lambda x: str(x.month)+'-'+str(x.year))\n",
    "\n",
    "#Plot\n",
    "fig,(axis1,axis2) = plt.subplots(2,1,sharex=True)\n",
    "\n",
    "sns.countplot(x=\"Year\",data=airbnb_df,ax=axis1)\n",
    "sns.countplot(x=\"Year\",data=test_df,ax=axis2,order=[2010,2011,2012,2013,2014])\n"
   ]
  },
  {
   "cell_type": "code",
   "execution_count": 78,
   "metadata": {
    "collapsed": false,
    "scrolled": false
   },
   "outputs": [
    {
     "name": "stderr",
     "output_type": "stream",
     "text": [
      "c:\\Anaconda3\\lib\\site-packages\\matplotlib\\__init__.py:892: UserWarning: axes.color_cycle is deprecated and replaced with axes.prop_cycle; please use the latter.\n",
      "  warnings.warn(self.msg_depr % (key, alt_key))\n"
     ]
    },
    {
     "data": {
      "text/plain": [
       "<matplotlib.text.Text at 0x19dae748>"
      ]
     },
     "execution_count": 78,
     "metadata": {},
     "output_type": "execute_result"
    },
    {
     "data": {
      "image/png": "[encoded data removed]",
      "text/plain": [
       "<matplotlib.figure.Figure at 0x1bf49b00>"
      ]
     },
     "metadata": {},
     "output_type": "display_data"
    }
   ],
   "source": [
    "#Plot of Month-Year\n",
    "Order = [str(m)+'-'+str(y) for y in range(2010,2016) for m in range(1,13)]\n",
    "\n",
    "\n",
    "fig,(axis1,axis2) = plt.subplots(2,1,sharex=True,figsize=(25,8))\n",
    "\n",
    "sns.countplot(x=\"M-Year\",data=airbnb_df,ax=axis1)\n",
    "sns.countplot(x=\"M-Year\",data=test_df,ax=axis2,order=Order)\n",
    "plt.xticks(rotation=90)\n",
    "\n",
    "#axis2.set_xticklabels(Order,rotation=90)\n",
    "plt.xlabel('Month-Year')\n",
    "plt.title('Acount Registrations per Month')\n",
    "\n"
   ]
  },
  {
   "cell_type": "markdown",
   "metadata": {},
   "source": [
    "Apparent that the training set set is all date before 07-2014. No obvious pattern in activity. AirBnB got really happening in 2011."
   ]
  },
  {
   "cell_type": "code",
   "execution_count": 87,
   "metadata": {
    "collapsed": false
   },
   "outputs": [
    {
     "data": {
      "text/html": [
       "<div>\n",
       "<table border=\"1\" class=\"dataframe\">\n",
       "  <thead>\n",
       "    <tr style=\"text-align: right;\">\n",
       "      <th></th>\n",
       "      <th>id</th>\n",
       "      <th>date_account_created</th>\n",
       "      <th>timestamp_first_active</th>\n",
       "      <th>date_first_booking</th>\n",
       "      <th>gender</th>\n",
       "      <th>age</th>\n",
       "      <th>signup_method</th>\n",
       "      <th>signup_flow</th>\n",
       "      <th>language</th>\n",
       "      <th>affiliate_channel</th>\n",
       "      <th>affiliate_provider</th>\n",
       "      <th>first_affiliate_tracked</th>\n",
       "      <th>signup_app</th>\n",
       "      <th>first_device_type</th>\n",
       "      <th>first_browser</th>\n",
       "      <th>Year</th>\n",
       "      <th>M-Year</th>\n",
       "    </tr>\n",
       "    <tr>\n",
       "      <th>Month</th>\n",
       "      <th></th>\n",
       "      <th></th>\n",
       "      <th></th>\n",
       "      <th></th>\n",
       "      <th></th>\n",
       "      <th></th>\n",
       "      <th></th>\n",
       "      <th></th>\n",
       "      <th></th>\n",
       "      <th></th>\n",
       "      <th></th>\n",
       "      <th></th>\n",
       "      <th></th>\n",
       "      <th></th>\n",
       "      <th></th>\n",
       "      <th></th>\n",
       "      <th></th>\n",
       "    </tr>\n",
       "  </thead>\n",
       "  <tbody>\n",
       "    <tr>\n",
       "      <th>7</th>\n",
       "      <td>21696</td>\n",
       "      <td>21696</td>\n",
       "      <td>21696</td>\n",
       "      <td>0</td>\n",
       "      <td>21696</td>\n",
       "      <td>11548</td>\n",
       "      <td>21696</td>\n",
       "      <td>21696</td>\n",
       "      <td>21696</td>\n",
       "      <td>21696</td>\n",
       "      <td>21696</td>\n",
       "      <td>21685</td>\n",
       "      <td>21696</td>\n",
       "      <td>21696</td>\n",
       "      <td>21696</td>\n",
       "      <td>21696</td>\n",
       "      <td>21696</td>\n",
       "    </tr>\n",
       "    <tr>\n",
       "      <th>8</th>\n",
       "      <td>21626</td>\n",
       "      <td>21626</td>\n",
       "      <td>21626</td>\n",
       "      <td>0</td>\n",
       "      <td>21626</td>\n",
       "      <td>11487</td>\n",
       "      <td>21626</td>\n",
       "      <td>21626</td>\n",
       "      <td>21626</td>\n",
       "      <td>21626</td>\n",
       "      <td>21626</td>\n",
       "      <td>21623</td>\n",
       "      <td>21626</td>\n",
       "      <td>21626</td>\n",
       "      <td>21626</td>\n",
       "      <td>21626</td>\n",
       "      <td>21626</td>\n",
       "    </tr>\n",
       "    <tr>\n",
       "      <th>9</th>\n",
       "      <td>18774</td>\n",
       "      <td>18774</td>\n",
       "      <td>18774</td>\n",
       "      <td>0</td>\n",
       "      <td>18774</td>\n",
       "      <td>10185</td>\n",
       "      <td>18774</td>\n",
       "      <td>18774</td>\n",
       "      <td>18774</td>\n",
       "      <td>18774</td>\n",
       "      <td>18774</td>\n",
       "      <td>18768</td>\n",
       "      <td>18774</td>\n",
       "      <td>18774</td>\n",
       "      <td>18774</td>\n",
       "      <td>18774</td>\n",
       "      <td>18774</td>\n",
       "    </tr>\n",
       "  </tbody>\n",
       "</table>\n",
       "</div>"
      ],
      "text/plain": [
       "          id  date_account_created  timestamp_first_active  \\\n",
       "Month                                                        \n",
       "7      21696                 21696                   21696   \n",
       "8      21626                 21626                   21626   \n",
       "9      18774                 18774                   18774   \n",
       "\n",
       "       date_first_booking  gender    age  signup_method  signup_flow  \\\n",
       "Month                                                                  \n",
       "7                       0   21696  11548          21696        21696   \n",
       "8                       0   21626  11487          21626        21626   \n",
       "9                       0   18774  10185          18774        18774   \n",
       "\n",
       "       language  affiliate_channel  affiliate_provider  \\\n",
       "Month                                                    \n",
       "7         21696              21696               21696   \n",
       "8         21626              21626               21626   \n",
       "9         18774              18774               18774   \n",
       "\n",
       "       first_affiliate_tracked  signup_app  first_device_type  first_browser  \\\n",
       "Month                                                                          \n",
       "7                        21685       21696              21696          21696   \n",
       "8                        21623       21626              21626          21626   \n",
       "9                        18768       18774              18774          18774   \n",
       "\n",
       "        Year  M-Year  \n",
       "Month                 \n",
       "7      21696   21696  \n",
       "8      21626   21626  \n",
       "9      18774   18774  "
      ]
     },
     "execution_count": 87,
     "metadata": {},
     "output_type": "execute_result"
    }
   ],
   "source": [
    "test_df.groupby('Month').count()"
   ]
  },
  {
   "cell_type": "code",
   "execution_count": 89,
   "metadata": {
    "collapsed": false
   },
   "outputs": [
    {
     "name": "stderr",
     "output_type": "stream",
     "text": [
      "c:\\Anaconda3\\lib\\site-packages\\matplotlib\\__init__.py:892: UserWarning: axes.color_cycle is deprecated and replaced with axes.prop_cycle; please use the latter.\n",
      "  warnings.warn(self.msg_depr % (key, alt_key))\n"
     ]
    },
    {
     "data": {
      "text/plain": [
       "<matplotlib.axes._subplots.AxesSubplot at 0x1b3bc908>"
      ]
     },
     "execution_count": 89,
     "metadata": {},
     "output_type": "execute_result"
    },
    {
     "data": {
      "image/png": "[encoded data removed]",
      "text/plain": [
       "<matplotlib.figure.Figure at 0x1b402828>"
      ]
     },
     "metadata": {},
     "output_type": "display_data"
    }
   ],
   "source": [
    "sns.countplot(x=\"Month\",data=test_df)"
   ]
  },
  {
   "cell_type": "code",
   "execution_count": 94,
   "metadata": {
    "collapsed": false
   },
   "outputs": [
    {
     "name": "stderr",
     "output_type": "stream",
     "text": [
      "c:\\Anaconda3\\lib\\site-packages\\matplotlib\\__init__.py:892: UserWarning: axes.color_cycle is deprecated and replaced with axes.prop_cycle; please use the latter.\n",
      "  warnings.warn(self.msg_depr % (key, alt_key))\n"
     ]
    },
    {
     "data": {
      "text/plain": [
       "<matplotlib.axes._subplots.AxesSubplot at 0x149f3d30>"
      ]
     },
     "execution_count": 94,
     "metadata": {},
     "output_type": "execute_result"
    },
    {
     "data": {
      "image/png": "[encoded data removed]",
      "text/plain": [
       "<matplotlib.figure.Figure at 0x1b4cfdd8>"
      ]
     },
     "metadata": {},
     "output_type": "display_data"
    }
   ],
   "source": [
    "#Plot of Month\n",
    "Order = [str(m) for m in range(1,13)]\n",
    "\n",
    "\n",
    "fig,(axis1,axis2) = plt.subplots(2,1,sharex=True,figsize=(15,8))\n",
    "\n",
    "sns.countplot(x=\"Month\",data=airbnb_df[airbnb_df['Year']>2012],ax=axis1) #Get bookings \n",
    "sns.countplot(x=\"Month\",data=test_df,ax=axis2,order=Order)\n",
    "\n",
    "\n",
    "#axis2.set_xticklabels(Order,rotation=90)\n",
    "#plt.xlabel('Month')\n",
    "#plt.title('Account Registrations per Month, summed over Years')"
   ]
  },
  {
   "cell_type": "markdown",
   "metadata": {},
   "source": [
    "Some kind of seasonality going on . . . not entirely sure about it though. Let's try bringing in destination."
   ]
  },
  {
   "cell_type": "code",
   "execution_count": null,
   "metadata": {
    "collapsed": true
   },
   "outputs": [],
   "source": []
  },
  {
   "cell_type": "code",
   "execution_count": null,
   "metadata": {
    "collapsed": true
   },
   "outputs": [],
   "source": []
  },
  {
   "cell_type": "code",
   "execution_count": 103,
   "metadata": {
    "collapsed": false
   },
   "outputs": [
    {
     "name": "stderr",
     "output_type": "stream",
     "text": [
      "c:\\Anaconda3\\lib\\site-packages\\matplotlib\\__init__.py:892: UserWarning: axes.color_cycle is deprecated and replaced with axes.prop_cycle; please use the latter.\n",
      "  warnings.warn(self.msg_depr % (key, alt_key))\n"
     ]
    },
    {
     "data": {
      "image/png": "[encoded data removed]",
      "text/plain": [
       "<matplotlib.figure.Figure at 0x22983ef0>"
      ]
     },
     "metadata": {},
     "output_type": "display_data"
    }
   ],
   "source": [
    "#Plot of Month\n",
    "Order = [str(m) for m in range(1,13)]\n",
    "\n",
    "\n",
    "g = sns.FacetGrid(airbnb_df[airbnb_df['Year']>2012],col=\"country_destination\",col_wrap=4)\n",
    "\n",
    "g = g.map(plt.hist,\"Month\",normed=True)\n",
    " \n",
    "    \n",
    "#g.set_titles('Facet of Normalised Histograms of Account Creation, faceted by eventual destination')    \n",
    "    \n",
    "    \n",
    "    \n",
    "    \n",
    "#sns.countplot(x=\"Month\",data=airbnb_df[airbnb_df['Year']>2012],ax=axis1,facet=\"country_destination\") #Get bookings \n",
    "#sns.countplot(x=\"Month\",data=test_df,ax=axis2,order=Order)\n",
    "#axis2.set_xticklabels(Order,rotation=90)\n",
    "#plt.xlabel('Month')\n",
    "#plt.title('Account Registrations per Month, summed over Years')"
   ]
  },
  {
   "cell_type": "markdown",
   "metadata": {},
   "source": [
    "No hugely different patterns between countries booked after account creation. \n",
    "Common to all:\n",
    "1) New account creation is always down second half of the year.\n",
    "2) Account creation is high at the beginning of the year, dips, and returns in the middle.\n",
    "3) Aust"
   ]
  },
  {
   "cell_type": "code",
   "execution_count": null,
   "metadata": {
    "collapsed": true
   },
   "outputs": [],
   "source": []
  },
  {
   "cell_type": "code",
   "execution_count": null,
   "metadata": {
    "collapsed": true
   },
   "outputs": [],
   "source": []
  },
  {
   "cell_type": "code",
   "execution_count": null,
   "metadata": {
    "collapsed": true
   },
   "outputs": [],
   "source": []
  },
  {
   "cell_type": "code",
   "execution_count": null,
   "metadata": {
    "collapsed": true
   },
   "outputs": [],
   "source": []
  },
  {
   "cell_type": "code",
   "execution_count": null,
   "metadata": {
    "collapsed": true
   },
   "outputs": [],
   "source": []
  },
  {
   "cell_type": "code",
   "execution_count": null,
   "metadata": {
    "collapsed": true
   },
   "outputs": [],
   "source": []
  },
  {
   "cell_type": "code",
   "execution_count": null,
   "metadata": {
    "collapsed": true
   },
   "outputs": [],
   "source": []
  },
  {
   "cell_type": "code",
   "execution_count": null,
   "metadata": {
    "collapsed": true
   },
   "outputs": [],
   "source": []
  },
  {
   "cell_type": "code",
   "execution_count": null,
   "metadata": {
    "collapsed": true
   },
   "outputs": [],
   "source": []
  },
  {
   "cell_type": "code",
   "execution_count": null,
   "metadata": {
    "collapsed": true
   },
   "outputs": [],
   "source": []
  },
  {
   "cell_type": "code",
   "execution_count": null,
   "metadata": {
    "collapsed": true
   },
   "outputs": [],
   "source": []
  },
  {
   "cell_type": "code",
   "execution_count": null,
   "metadata": {
    "collapsed": true
   },
   "outputs": [],
   "source": []
  },
  {
   "cell_type": "code",
   "execution_count": null,
   "metadata": {
    "collapsed": true
   },
   "outputs": [],
   "source": []
  },
  {
   "cell_type": "code",
   "execution_count": null,
   "metadata": {
    "collapsed": true
   },
   "outputs": [],
   "source": []
  },
  {
   "cell_type": "code",
   "execution_count": null,
   "metadata": {
    "collapsed": true
   },
   "outputs": [],
   "source": []
  },
  {
   "cell_type": "code",
   "execution_count": null,
   "metadata": {
    "collapsed": true
   },
   "outputs": [],
   "source": []
  },
  {
   "cell_type": "code",
   "execution_count": 40,
   "metadata": {
    "collapsed": false
   },
   "outputs": [
    {
     "data": {
      "text/plain": [
       "Timestamp('2011-05-25 00:00:00')"
      ]
     },
     "execution_count": 40,
     "metadata": {},
     "output_type": "execute_result"
    }
   ],
   "source": [
    "a = pd.to_datetime(airbnb_df['date_account_created'])[1]\n",
    "a."
   ]
  }
 ],
 "metadata": {
  "kernelspec": {
   "display_name": "Python 3",
   "language": "python",
   "name": "python3"
  },
  "language_info": {
   "codemirror_mode": {
    "name": "ipython",
    "version": 3
   },
   "file_extension": ".py",
   "mimetype": "text/x-python",
   "name": "python",
   "nbconvert_exporter": "python",
   "pygments_lexer": "ipython3",
   "version": "3.4.3"
  }
 },
 "nbformat": 4,
 "nbformat_minor": 0
}
