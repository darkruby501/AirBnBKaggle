{
 "cells": [
  {
   "cell_type": "code",
   "execution_count": 1,
   "metadata": {
    "collapsed": true
   },
   "outputs": [],
   "source": [
    "def preprocess_users(df):\n",
    "    ##AGE\n",
    "    #Remove all ages outside of range, set to -1 for separate categorisation\n",
    "    df.loc[df.age > 95, 'age'] = -1\n",
    "    df.loc[df.age < 13, 'age'] = -1\n",
    "    df.fillna(-1,inplace=True)\n",
    "\n",
    "    ## GENDER\n",
    "    # Set missing values to own category\n",
    "    df['gender'].replace('-unknown-',np.nan, inplace=True)\n",
    "    df['gender'].fillna('MISSING',inplace=True)\n",
    "\n",
    "    ## FIRST AFFILIATE TRACKED\n",
    "    # Set missing to untracked, hopefully the same\n",
    "    df['first_affiliate_tracked'].fillna('untracked',inplace=True)\n",
    "    \n",
    "    return df\n"
   ]
  }
 ],
 "metadata": {
  "kernelspec": {
   "display_name": "Python 3",
   "language": "python",
   "name": "python3"
  },
  "language_info": {
   "codemirror_mode": {
    "name": "ipython",
    "version": 3
   },
   "file_extension": ".py",
   "mimetype": "text/x-python",
   "name": "python",
   "nbconvert_exporter": "python",
   "pygments_lexer": "ipython3",
   "version": "3.5.1"
  }
 },
 "nbformat": 4,
 "nbformat_minor": 0
}
