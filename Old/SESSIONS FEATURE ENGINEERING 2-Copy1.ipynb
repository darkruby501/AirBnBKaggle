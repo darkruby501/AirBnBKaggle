{
 "cells": [
  {
   "cell_type": "code",
   "execution_count": 2,
   "metadata": {
    "collapsed": false
   },
   "outputs": [
    {
     "name": "stderr",
     "output_type": "stream",
     "text": [
      "c:\\Anaconda3\\lib\\site-packages\\matplotlib\\__init__.py:872: UserWarning: axes.color_cycle is deprecated and replaced with axes.prop_cycle; please use the latter.\n",
      "  warnings.warn(self.msg_depr % (key, alt_key))\n"
     ]
    }
   ],
   "source": [
    "# Imports\n",
    "\n",
    "# pandas\n",
    "import pandas as pd\n",
    "from pandas import Series,DataFrame\n",
    "\n",
    "# numpy, matplotlib, seaborn\n",
    "import numpy as np\n",
    "import matplotlib.pyplot as plt\n",
    "import seaborn as sns\n",
    "sns.set_style('whitegrid')\n",
    "%matplotlib inline"
   ]
  },
  {
   "cell_type": "code",
   "execution_count": 2,
   "metadata": {
    "collapsed": false
   },
   "outputs": [
    {
     "ename": "NameError",
     "evalue": "name 'session_grouped' is not defined",
     "output_type": "error",
     "traceback": [
      "\u001b[1;31m---------------------------------------------------------------------------\u001b[0m",
      "\u001b[1;31mNameError\u001b[0m                                 Traceback (most recent call last)",
      "\u001b[1;32m<ipython-input-2-d995903c0fb6>\u001b[0m in \u001b[0;36m<module>\u001b[1;34m()\u001b[0m\n\u001b[1;32m----> 1\u001b[1;33m \u001b[0mprint\u001b[0m\u001b[1;33m(\u001b[0m\u001b[0mlen\u001b[0m\u001b[1;33m(\u001b[0m\u001b[0msession_grouped\u001b[0m\u001b[1;33m)\u001b[0m\u001b[1;33m)\u001b[0m\u001b[1;33m\u001b[0m\u001b[0m\n\u001b[0m\u001b[0;32m      2\u001b[0m \u001b[0mprint\u001b[0m\u001b[1;33m(\u001b[0m\u001b[0mlen\u001b[0m\u001b[1;33m(\u001b[0m\u001b[0mX\u001b[0m\u001b[1;33m)\u001b[0m\u001b[1;33m)\u001b[0m\u001b[1;33m\u001b[0m\u001b[0m\n\u001b[0;32m      3\u001b[0m \u001b[0mprint\u001b[0m\u001b[1;33m(\u001b[0m\u001b[0mlen\u001b[0m\u001b[1;33m(\u001b[0m\u001b[0mY\u001b[0m\u001b[1;33m)\u001b[0m\u001b[1;33m)\u001b[0m\u001b[1;33m\u001b[0m\u001b[0m\n\u001b[0;32m      4\u001b[0m \u001b[0mprint\u001b[0m\u001b[1;33m(\u001b[0m\u001b[0mlen\u001b[0m\u001b[1;33m(\u001b[0m\u001b[0mX\u001b[0m\u001b[1;33m)\u001b[0m\u001b[1;33m+\u001b[0m\u001b[0mlen\u001b[0m\u001b[1;33m(\u001b[0m\u001b[0mY\u001b[0m\u001b[1;33m)\u001b[0m\u001b[1;33m)\u001b[0m\u001b[1;33m\u001b[0m\u001b[0m\n",
      "\u001b[1;31mNameError\u001b[0m: name 'session_grouped' is not defined"
     ]
    }
   ],
   "source": [
    "print(len(session_grouped))\n",
    "print(len(X))\n",
    "print(len(Y))\n",
    "print(len(X)+len(Y))"
   ]
  },
  {
   "cell_type": "code",
   "execution_count": 3,
   "metadata": {
    "collapsed": false
   },
   "outputs": [],
   "source": [
    "# get airbnb & test csv files as a DataFrame\n",
    "train_users  = pd.read_csv('../input/train_users_2.csv')\n",
    "session_df = pd.read_csv('../input/sessions.csv')\n",
    "test_users    = pd.read_csv('../input/test_users.csv')"
   ]
  },
  {
   "cell_type": "code",
   "execution_count": 5,
   "metadata": {
    "collapsed": true
   },
   "outputs": [],
   "source": [
    "all_users = pd.concat([train_users,test_users],axis=0,ignore_index=True)"
   ]
  },
  {
   "cell_type": "code",
   "execution_count": 91,
   "metadata": {
    "collapsed": true
   },
   "outputs": [],
   "source": [
    "i = 0"
   ]
  },
  {
   "cell_type": "code",
   "execution_count": 6,
   "metadata": {
    "collapsed": false
   },
   "outputs": [
    {
     "data": {
      "text/plain": [
       "(275547, 16)"
      ]
     },
     "execution_count": 6,
     "metadata": {},
     "output_type": "execute_result"
    }
   ],
   "source": [
    "all_users.shape"
   ]
  },
  {
   "cell_type": "code",
   "execution_count": 4,
   "metadata": {
    "collapsed": false,
    "scrolled": true
   },
   "outputs": [],
   "source": [
    "session_df['secs_elapsed'].fillna(0,inplace=True) # Most missing times are for create, authenticate, and index actions."
   ]
  },
  {
   "cell_type": "code",
   "execution_count": 5,
   "metadata": {
    "collapsed": false,
    "scrolled": true
   },
   "outputs": [],
   "source": [
    "session_grouped = session_df.groupby('user_id').agg({'action': 'count',\n",
    "                                                    'device_type':'first',\n",
    "                                                    'secs_elapsed':sum})"
   ]
  },
  {
   "cell_type": "code",
   "execution_count": null,
   "metadata": {
    "collapsed": true
   },
   "outputs": [],
   "source": []
  },
  {
   "cell_type": "code",
   "execution_count": null,
   "metadata": {
    "collapsed": true
   },
   "outputs": [],
   "source": []
  },
  {
   "cell_type": "code",
   "execution_count": null,
   "metadata": {
    "collapsed": true
   },
   "outputs": [],
   "source": []
  },
  {
   "cell_type": "code",
   "execution_count": null,
   "metadata": {
    "collapsed": true
   },
   "outputs": [],
   "source": []
  },
  {
   "cell_type": "code",
   "execution_count": null,
   "metadata": {
    "collapsed": true
   },
   "outputs": [],
   "source": []
  },
  {
   "cell_type": "code",
   "execution_count": null,
   "metadata": {
    "collapsed": true
   },
   "outputs": [],
   "source": []
  },
  {
   "cell_type": "code",
   "execution_count": null,
   "metadata": {
    "collapsed": true
   },
   "outputs": [],
   "source": []
  },
  {
   "cell_type": "code",
   "execution_count": null,
   "metadata": {
    "collapsed": true
   },
   "outputs": [],
   "source": []
  },
  {
   "cell_type": "code",
   "execution_count": null,
   "metadata": {
    "collapsed": true
   },
   "outputs": [],
   "source": []
  },
  {
   "cell_type": "code",
   "execution_count": null,
   "metadata": {
    "collapsed": true
   },
   "outputs": [],
   "source": []
  },
  {
   "cell_type": "code",
   "execution_count": null,
   "metadata": {
    "collapsed": true
   },
   "outputs": [],
   "source": []
  },
  {
   "cell_type": "code",
   "execution_count": null,
   "metadata": {
    "collapsed": true
   },
   "outputs": [],
   "source": []
  },
  {
   "cell_type": "code",
   "execution_count": null,
   "metadata": {
    "collapsed": true
   },
   "outputs": [],
   "source": []
  },
  {
   "cell_type": "code",
   "execution_count": 6,
   "metadata": {
    "collapsed": false
   },
   "outputs": [],
   "source": [
    "unique_ids = session_grouped.index.values\n",
    "user_af = pd.DataFrame(index=unique_ids) ## Create collected dataframe for new features"
   ]
  },
  {
   "cell_type": "code",
   "execution_count": 7,
   "metadata": {
    "collapsed": false,
    "scrolled": true
   },
   "outputs": [
    {
     "name": "stderr",
     "output_type": "stream",
     "text": [
      "c:\\Anaconda3\\lib\\site-packages\\ipykernel\\__main__.py:3: SettingWithCopyWarning: \n",
      "A value is trying to be set on a copy of a slice from a DataFrame.\n",
      "Try using .loc[row_indexer,col_indexer] = value instead\n",
      "\n",
      "See the caveats in the documentation: http://pandas.pydata.org/pandas-docs/stable/indexing.html#indexing-view-versus-copy\n",
      "  app.launch_new_instance()\n",
      "c:\\Anaconda3\\lib\\site-packages\\ipykernel\\__main__.py:4: SettingWithCopyWarning: \n",
      "A value is trying to be set on a copy of a slice from a DataFrame.\n",
      "Try using .loc[row_indexer,col_indexer] = value instead\n",
      "\n",
      "See the caveats in the documentation: http://pandas.pydata.org/pandas-docs/stable/indexing.html#indexing-view-versus-copy\n",
      "c:\\Anaconda3\\lib\\site-packages\\ipykernel\\__main__.py:5: SettingWithCopyWarning: \n",
      "A value is trying to be set on a copy of a slice from a DataFrame.\n",
      "Try using .loc[row_indexer,col_indexer] = value instead\n",
      "\n",
      "See the caveats in the documentation: http://pandas.pydata.org/pandas-docs/stable/indexing.html#indexing-view-versus-copy\n"
     ]
    },
    {
     "data": {
      "text/html": [
       "<div>\n",
       "<table border=\"1\" class=\"dataframe\">\n",
       "  <thead>\n",
       "    <tr style=\"text-align: right;\">\n",
       "      <th></th>\n",
       "      <th>user_id</th>\n",
       "      <th>action</th>\n",
       "      <th>action_type</th>\n",
       "      <th>action_detail</th>\n",
       "      <th>device_type</th>\n",
       "      <th>secs_elapsed</th>\n",
       "      <th>minutes_elapsed</th>\n",
       "      <th>hours_elapsed</th>\n",
       "      <th>days_elapsed</th>\n",
       "    </tr>\n",
       "  </thead>\n",
       "  <tbody>\n",
       "    <tr>\n",
       "      <th>3573923</th>\n",
       "      <td>00023iyk9l</td>\n",
       "      <td>index</td>\n",
       "      <td>view</td>\n",
       "      <td>view_search_results</td>\n",
       "      <td>Mac Desktop</td>\n",
       "      <td>20438</td>\n",
       "      <td>341</td>\n",
       "      <td>5.7</td>\n",
       "      <td>0.2</td>\n",
       "    </tr>\n",
       "    <tr>\n",
       "      <th>3573924</th>\n",
       "      <td>00023iyk9l</td>\n",
       "      <td>dashboard</td>\n",
       "      <td>view</td>\n",
       "      <td>dashboard</td>\n",
       "      <td>Mac Desktop</td>\n",
       "      <td>787</td>\n",
       "      <td>13</td>\n",
       "      <td>0.2</td>\n",
       "      <td>0.0</td>\n",
       "    </tr>\n",
       "    <tr>\n",
       "      <th>3573925</th>\n",
       "      <td>00023iyk9l</td>\n",
       "      <td>header_userpic</td>\n",
       "      <td>data</td>\n",
       "      <td>header_userpic</td>\n",
       "      <td>Mac Desktop</td>\n",
       "      <td>850</td>\n",
       "      <td>14</td>\n",
       "      <td>0.2</td>\n",
       "      <td>0.0</td>\n",
       "    </tr>\n",
       "  </tbody>\n",
       "</table>\n",
       "</div>"
      ],
      "text/plain": [
       "            user_id          action action_type        action_detail  \\\n",
       "3573923  00023iyk9l           index        view  view_search_results   \n",
       "3573924  00023iyk9l       dashboard        view            dashboard   \n",
       "3573925  00023iyk9l  header_userpic        data       header_userpic   \n",
       "\n",
       "         device_type  secs_elapsed  minutes_elapsed  hours_elapsed  \\\n",
       "3573923  Mac Desktop         20438              341            5.7   \n",
       "3573924  Mac Desktop           787               13            0.2   \n",
       "3573925  Mac Desktop           850               14            0.2   \n",
       "\n",
       "         days_elapsed  \n",
       "3573923           0.2  \n",
       "3573924           0.0  \n",
       "3573925           0.0  "
      ]
     },
     "execution_count": 7,
     "metadata": {},
     "output_type": "execute_result"
    }
   ],
   "source": [
    "user = session_df[session_df['user_id']==unique_ids[0]]\n",
    "\n",
    "user['minutes_elapsed']=np.round(user['secs_elapsed']/60)\n",
    "user['hours_elapsed']= np.round(user['secs_elapsed']/3600,1)\n",
    "user['days_elapsed']= np.round(user['secs_elapsed']/(3600*24),1)\n",
    "\n",
    "user.head(3)"
   ]
  },
  {
   "cell_type": "code",
   "execution_count": 223,
   "metadata": {
    "collapsed": false,
    "scrolled": false
   },
   "outputs": [
    {
     "data": {
      "text/plain": [
       "num_device_types             2.000000\n",
       "num_sessions                 4.000000\n",
       "num_days_active              3.000000\n",
       "total_session_time      127804.000000\n",
       "avg_session_time          3258.666667\n",
       "max_session_time          4713.111111\n",
       "max_session_action          18.000000\n",
       "mean_session_action          9.250000\n",
       "mean_secs_per_action       763.366667\n",
       "max_between_session     567165.000000\n",
       "mean_between_session    246697.333333\n",
       "Name: 00023iyk9l, dtype: float64"
      ]
     },
     "execution_count": 223,
     "metadata": {},
     "output_type": "execute_result"
    }
   ],
   "source": [
    "user_af.loc[unique_ids[i]]"
   ]
  },
  {
   "cell_type": "code",
   "execution_count": 10,
   "metadata": {
    "collapsed": true
   },
   "outputs": [],
   "source": [
    "session_df['minutes_elapsed']=np.round(session_df['secs_elapsed']/60)\n",
    "session_df['hours_elapsed']= np.round(session_df['secs_elapsed']/3600,1)\n",
    "session_df['days_elapsed']= np.round(session_df['secs_elapsed']/(3600*24),1)"
   ]
  },
  {
   "cell_type": "code",
   "execution_count": null,
   "metadata": {
    "collapsed": true
   },
   "outputs": [],
   "source": []
  },
  {
   "cell_type": "code",
   "execution_count": 103,
   "metadata": {
    "collapsed": true
   },
   "outputs": [],
   "source": [
    "unique_ids = session_grouped.index.values\n",
    "user_af = pd.DataFrame(index=unique_ids) ## Create collected dataframe for new features"
   ]
  },
  {
   "cell_type": "code",
   "execution_count": 127,
   "metadata": {
    "collapsed": true
   },
   "outputs": [],
   "source": [
    "for i in unique_ids:\n",
    "    user = session_df[session_df['user_id']==unique_ids[i]]\n",
    "\n",
    "    "
   ]
  },
  {
   "cell_type": "code",
   "execution_count": 13,
   "metadata": {
    "collapsed": false
   },
   "outputs": [
    {
     "name": "stdout",
     "output_type": "stream",
     "text": [
      "1 loops, best of 3: 841 ms per loop\n"
     ]
    }
   ],
   "source": [
    "%%timeit\n",
    "\n",
    "for i in range(2):\n",
    "    user = session_df[session_df['user_id']==unique_ids[i]]\n",
    "\n",
    "    ## Number of different devices used\n",
    "    *user_af.loc[unique_ids[i],'num_device_types'] = len(np.unique(user['device_type'].values))\n",
    "\n",
    "\n",
    "    ## Number of sessions\n",
    "    tbs = 10 # elapsed time defining new session\n",
    "    *user_af.loc[unique_ids[i],'num_sessions'] = sum(user['hours_elapsed']>10)+1\n",
    "\n",
    "\n",
    "    ## Number of different days\n",
    "    user_af.loc[unique_ids[i],'num_days_active'] = sum(user['days_elapsed']>=1)+1\n",
    "\n",
    "\n",
    "    ### Time during sessions\n",
    "    split_indices = user['hours_elapsed']>tbs\n",
    "    time_in_sessions = user[user['hours_elapsed']<=tbs]['secs_elapsed']\n",
    "\n",
    "    *user_af.loc[unique_ids[i],'total_session_time '] = time_in_sessions.sum()\n",
    "\n",
    "    #Average and Max Session Times\n",
    "    B = np.split(time_in_sessions,np.where(split_indices)[0])\n",
    "    session_times = [b.mean() for b in B]\n",
    "    session_action_count = [len(b) for b in B]\n",
    "\n",
    "    --user_af.loc[unique_ids[i],'avg_session_time'] = np.mean(session_times)\n",
    "    x user_af.loc[unique_ids[i],'max_session_time'] = np.max(session_times)\n",
    "    x user_af.loc[unique_ids[i],'max_session_action'] = np.max(session_action_count)\n",
    "    x user_af.loc[unique_ids[i],'mean_session_action'] = np.mean(session_action_count)\n",
    "\n",
    "\n",
    "    ## Average Time per Action, excluding large gaps\n",
    "    *user_af.loc[unique_ids[i],'mean_secs_per_action'] = np.mean(user[user['secs_elapsed']<=3600]['secs_elapsed'])\n",
    "\n",
    "\n",
    "\n",
    "    ### Time between sessions\n",
    "    time_between_sessions = user[user['hours_elapsed']>tbs]['secs_elapsed']\n",
    "\n",
    "    *user_af.loc[unique_ids[i],'max_between_session'] = time_between_sessions.max()\n",
    "    *user_af.loc[unique_ids[i],'mean_between_session'] = time_between_sessions.mean()\n",
    "\n",
    "    #time_between_sessions\n"
   ]
  },
  {
   "cell_type": "code",
   "execution_count": 129,
   "metadata": {
    "collapsed": false
   },
   "outputs": [
    {
     "data": {
      "text/plain": [
       "3573928     36.1\n",
       "3573937     12.0\n",
       "3573942    157.5\n",
       "Name: hours_elapsed, dtype: float64"
      ]
     },
     "execution_count": 129,
     "metadata": {},
     "output_type": "execute_result"
    }
   ],
   "source": [
    "\n",
    "\n"
   ]
  },
  {
   "cell_type": "code",
   "execution_count": null,
   "metadata": {
    "collapsed": true
   },
   "outputs": [],
   "source": []
  },
  {
   "cell_type": "code",
   "execution_count": null,
   "metadata": {
    "collapsed": true
   },
   "outputs": [],
   "source": []
  },
  {
   "cell_type": "code",
   "execution_count": null,
   "metadata": {
    "collapsed": true
   },
   "outputs": [],
   "source": []
  },
  {
   "cell_type": "code",
   "execution_count": null,
   "metadata": {
    "collapsed": true
   },
   "outputs": [],
   "source": []
  },
  {
   "cell_type": "code",
   "execution_count": null,
   "metadata": {
    "collapsed": true
   },
   "outputs": [],
   "source": []
  },
  {
   "cell_type": "code",
   "execution_count": null,
   "metadata": {
    "collapsed": true
   },
   "outputs": [],
   "source": []
  },
  {
   "cell_type": "code",
   "execution_count": null,
   "metadata": {
    "collapsed": true
   },
   "outputs": [],
   "source": []
  },
  {
   "cell_type": "code",
   "execution_count": 66,
   "metadata": {
    "collapsed": true
   },
   "outputs": [
    {
     "name": "stderr",
     "output_type": "stream",
     "text": [
      "c:\\Anaconda3\\lib\\site-packages\\ipykernel\\__main__.py:1: SettingWithCopyWarning: \n",
      "A value is trying to be set on a copy of a slice from a DataFrame.\n",
      "Try using .loc[row_indexer,col_indexer] = value instead\n",
      "\n",
      "See the caveats in the documentation: http://pandas.pydata.org/pandas-docs/stable/indexing.html#indexing-view-versus-copy\n",
      "  if __name__ == '__main__':\n",
      "c:\\Anaconda3\\lib\\site-packages\\ipykernel\\__main__.py:2: SettingWithCopyWarning: \n",
      "A value is trying to be set on a copy of a slice from a DataFrame.\n",
      "Try using .loc[row_indexer,col_indexer] = value instead\n",
      "\n",
      "See the caveats in the documentation: http://pandas.pydata.org/pandas-docs/stable/indexing.html#indexing-view-versus-copy\n",
      "  from ipykernel import kernelapp as app\n",
      "c:\\Anaconda3\\lib\\site-packages\\ipykernel\\__main__.py:3: SettingWithCopyWarning: \n",
      "A value is trying to be set on a copy of a slice from a DataFrame.\n",
      "Try using .loc[row_indexer,col_indexer] = value instead\n",
      "\n",
      "See the caveats in the documentation: http://pandas.pydata.org/pandas-docs/stable/indexing.html#indexing-view-versus-copy\n",
      "  app.launch_new_instance()\n"
     ]
    }
   ],
   "source": [
    "user['minutes_elapsed']=user['secs_elapsed']/60\n",
    "user['hours_elapsed']=user['secs_elapsed']/3600\n",
    "user['days_elapsed']=user['secs_elapsed']/(3600*24)"
   ]
  },
  {
   "cell_type": "code",
   "execution_count": null,
   "metadata": {
    "collapsed": true
   },
   "outputs": [],
   "source": [
    "user['num_sesso']"
   ]
  },
  {
   "cell_type": "code",
   "execution_count": 70,
   "metadata": {
    "collapsed": true
   },
   "outputs": [
    {
     "data": {
      "text/plain": [
       "7531832    28.466667\n",
       "7531834    20.383333\n",
       "7531835     0.433333\n",
       "7531836    14.116667\n",
       "7531837    20.500000\n",
       "7531838     2.483333\n",
       "7531839     9.750000\n",
       "7531840    14.083333\n",
       "7531841     0.000000\n",
       "7531842     0.366667\n",
       "7531844     0.500000\n",
       "7531845    11.233333\n",
       "7531846     2.950000\n",
       "7531847     0.816667\n",
       "7531850     2.950000\n",
       "7531852    72.316667\n",
       "7531853     2.083333\n",
       "7531854     2.083333\n",
       "7531857    12.000000\n",
       "7531858    14.116667\n",
       "7531860    20.416667\n",
       "7531861     0.600000\n",
       "7531862    28.766667\n",
       "7531863     4.050000\n",
       "7531864     0.566667\n",
       "7531867    17.500000\n",
       "7531868     0.750000\n",
       "7531869    25.516667\n",
       "7531870     2.833333\n",
       "7531871     0.883333\n",
       "7531873    18.016667\n",
       "7531874     1.383333\n",
       "7531875    37.050000\n",
       "7531876     1.700000\n",
       "7531877     1.516667\n",
       "7531880    18.416667\n",
       "7531881     1.800000\n",
       "7531882    38.233333\n",
       "7531883     3.200000\n",
       "7531884     0.150000\n",
       "7531885    54.866667\n",
       "7531887    22.650000\n",
       "7531888     0.650000\n",
       "7531889    33.216667\n",
       "7531890     2.983333\n",
       "7531891     0.766667\n",
       "7531892     0.050000\n",
       "7531894    44.566667\n",
       "Name: minutes_elapsed, dtype: float64"
      ]
     },
     "execution_count": 70,
     "metadata": {},
     "output_type": "execute_result"
    }
   ],
   "source": [
    "#np.sum\n",
    "(user[user['hours_elapsed']<=2]['minutes_elapsed'])"
   ]
  },
  {
   "cell_type": "code",
   "execution_count": 54,
   "metadata": {
    "collapsed": false
   },
   "outputs": [
    {
     "data": {
      "text/plain": [
       "20.880166666666668"
      ]
     },
     "execution_count": 54,
     "metadata": {},
     "output_type": "execute_result"
    }
   ],
   "source": [
    "user_af.loc[unique_ids[1],'avg_session_time'] = np.mean(user[user['hours_elapsed']>10]['hours_elapsed'])"
   ]
  },
  {
   "cell_type": "code",
   "execution_count": 51,
   "metadata": {
    "collapsed": false
   },
   "outputs": [
    {
     "data": {
      "text/plain": [
       "num_sessions                5.000000\n",
       "num_days                    2.000000\n",
       "num_separate_days_active    6.788692\n",
       "Name: 0010k6l0om, dtype: float64"
      ]
     },
     "execution_count": 51,
     "metadata": {},
     "output_type": "execute_result"
    }
   ],
   "source": [
    "user_af.loc[unique_ids[1],'num_sessions'] = sum(user['hours_elapsed']>10) + 1\n",
    "\n",
    "user_af.loc[unique_ids[1],'avg_time_between_sessions'] = np.mean(user[user['hours_elapsed']>10]['hours_elapsed'])\n",
    "\n",
    "user_af.loc[unique_ids[1],'avg_session_time'] = np.mean(user[user['hours_elapsed']>10]['hours_elapsed'])\n",
    "\n",
    "\n",
    "user_af.loc[unique_ids[1],'num_days'] = sum(user['days_elapsed']>1)\n",
    "\n",
    "user_af.loc[unique_ids[1]]"
   ]
  },
  {
   "cell_type": "code",
   "execution_count": 36,
   "metadata": {
    "collapsed": false,
    "scrolled": true
   },
   "outputs": [],
   "source": []
  },
  {
   "cell_type": "code",
   "execution_count": 49,
   "metadata": {
    "collapsed": false
   },
   "outputs": [
    {
     "data": {
      "text/plain": [
       "num_sessions                6.000000\n",
       "num_days                    6.788692\n",
       "num_separate_days_active    6.788692\n",
       "Name: 0010k6l0om, dtype: float64"
      ]
     },
     "execution_count": 49,
     "metadata": {},
     "output_type": "execute_result"
    }
   ],
   "source": []
  },
  {
   "cell_type": "code",
   "execution_count": null,
   "metadata": {
    "collapsed": true
   },
   "outputs": [],
   "source": []
  },
  {
   "cell_type": "code",
   "execution_count": null,
   "metadata": {
    "collapsed": true
   },
   "outputs": [],
   "source": [
    "#Number of days since first active"
   ]
  },
  {
   "cell_type": "code",
   "execution_count": null,
   "metadata": {
    "collapsed": true
   },
   "outputs": [],
   "source": []
  },
  {
   "cell_type": "code",
   "execution_count": null,
   "metadata": {
    "collapsed": true
   },
   "outputs": [],
   "source": []
  },
  {
   "cell_type": "code",
   "execution_count": null,
   "metadata": {
    "collapsed": false
   },
   "outputs": [],
   "source": []
  },
  {
   "cell_type": "code",
   "execution_count": null,
   "metadata": {
    "collapsed": false,
    "scrolled": true
   },
   "outputs": [],
   "source": [
    "X = pd.merge(airbnb_df,session_grouped,left_on='id',right_index=True,how='inner')\n",
    "X.info()"
   ]
  },
  {
   "cell_type": "code",
   "execution_count": null,
   "metadata": {
    "collapsed": false
   },
   "outputs": [],
   "source": [
    "Y = pd.merge(test_df,session_grouped,left_on='id',right_index=True,how='inner')\n",
    "Y.info()"
   ]
  },
  {
   "cell_type": "code",
   "execution_count": null,
   "metadata": {
    "collapsed": false,
    "scrolled": true
   },
   "outputs": [],
   "source": [
    "X.head()"
   ]
  },
  {
   "cell_type": "code",
   "execution_count": null,
   "metadata": {
    "collapsed": false,
    "scrolled": true
   },
   "outputs": [],
   "source": [
    "X['booked'] = X['country_destination']!='NDF'\n",
    "sns.violinplot(data = X[X['action']<200], y = 'action',x = 'booked')\n",
    "plt.xlabel('number of actions')"
   ]
  },
  {
   "cell_type": "code",
   "execution_count": null,
   "metadata": {
    "collapsed": false,
    "scrolled": true
   },
   "outputs": [],
   "source": [
    "X['booked'] = X['country_destination']!='NDF'\n",
    "sns.violinplot(data = X[X['secs_elapsed']<1e7], y = 'secs_elapsed',x = 'booked')\n",
    "plt.xlabel('number of actions')"
   ]
  },
  {
   "cell_type": "code",
   "execution_count": null,
   "metadata": {
    "collapsed": false,
    "scrolled": false
   },
   "outputs": [],
   "source": [
    "\n",
    "plt.scatter(X['booked'],X['secs_elapsed'],alpha=0.5)\n"
   ]
  },
  {
   "cell_type": "code",
   "execution_count": null,
   "metadata": {
    "collapsed": false,
    "scrolled": false
   },
   "outputs": [],
   "source": [
    "\n",
    "plt.scatter(X['action'],X['secs_elapsed'],c=X['booked'])\n",
    "plt.legend(['No booking','Booked'])"
   ]
  },
  {
   "cell_type": "code",
   "execution_count": null,
   "metadata": {
    "collapsed": false,
    "scrolled": true
   },
   "outputs": [],
   "source": [
    "sns.distplot(X['action'],c=)"
   ]
  },
  {
   "cell_type": "code",
   "execution_count": null,
   "metadata": {
    "collapsed": false
   },
   "outputs": [],
   "source": [
    "fig,ax = plt.subplots(figsize=(8,5))\n",
    "sns.distplot(X[X['booked']==True]['secs_elapsed'],hist_kws={\"normed\":1})\n",
    "sns.distplot(X[X['booked']==False]['secs_elapsed'],color='y',hist_kws={\"normed\":1})"
   ]
  },
  {
   "cell_type": "code",
   "execution_count": null,
   "metadata": {
    "collapsed": false,
    "scrolled": true
   },
   "outputs": [],
   "source": [
    "print(sum(X['booked']))\n",
    "len(X)"
   ]
  },
  {
   "cell_type": "code",
   "execution_count": null,
   "metadata": {
    "collapsed": false
   },
   "outputs": [],
   "source": [
    "session_df.columns"
   ]
  },
  {
   "cell_type": "code",
   "execution_count": null,
   "metadata": {
    "collapsed": false
   },
   "outputs": [],
   "source": [
    "A = session_df.groupby(['action','action_type']).count()['user_id'].sort_values(ascending=False)\n",
    "A"
   ]
  },
  {
   "cell_type": "code",
   "execution_count": null,
   "metadata": {
    "collapsed": false
   },
   "outputs": [],
   "source": [
    "print(len(A[A>100]))\n",
    "print(A[A>100])"
   ]
  }
 ],
 "metadata": {
  "kernelspec": {
   "display_name": "Python 3",
   "language": "python",
   "name": "python3"
  },
  "language_info": {
   "codemirror_mode": {
    "name": "ipython",
    "version": 3
   },
   "file_extension": ".py",
   "mimetype": "text/x-python",
   "name": "python",
   "nbconvert_exporter": "python",
   "pygments_lexer": "ipython3",
   "version": "3.5.1"
  }
 },
 "nbformat": 4,
 "nbformat_minor": 0
}
